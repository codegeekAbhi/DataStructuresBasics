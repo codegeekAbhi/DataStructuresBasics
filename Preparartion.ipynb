{
 "cells": [
  {
   "cell_type": "markdown",
   "id": "b4bdea9f",
   "metadata": {},
   "source": [
    "# Captilaize in python"
   ]
  },
  {
   "cell_type": "code",
   "execution_count": 1,
   "id": "0d535a5f",
   "metadata": {},
   "outputs": [
    {
     "name": "stdout",
     "output_type": "stream",
     "text": [
      "Get_code\n"
     ]
    }
   ],
   "source": [
    "a =\"get_code\"\n",
    "print(a.capitalize())"
   ]
  },
  {
   "cell_type": "code",
   "execution_count": 1,
   "id": "fc0b0fe0",
   "metadata": {},
   "outputs": [
    {
     "name": "stdout",
     "output_type": "stream",
     "text": [
      "[1, 1, 1, 2, 4, 8, 3, 9, 27, 4, 16, 64]\n"
     ]
    }
   ],
   "source": [
    "# num, num^2, num^3 ....repeat for (num+1) then (num+2) ... so on\n",
    "lst = [ base**power for base in range(1, 5) for power in range(1,4)]\n",
    "print(lst)\n"
   ]
  },
  {
   "cell_type": "markdown",
   "id": "a443b08b",
   "metadata": {},
   "source": [
    "Find a series of numbers from where two lists don’t overlap"
   ]
  },
  {
   "cell_type": "code",
   "execution_count": 4,
   "id": "e9ff9c26",
   "metadata": {},
   "outputs": [
    {
     "name": "stdout",
     "output_type": "stream",
     "text": [
      "[9, 11, 26, 28]\n"
     ]
    }
   ],
   "source": [
    "list1 = [4, 9, 1, 17, 11, 26, 28, 54, 69]  \n",
    "list2 = [9, 9, 74, 21, 45, 11, 63, 28, 26]\n",
    "list3 = print([value for value in list1 if value in list2])"
   ]
  },
  {
   "cell_type": "code",
   "execution_count": 8,
   "id": "e95b7fb2",
   "metadata": {},
   "outputs": [],
   "source": [
    "l = [4, 9, 1, 17]  \n",
    "l1 = [9, 9, 74, 21]"
   ]
  },
  {
   "cell_type": "code",
   "execution_count": 9,
   "id": "bf7bb71b",
   "metadata": {},
   "outputs": [
    {
     "data": {
      "text/plain": [
       "[4, 9, 1, 17, 9, 9, 74, 21]"
      ]
     },
     "execution_count": 9,
     "metadata": {},
     "output_type": "execute_result"
    }
   ],
   "source": [
    "l.extend(l1)\n",
    "l"
   ]
  },
  {
   "cell_type": "code",
   "execution_count": 8,
   "id": "c5d4bde5",
   "metadata": {},
   "outputs": [
    {
     "name": "stdout",
     "output_type": "stream",
     "text": [
      "[1, 4, 9, 9, 9, 9, 9, 9, 9, 17, 21, 21, 21, 74, 74, 74]\n"
     ]
    }
   ],
   "source": [
    "l.sort()\n",
    "print(l)"
   ]
  },
  {
   "cell_type": "code",
   "execution_count": 10,
   "id": "5072a49d",
   "metadata": {},
   "outputs": [
    {
     "data": {
      "text/plain": [
       "{1, 4, 9, 17, 21, 74}"
      ]
     },
     "execution_count": 10,
     "metadata": {},
     "output_type": "execute_result"
    }
   ],
   "source": [
    "set(l)"
   ]
  },
  {
   "cell_type": "markdown",
   "id": "84d53b5b",
   "metadata": {},
   "source": [
    "# List.pop() , list.remove() and del"
   ]
  },
  {
   "cell_type": "markdown",
   "id": "e0e7d8a6",
   "metadata": {},
   "source": [
    "The pop() method removes the item at the given index from the list and returns the removed item.\n",
    "\n",
    "The remove() method removes the first matching element (which is passed as an argument) from the list.\n",
    "\n",
    "Using del keyword\n",
    "To remove an element from the list, you can use the del keyword followed by a list. You have to pass the index of the element to the list. \n",
    "\n",
    "Syntax:\n",
    "\n",
    "del list[index]\n",
    "\n",
    "del list[start:stop]"
   ]
  },
  {
   "cell_type": "code",
   "execution_count": 1,
   "id": "fdcc2ad9",
   "metadata": {},
   "outputs": [
    {
     "name": "stdout",
     "output_type": "stream",
     "text": [
      "9\n"
     ]
    }
   ],
   "source": [
    "list1 = [ 1, 2, 3, 4, 5, 6,7,8,9]\n",
    "print(list1.pop(8))"
   ]
  },
  {
   "cell_type": "code",
   "execution_count": 2,
   "id": "32aae432",
   "metadata": {},
   "outputs": [
    {
     "name": "stdout",
     "output_type": "stream",
     "text": [
      "8\n"
     ]
    }
   ],
   "source": [
    "print(list1.pop())"
   ]
  },
  {
   "cell_type": "code",
   "execution_count": 2,
   "id": "f46d00e5",
   "metadata": {},
   "outputs": [
    {
     "name": "stdout",
     "output_type": "stream",
     "text": [
      "[0, 1, 2, 3, 4, 5, 6, 7, 8, 9]\n",
      "[1, 2, 3, 4, 5, 6, 7, 8, 9]\n",
      "[1, 2, 3, 4, 5, 6, 7, 8]\n",
      "[1, 2, 3, 4, 5, 6, 8]\n"
     ]
    }
   ],
   "source": [
    "l = list(range(10))\n",
    "print(l)\n",
    "# [0, 1, 2, 3, 4, 5, 6, 7, 8, 9]\n",
    "\n",
    "del l[0]\n",
    "print(l)\n",
    "# [1, 2, 3, 4, 5, 6, 7, 8, 9]\n",
    "\n",
    "del l[-1]\n",
    "print(l)\n",
    "# [1, 2, 3, 4, 5, 6, 7, 8]\n",
    "\n",
    "del l[6]\n",
    "print(l)\n",
    "# [1, 2, 3, 4, 5, 6, 8]"
   ]
  },
  {
   "cell_type": "code",
   "execution_count": 1,
   "id": "6c7b17ee",
   "metadata": {},
   "outputs": [
    {
     "name": "stdout",
     "output_type": "stream",
     "text": [
      "Updated List:  [2, 3, 5, 7, 11]\n"
     ]
    }
   ],
   "source": [
    "# create a list\n",
    "prime_numbers = [2, 3, 5, 7, 9, 11]\n",
    "\n",
    "# remove 9 from the list\n",
    "prime_numbers.remove(9)\n",
    "\n",
    "\n",
    "# Updated prime_numbers List\n",
    "print('Updated List: ', prime_numbers)\n",
    "\n",
    "# Output: Updated List:  [2, 3, 5, 7, 11]"
   ]
  },
  {
   "cell_type": "markdown",
   "id": "d707efac",
   "metadata": {},
   "source": [
    "# Given an array of random integers, find the index of first non-repeating integer in the array."
   ]
  },
  {
   "cell_type": "code",
   "execution_count": 4,
   "id": "d6a2caad",
   "metadata": {},
   "outputs": [
    {
     "name": "stdout",
     "output_type": "stream",
     "text": [
      "m: {9: 2, 4: 2, 6: 1, 7: 1}\n",
      "6 7 "
     ]
    }
   ],
   "source": [
    "def firstNonRepeating(arr, n):\n",
    "     \n",
    "    # Insert all array elements in hash\n",
    "    # table\n",
    "    m={}\n",
    "    for i in range(n):\n",
    "        if arr[i] not in m:\n",
    "            m[arr[i]]=0\n",
    "        #m[arr[i]]=1\n",
    "        #print(\"m1:\",m)\n",
    "        m[arr[i]]+=1\n",
    "        \n",
    "    print(\"m:\",m)#prints the occurence of each element\n",
    "         \n",
    "    # Traverse through map only and\n",
    "    for x in m:\n",
    "        if (m[x] == 1):\n",
    "            print(x,end=\" \")\n",
    "             \n",
    "# Driver code\n",
    "arr = [ 9, 4, 9, 6, 7, 4 ]\n",
    "n = len(arr)\n",
    "firstNonRepeating(arr, n)"
   ]
  },
  {
   "cell_type": "code",
   "execution_count": 5,
   "id": "7b1b5ea5",
   "metadata": {},
   "outputs": [
    {
     "name": "stdout",
     "output_type": "stream",
     "text": [
      "9 4 6 7 "
     ]
    }
   ],
   "source": [
    "def firstNonRepeating(arr, n):\n",
    "     \n",
    "    # Insert all array elements in hash\n",
    "    # table\n",
    "    m={}\n",
    "    for i in range(n):\n",
    "        if arr[i] not in m:\n",
    "            m[arr[i]]=0\n",
    "        m[arr[i]]=1 # just removed + from here in above code\n",
    "         \n",
    "    # Traverse through map only and\n",
    "    for x in m:\n",
    "        if (m[x] == 1):\n",
    "            print(x,end=\" \")\n",
    "             \n",
    "# Driver code\n",
    "arr = [ 9, 4, 9, 6, 7, 4 ]\n",
    "n = len(arr)\n",
    "firstNonRepeating(arr, n)"
   ]
  },
  {
   "cell_type": "code",
   "execution_count": 3,
   "id": "78d70ade",
   "metadata": {},
   "outputs": [
    {
     "name": "stdout",
     "output_type": "stream",
     "text": [
      "[9, 8, 7, 6, 11]\n"
     ]
    }
   ],
   "source": [
    "l= [9,9,8,7,6,11,11]\n",
    "n= len(l)\n",
    "m=[]\n",
    "for i in range(len(l)):\n",
    "    if l[i] not in m:\n",
    "        m.append(l[i])\n",
    "print(m)\n",
    "\n"
   ]
  },
  {
   "cell_type": "code",
   "execution_count": 4,
   "id": "1a555269",
   "metadata": {},
   "outputs": [
    {
     "name": "stdout",
     "output_type": "stream",
     "text": [
      "[9, 8, 7, 6, 11]\n"
     ]
    }
   ],
   "source": [
    "l= [9,9,8,7,6,11,11]\n",
    "n= len(l)\n",
    "m=[]\n",
    "for i in l:\n",
    "    if i not in m:\n",
    "        m.append(i)\n",
    "print(m)\n",
    "\n",
    "\n"
   ]
  },
  {
   "cell_type": "markdown",
   "id": "2f32aad5",
   "metadata": {},
   "source": [
    "# Program to find Maximum value from text"
   ]
  },
  {
   "cell_type": "code",
   "execution_count": 2,
   "id": "a17ee56a",
   "metadata": {},
   "outputs": [
    {
     "name": "stdout",
     "output_type": "stream",
     "text": [
      "Max_value: 7\n"
     ]
    }
   ],
   "source": [
    "# import module for regular expression and collections\n",
    "import re\n",
    "#input\n",
    "string='ab7cd1t2p3ef2j3'\n",
    "\n",
    "#seperate number from string\n",
    "\n",
    "number = re.findall('\\d+', string)\n",
    "#convert it into integer\n",
    "\n",
    "number = map(int, number)\n",
    "#print(number)\n",
    "print(\"Max_value:\",max(number))"
   ]
  },
  {
   "cell_type": "markdown",
   "id": "66eed2d3",
   "metadata": {},
   "source": [
    "# What are inheritance, various levels of inheritance, polymorphism, abstraction in OOPs and how do we implement them in Python."
   ]
  },
  {
   "cell_type": "markdown",
   "id": "8d7be6dc",
   "metadata": {},
   "source": [
    "Inheritance is the capability of one class to derive or inherit the properties from another class. The benefits of inheritance are: \n",
    " \n",
    "\n",
    "It represents real-world relationships well.\n",
    "It provides reusability of a code. We don’t have to write the same code again and again. Also, it allows us to add more features to a class without modifying it.\n",
    "It is transitive in nature, which means that if class B inherits from another class A, then all the subclasses of B would automatically inherit from class A."
   ]
  },
  {
   "cell_type": "code",
   "execution_count": 4,
   "id": "09669fcd",
   "metadata": {},
   "outputs": [
    {
     "name": "stdout",
     "output_type": "stream",
     "text": [
      "Geek1 False\n",
      "Geek2 True\n"
     ]
    }
   ],
   "source": [
    "class Person(object):\n",
    "      \n",
    "    # Constructor\n",
    "    def __init__(self, name):\n",
    "        self.name = name\n",
    "  \n",
    "    # To get name\n",
    "    def getName(self):\n",
    "        return self.name\n",
    "  \n",
    "    # To check if this person is an employee\n",
    "    def isEmployee(self):\n",
    "        return False\n",
    "  \n",
    "  \n",
    "# Inherited or Subclass (Note Person in bracket)\n",
    "class Employee(Person):\n",
    "  \n",
    "    # Here we return true\n",
    "    def isEmployee(self):\n",
    "        return True\n",
    "  \n",
    "# Driver code\n",
    "emp = Person(\"Geek1\")  # An Object of Person\n",
    "print(emp.getName(), emp.isEmployee())\n",
    "  \n",
    "emp = Employee(\"Geek2\") # An Object of Employee\n",
    "print(emp.getName(), emp.isEmployee())"
   ]
  },
  {
   "cell_type": "markdown",
   "id": "688aaa2c",
   "metadata": {},
   "source": [
    "Different forms of Inheritance: \n",
    "1. Single inheritance: When a child class inherits from only one parent class, it is called single inheritance. We saw an example above.\n",
    "2. Multiple inheritance: When a child class inherits from multiple parent classes, it is called multiple inheritance. \n",
    "\n",
    "Unlike java, python shows multiple inheritance.\n",
    "\n",
    "3. Multilevel inheritance: When we have a child and grandchild relationship.\n",
    "\n",
    "\n",
    "4. Hierarchical inheritance More than one derived classes are created from a single base.\n",
    "5. Hybrid inheritance: This form combines more than one form of inheritance. Basically, it is a blend of more than one type of inheritance."
   ]
  },
  {
   "cell_type": "code",
   "execution_count": 7,
   "id": "539d166d",
   "metadata": {},
   "outputs": [
    {
     "name": "stdout",
     "output_type": "stream",
     "text": [
      "Base1\n",
      "Base2\n",
      "Derived\n",
      "Geek1 Geek2\n"
     ]
    }
   ],
   "source": [
    "class Base1(object):\n",
    "    def __init__(self):\n",
    "        self.str1 = \"Geek1\"\n",
    "        print(\"Base1\")\n",
    " \n",
    "class Base2(object):\n",
    "    def __init__(self):\n",
    "        self.str2 = \"Geek2\"       \n",
    "        print(\"Base2\")\n",
    " \n",
    "class Derived(Base1, Base2):\n",
    "    def __init__(self):\n",
    "         \n",
    "        # Calling constructors of Base1\n",
    "        # and Base2 classes\n",
    "        Base1.__init__(self)\n",
    "        Base2.__init__(self)\n",
    "        print(\"Derived\")\n",
    "         \n",
    "    def printStrs(self):\n",
    "        print(self.str1, self.str2)\n",
    "        \n",
    " \n",
    "ob = Derived()\n",
    "ob.printStrs()"
   ]
  },
  {
   "cell_type": "markdown",
   "id": "2c34e9a1",
   "metadata": {},
   "source": [
    "Multilevel inheritance: When we have a child and grandchild relationship."
   ]
  },
  {
   "cell_type": "code",
   "execution_count": 8,
   "id": "197179e7",
   "metadata": {},
   "outputs": [
    {
     "name": "stdout",
     "output_type": "stream",
     "text": [
      "Geek1 23 Noida\n"
     ]
    }
   ],
   "source": [
    "# A Python program to demonstrate inheritance\n",
    "\n",
    "# Base or Super class. Note object in bracket.\n",
    "# (Generally, object is made ancestor of all classes)\n",
    "# In Python 3.x \"class Person\" is\n",
    "# equivalent to \"class Person(object)\"\n",
    "class Base(object):\n",
    "\t\n",
    "\t# Constructor\n",
    "\tdef __init__(self, name):\n",
    "\t\tself.name = name\n",
    "\n",
    "\t# To get name\n",
    "\tdef getName(self):\n",
    "\t\treturn self.name\n",
    "\n",
    "\n",
    "# Inherited or Sub class (Note Person in bracket)\n",
    "class Child(Base):\n",
    "\t\n",
    "\t# Constructor\n",
    "\tdef __init__(self, name, age):\n",
    "\t\tBase.__init__(self, name)\n",
    "\t\tself.age = age\n",
    "\n",
    "\t# To get name\n",
    "\tdef getAge(self):\n",
    "\t\treturn self.age\n",
    "\n",
    "# Inherited or Sub class (Note Person in bracket)\n",
    "class GrandChild(Child):\n",
    "\t\n",
    "\t# Constructor\n",
    "\tdef __init__(self, name, age, address):\n",
    "\t\tChild.__init__(self, name, age)\n",
    "\t\tself.address = address\n",
    "\n",
    "\t# To get address\n",
    "\tdef getAddress(self):\n",
    "\t\treturn self.address\t\n",
    "\n",
    "# Driver code\n",
    "g = GrandChild(\"Geek1\", 23, \"Noida\")\n",
    "print(g.getName(), g.getAge(), g.getAddress())\n"
   ]
  },
  {
   "cell_type": "code",
   "execution_count": null,
   "id": "91baf21d",
   "metadata": {},
   "outputs": [],
   "source": [
    "# Python program to demonstrate private members\n",
    "# of the parent class\n",
    "class C(object):\n",
    "\tdef __init__(self):\n",
    "\t\t\tself.c = 21\n",
    "\n",
    "\t\t\t# d is private instance variable\n",
    "\t\t\tself.__d = 42\n",
    "class D(C):\n",
    "\tdef __init__(self):\n",
    "\t\t\tself.e = 84\n",
    "\t\t\tC.__init__(self)\n",
    "object1 = D()\n",
    "\n",
    "# produces an error as d is private instance variable\n",
    "print(object1.d)\t\t\t\t\t\n"
   ]
  },
  {
   "cell_type": "markdown",
   "id": "d2dab162",
   "metadata": {},
   "source": [
    "# Polymorphism"
   ]
  },
  {
   "cell_type": "markdown",
   "id": "db0dfee1",
   "metadata": {},
   "source": [
    "What is Polymorphism:\n",
    "\n",
    "The word polymorphism means having many forms. In programming, polymorphism means the same function name (but different signatures) being used for different types.\n",
    "Example of inbuilt polymorphic functions : \n",
    " \n",
    "\n"
   ]
  },
  {
   "cell_type": "code",
   "execution_count": 10,
   "id": "cbf976b6",
   "metadata": {},
   "outputs": [
    {
     "name": "stdout",
     "output_type": "stream",
     "text": [
      "5\n",
      "3\n"
     ]
    }
   ],
   "source": [
    "\n",
    "# Python program to demonstrate in-built poly-\n",
    "# morphic functions\n",
    " \n",
    "# len() being used for a string\n",
    "print(len(\"geeks\"))\n",
    " \n",
    "# len() being used for a list\n",
    "print(len([10, 20, 30]))"
   ]
  },
  {
   "cell_type": "markdown",
   "id": "b08d6151",
   "metadata": {},
   "source": [
    "# Abstraction in Python :\n",
    "\n",
    "Abstraction is used to hide the internal functionality of the function from the users. The users only interact with the basic implementation of the function, but inner working is hidden. User is familiar with that \"what function does\" but they don't know \"how it does.\"\n",
    "\n",
    "\n",
    "\n",
    "Why Abstraction is Important?\n",
    "\n",
    "In Python, an abstraction is used to hide the irrelevant data/class in order to reduce the complexity. It also enhances the application efficiency. Next, we will learn how we can achieve abstraction using the Python program."
   ]
  },
  {
   "cell_type": "code",
   "execution_count": 11,
   "id": "6f815e17",
   "metadata": {},
   "outputs": [
    {
     "name": "stdout",
     "output_type": "stream",
     "text": [
      "I can walk and run\n",
      "I can crawl\n",
      "I can bark\n",
      "I can roar\n"
     ]
    }
   ],
   "source": [
    "# Python program showing\n",
    "# abstract base class work\n",
    "\n",
    "from abc import ABC, abstractmethod\n",
    "class Animal(ABC):\n",
    "\n",
    "\tdef move(self):\n",
    "\t\tpass\n",
    "\n",
    "class Human(Animal):\n",
    "\n",
    "\tdef move(self):\n",
    "\t\tprint(\"I can walk and run\")\n",
    "\n",
    "class Snake(Animal):\n",
    "\n",
    "\tdef move(self):\n",
    "\t\tprint(\"I can crawl\")\n",
    "\n",
    "class Dog(Animal):\n",
    "\n",
    "\tdef move(self):\n",
    "\t\tprint(\"I can bark\")\n",
    "\n",
    "class Lion(Animal):\n",
    "\n",
    "\tdef move(self):\n",
    "\t\tprint(\"I can roar\")\n",
    "\t\t\n",
    "# Driver code\n",
    "R = Human()\n",
    "R.move()\n",
    "\n",
    "K = Snake()\n",
    "K.move()\n",
    "\n",
    "R = Dog()\n",
    "R.move()\n",
    "\n",
    "K = Lion()\n",
    "K.move()\n"
   ]
  },
  {
   "cell_type": "markdown",
   "id": "8116b5e7",
   "metadata": {},
   "source": [
    "# Decorators in Python"
   ]
  },
  {
   "cell_type": "markdown",
   "id": "4c6a4433",
   "metadata": {},
   "source": [
    "Decorators are a very powerful and useful tool in Python since it allows programmers to modify the behaviour of function or class. Decorators allow us to wrap another function in order to extend the behaviour of the wrapped function, without permanently modifying it."
   ]
  },
  {
   "cell_type": "markdown",
   "id": "29d43e12",
   "metadata": {},
   "source": [
    "Syntax for Decorator: \n",
    "\n",
    "@gfg_decorator\n",
    "\n",
    "\n",
    "def hello_decorator():\n",
    "\n",
    "    print(\"Gfg\")\n",
    "\n",
    "'''Above code is equivalent to -\n",
    "\n",
    "\n",
    "\n",
    "def hello_decorator():\n",
    "\n",
    "    print(\"Gfg\")\n",
    "\n",
    "\n",
    "\n",
    "hello_decorator = gfg_decorator(hello_decorator)'''"
   ]
  },
  {
   "cell_type": "code",
   "execution_count": 2,
   "id": "28c63d4a",
   "metadata": {},
   "outputs": [
    {
     "name": "stdout",
     "output_type": "stream",
     "text": [
      "me first\n",
      "me 2nd\n",
      "me 3rd\n"
     ]
    }
   ],
   "source": [
    "def fun(txt):\n",
    "    #print(txt)\n",
    "    \n",
    "    def new_func():\n",
    "        print(\"me first\")\n",
    "        txt()\n",
    "        print(\"me 3rd\")\n",
    "    return new_func\n",
    "\n",
    "# instead of writing the last line,here we can use @ symbol to say decorator\n",
    "def r_func():\n",
    "    print(\"me 2nd\")\n",
    "    \n",
    "r_func=fun(r_func)\n",
    "r_func()"
   ]
  },
  {
   "cell_type": "code",
   "execution_count": 3,
   "id": "9bbecac3",
   "metadata": {},
   "outputs": [
    {
     "name": "stdout",
     "output_type": "stream",
     "text": [
      "me first\n",
      "me 2nd\n",
      "me 3rd\n"
     ]
    }
   ],
   "source": [
    "def fun(txt):\n",
    "    #print(txt)\n",
    "    \n",
    "    def new_func():\n",
    "        print(\"me first\")\n",
    "        txt()\n",
    "        print(\"me 3rd\")\n",
    "    return new_func\n",
    "\n",
    "@fun\n",
    "def r_func():\n",
    "    print(\"me 2nd\")\n",
    "    \n",
    "\n",
    "r_func()"
   ]
  },
  {
   "cell_type": "code",
   "execution_count": 3,
   "id": "0135c2b4",
   "metadata": {},
   "outputs": [
    {
     "name": "stdout",
     "output_type": "stream",
     "text": [
      "Hello, this is before function execution\n",
      "This is inside the function !!\n",
      "This is after function execution\n"
     ]
    }
   ],
   "source": [
    "# defining a decorator\n",
    "def hello_decorator(func):\n",
    "\n",
    "\t# inner1 is a Wrapper function in\n",
    "\t# which the argument is called\n",
    "\t\n",
    "\t# inner function can access the outer local\n",
    "\t# functions like in this case \"func\"\n",
    "\tdef inner1():\n",
    "\t\tprint(\"Hello, this is before function execution\")\n",
    "\n",
    "\t\t# calling the actual function now\n",
    "\t\t# inside the wrapper function.\n",
    "\t\tfunc()\n",
    "\n",
    "\t\tprint(\"This is after function execution\")\n",
    "\t\t\n",
    "\treturn inner1\n",
    "\n",
    "\n",
    "# defining a function, to be called inside wrapper\n",
    "def function_to_be_used():\n",
    "\tprint(\"This is inside the function !!\")\n",
    "\n",
    "\n",
    "# passing 'function_to_be_used' inside the\n",
    "# decorator to control its behaviour\n",
    "function_to_be_used = hello_decorator(function_to_be_used)\n",
    "\n",
    "\n",
    "# calling the function\n",
    "function_to_be_used()\n"
   ]
  },
  {
   "cell_type": "code",
   "execution_count": 1,
   "id": "0034120b",
   "metadata": {},
   "outputs": [
    {
     "name": "stdout",
     "output_type": "stream",
     "text": [
      "HELLO THERE!\n"
     ]
    }
   ],
   "source": [
    "def uppercase(fun):\n",
    "\n",
    "    def wrapper():\n",
    "\n",
    "        res = fun()\n",
    "        modified = res.upper()\n",
    "\n",
    "        return modified\n",
    "    return wrapper\n",
    "\n",
    "\n",
    "@uppercase\n",
    "def gen_message():\n",
    "    return 'Hello there!'\n",
    "\n",
    "\n",
    "msg = gen_message()\n",
    "print(msg)"
   ]
  },
  {
   "cell_type": "markdown",
   "id": "5eb0bf7e",
   "metadata": {},
   "source": [
    "# Using Decorator take string as input and return in Caps the same string\n"
   ]
  },
  {
   "cell_type": "code",
   "execution_count": 2,
   "id": "a352ef2e",
   "metadata": {},
   "outputs": [
    {
     "name": "stdout",
     "output_type": "stream",
     "text": [
      "Abhi\n",
      "ABHI\n"
     ]
    }
   ],
   "source": [
    "def uppercase(fun):\n",
    "\n",
    "    def wrapper():\n",
    "\n",
    "        res = fun()\n",
    "        modified = res.upper()\n",
    "\n",
    "        return modified\n",
    "    return wrapper\n",
    "\n",
    "\n",
    "@uppercase\n",
    "def gen_message():\n",
    "    return s\n",
    "\n",
    "s=str(input())\n",
    "s = gen_message()\n",
    "print(s)"
   ]
  },
  {
   "cell_type": "markdown",
   "id": "6b6bbde3",
   "metadata": {},
   "source": [
    "# Generators in python"
   ]
  },
  {
   "cell_type": "markdown",
   "id": "15958a8b",
   "metadata": {},
   "source": [
    "Generator-Function : \n",
    "\n",
    "\n",
    "A generator-function is defined like a normal function, but whenever it needs to generate a value, it does so with the yield keyword rather than return. If the body of a def contains yield, the function automatically becomes a generator function."
   ]
  },
  {
   "cell_type": "code",
   "execution_count": 15,
   "id": "25f9acfe",
   "metadata": {},
   "outputs": [
    {
     "name": "stdout",
     "output_type": "stream",
     "text": [
      "1\n",
      "2\n",
      "3\n"
     ]
    }
   ],
   "source": [
    "# A generator function that yields 1 for first time,\n",
    "# 2 second time and 3 third time\n",
    "def simpleGeneratorFun():\n",
    "\tyield 1\t\t\t\n",
    "\tyield 2\t\t\t\n",
    "\tyield 3\t\t\t\n",
    "\n",
    "# Driver code to check above generator function\n",
    "for value in simpleGeneratorFun():\n",
    "\tprint(value)\n"
   ]
  },
  {
   "cell_type": "code",
   "execution_count": 2,
   "id": "f3f52294",
   "metadata": {},
   "outputs": [
    {
     "name": "stdout",
     "output_type": "stream",
     "text": [
      "[[1, 2], [3, 4], [5, 6], [7, 8], [9]]\n"
     ]
    }
   ],
   "source": [
    "def split(list_a, chunk_size):\n",
    "\n",
    "  for i in range(0, len(list_a), chunk_size):\n",
    "    yield list_a[i:i + chunk_size]\n",
    "\n",
    "chunk_size = 2\n",
    "my_list = [1,2,3,4,5,6,7,8,9]\n",
    "print(list(split(my_list, chunk_size)))\n",
    "\n",
    "#print(split(my_list, chunk_size))"
   ]
  },
  {
   "cell_type": "markdown",
   "id": "9b0133e2",
   "metadata": {},
   "source": [
    "# Map And Filter"
   ]
  },
  {
   "cell_type": "markdown",
   "id": "cf567b19",
   "metadata": {},
   "source": [
    "The map() function executes a specified function for each item in an iterable. The item is sent to the function as a parameter.\n",
    "\n",
    "Syntax :\n",
    "    \n",
    "map(function, iterables)\n"
   ]
  },
  {
   "cell_type": "code",
   "execution_count": 7,
   "id": "b91eed02",
   "metadata": {},
   "outputs": [
    {
     "name": "stdout",
     "output_type": "stream",
     "text": [
      "<map object at 0x7fd767f4d880>\n",
      "['appleorange', 'bananalemon', 'cherrypineapple']\n"
     ]
    }
   ],
   "source": [
    "def myfunc(a, b):\n",
    "  return a + b\n",
    "\n",
    "x = map(myfunc, ('apple', 'banana', 'cherry'), ('orange', 'lemon', 'pineapple'))\n",
    "print(x)\n",
    "\n",
    "#convert the map into a list, for readability:\n",
    "print(list(x))"
   ]
  },
  {
   "cell_type": "code",
   "execution_count": 1,
   "id": "bfde10ca",
   "metadata": {},
   "outputs": [
    {
     "name": "stdout",
     "output_type": "stream",
     "text": [
      "[2, 4, 6]\n"
     ]
    }
   ],
   "source": [
    "numbers = [1, 2, 3, 4, 5, 6, 7]\n",
    "\n",
    "# the lambda function returns True for even numbers \n",
    "even_numbers_iterator = filter(lambda x: (x%2 == 0), numbers)\n",
    "\n",
    "# converting to list\n",
    "even_numbers = list(even_numbers_iterator)\n",
    "\n",
    "print(even_numbers)\n"
   ]
  },
  {
   "cell_type": "code",
   "execution_count": 16,
   "id": "d4822263",
   "metadata": {},
   "outputs": [
    {
     "name": "stdout",
     "output_type": "stream",
     "text": [
      "5\n"
     ]
    }
   ],
   "source": [
    "lamb= lambda x,y: x + y\n",
    "print(lamb(2,3))"
   ]
  },
  {
   "cell_type": "code",
   "execution_count": 11,
   "id": "cef7c727",
   "metadata": {},
   "outputs": [
    {
     "name": "stdout",
     "output_type": "stream",
     "text": [
      "6\n"
     ]
    }
   ],
   "source": [
    "\n",
    "n= lambda a,b: a*b\n",
    "print(n(2,3))"
   ]
  },
  {
   "cell_type": "markdown",
   "id": "652c493a",
   "metadata": {},
   "source": [
    "# Iterators in Python"
   ]
  },
  {
   "cell_type": "markdown",
   "id": "07c068a4",
   "metadata": {},
   "source": [
    "In Python, an iterator is an object used to iterate over iterable objects such as lists, tuples, dictionaries, and sets. An object is called iterable if we can get an iterator from it or loop over it. \n",
    "\n",
    "Python iter()\n",
    "\n",
    "The iter() function in Python returns an iterator for the supplied object. The iter() generates a thing that can be iterated one element at a time. These items are handy when combined with loops such as for loops and while loops. \n",
    "\n",
    "Syntax:\n",
    "\n",
    "iter( object , sentinel )\n",
    "iter() function takes two parameters:\n",
    "\n",
    "Object: An object whose iterator needs to be created (lists, sets, tuples, etc.)\n",
    "\n",
    "\n",
    "Sentinel (optional): Special value that represents the end of the sequence.\n",
    "\n",
    " \n",
    "\n",
    "\n",
    "\n",
    "\n"
   ]
  },
  {
   "cell_type": "markdown",
   "id": "0c2a24f0",
   "metadata": {},
   "source": [
    "# Python next()\n",
    "\n",
    "The next() function returns the next item from the iterator. The next() function holds the value one at a time. \n",
    "\n",
    "Syntax:\n",
    "\n",
    "next( iterator , default )\n",
    "The next() method accepts two parameters:\n",
    "\n",
    "Iterator : next( ) function retrieves the next item from the iterator.\n",
    "\n",
    "default(optional): this value is returned if the iterator is exhausted (not tired, but no next item to retrieve).\n",
    "\n",
    "Let’s consider an example for better understanding:\n",
    "\n",
    "Assume we have a list of different types as given below. "
   ]
  },
  {
   "cell_type": "code",
   "execution_count": 8,
   "id": "a89cdb43",
   "metadata": {},
   "outputs": [
    {
     "name": "stdout",
     "output_type": "stream",
     "text": [
      "a: <list_iterator object at 0x7fda23f26250>\n",
      "d: 25\n",
      "78\n",
      "Coding\n",
      "is\n",
      "<3\n"
     ]
    }
   ],
   "source": [
    "\n",
    "#Let’s print it with the help of Iterators ( or iter() and next() ):-\n",
    "\n",
    "# Program to print the list using Iterator protocols\n",
    "X = [25, 78, 'Coding', 'is', '<3']\n",
    "# Get an iterator using iter() \n",
    "a = iter(X)\n",
    "\n",
    "# Printing the a iterator\n",
    "print(\"a:\",a)\n",
    "d= next(a)\n",
    "print(\"d:\",d)\n",
    "      \n",
    "# next() for fetching the 1st element in the list that is 25\n",
    "print(next(a))\n",
    "\n",
    "# Fetch the 2nd element in the list that is 78\n",
    "print(next(a))\n",
    "\n",
    "# Fetching the consecutive elements\n",
    "print(next(a))\n",
    "print(next(a))\n"
   ]
  },
  {
   "cell_type": "markdown",
   "id": "85ee12bb",
   "metadata": {},
   "source": [
    "# Finding the mid-element of a singly linked list."
   ]
  },
  {
   "cell_type": "markdown",
   "id": "844f5c05",
   "metadata": {},
   "source": [
    "Method 1: \n",
    "Traverse the whole linked list and count the no. of nodes. Now traverse the list again till count/2 and return the node at count/2. \n",
    "\n",
    "Method 2: \n",
    "Traverse linked list using two pointers. Move one pointer by one and the other pointers by two. When the fast pointer reaches the end slow pointer will reach the middle of the linked list.\n",
    "\n",
    "Below image shows how printMiddle function works in the code :"
   ]
  },
  {
   "cell_type": "code",
   "execution_count": 14,
   "id": "04377cb4",
   "metadata": {},
   "outputs": [
    {
     "name": "stdout",
     "output_type": "stream",
     "text": [
      "5->NULL\n",
      "The middle element is  5\n",
      "4->5->NULL\n",
      "The middle element is  5\n",
      "3->4->5->NULL\n",
      "The middle element is  4\n",
      "2->3->4->5->NULL\n",
      "The middle element is  4\n",
      "1->2->3->4->5->NULL\n",
      "The middle element is  3\n"
     ]
    }
   ],
   "source": [
    "# Python3 program to find middle of linked list\n",
    "# Node class\n",
    "class Node:\n",
    "\t\n",
    "\t# Function to initialise the node object\n",
    "\tdef __init__(self, data):\n",
    "\t\tself.data = data # Assign data\n",
    "\t\tself.next = None # Initialize next as null\n",
    "\t\n",
    "\t\n",
    "# Linked List class contains a Node object\n",
    "class LinkedList:\n",
    "\t\n",
    "\t# Function to initialize head\n",
    "\tdef __init__(self):\n",
    "\t\tself.head = None\n",
    "\n",
    "\t# Function to insert a new node at the beginning\n",
    "\tdef push(self, new_data):\n",
    "\t\tnew_node = Node(new_data)\n",
    "\t\tnew_node.next = self.head\n",
    "\t\tself.head = new_node\n",
    "\n",
    "\t# Print the linked list\n",
    "\tdef printList(self):\n",
    "\t\tnode = self.head\n",
    "\t\twhile node:\n",
    "\t\t\tprint(str(node.data) + \"->\", end=\"\")\n",
    "\t\t\tnode = node.next\n",
    "\t\tprint(\"NULL\")\n",
    "\n",
    "\t# Function that returns middle.\n",
    "\tdef printMiddle(self):\n",
    "\t\t# Initialize two pointers, one will go one step a time (slow), another two at a time (fast)\n",
    "\t\tslow = self.head\n",
    "\t\tfast = self.head\n",
    "\n",
    "\t\t# Iterate till fast's next is null (fast reaches end)\n",
    "\t\twhile fast and fast.next:\n",
    "\t\t\tslow = slow.next\n",
    "\t\t\tfast = fast.next.next\n",
    "\t\t\n",
    "\t\t# return the slow's data, which would be the middle element.\n",
    "\t\tprint(\"The middle element is \", slow.data)\n",
    "\n",
    "# Code execution starts here\n",
    "if __name__=='__main__':\n",
    "\t\n",
    "\t# Start with the empty list\n",
    "\tllist = LinkedList()\n",
    "\t\n",
    "\tfor i in range(5, 0, -1):\n",
    "\t\tllist.push(i)\n",
    "\t\tllist.printList()\n",
    "\t\tllist.printMiddle()\n",
    "\n",
    "# Code is contributed by Kumar Shivam (kshivi99)\n"
   ]
  },
  {
   "cell_type": "markdown",
   "id": "db4de651",
   "metadata": {},
   "source": [
    "# Given a Queue and an integer K, reverse the first K elements in the Queue."
   ]
  },
  {
   "cell_type": "code",
   "execution_count": 13,
   "id": "ff56669b",
   "metadata": {},
   "outputs": [
    {
     "name": "stdout",
     "output_type": "stream",
     "text": [
      "50 40 30 20 10 60 70 80 90 100 "
     ]
    }
   ],
   "source": [
    "# Python3 program to reverse first k\n",
    "# elements of a queue.\n",
    "from queue import Queue\n",
    "\n",
    "# Function to reverse the first K\n",
    "# elements of the Queue\n",
    "def reverseQueueFirstKElements(k, Queue):\n",
    "\tif (Queue.empty() == True or\n",
    "\t\t\tk > Queue.qsize()):\n",
    "\t\treturn\n",
    "\tif (k <= 0):\n",
    "\t\treturn\n",
    "\n",
    "\tStack = []\n",
    "\n",
    "\t# put the first K elements\n",
    "\t# into a Stack\n",
    "\tfor i in range(k):\n",
    "\t\tStack.append(Queue.queue[0])\n",
    "\t\tQueue.get()\n",
    "\n",
    "\t# Enqueue the contents of stack\n",
    "\t# at the back of the queue\n",
    "\twhile (len(Stack) != 0 ):\n",
    "\t\tQueue.put(Stack[-1])\n",
    "\t\tStack.pop()\n",
    "\n",
    "\t# Remove the remaining elements and\n",
    "\t# enqueue them at the end of the Queue\n",
    "\tfor i in range(Queue.qsize() - k):\n",
    "\t\tQueue.put(Queue.queue[0])\n",
    "\t\tQueue.get()\n",
    "\n",
    "# Utility Function to print the Queue\n",
    "def Print(Queue):\n",
    "\twhile (not Queue.empty()):\n",
    "\t\tprint(Queue.queue[0], end =\" \")\n",
    "\t\tQueue.get()\n",
    "\n",
    "# Driver code\n",
    "if __name__ == '__main__':\n",
    "\tQueue = Queue()\n",
    "\tQueue.put(10)\n",
    "\tQueue.put(20)\n",
    "\tQueue.put(30)\n",
    "\tQueue.put(40)\n",
    "\tQueue.put(50)\n",
    "\tQueue.put(60)\n",
    "\tQueue.put(70)\n",
    "\tQueue.put(80)\n",
    "\tQueue.put(90)\n",
    "\tQueue.put(100)\n",
    "\n",
    "\tk = 5\n",
    "\treverseQueueFirstKElements(k, Queue)\n",
    "\tPrint(Queue)\n",
    "\n",
    "# This code is contributed by PranchalK\n"
   ]
  },
  {
   "cell_type": "markdown",
   "id": "6b6b12b3",
   "metadata": {},
   "source": [
    "# Class method vs Static method in Python"
   ]
  },
  {
   "cell_type": "markdown",
   "id": "e6cc64b0",
   "metadata": {},
   "source": [
    "Class Method :\n",
    "\n",
    "The @classmethod decorator is a built-in function decorator that is an expression that gets evaluated after your function is defined. The result of that evaluation shadows your function definition. \n",
    "A class method receives the class as an implicit first argument, just like an instance method receives the instance \n",
    "\n",
    "Syntax: \n",
    "\n",
    "class C(object):\n",
    "\n",
    "\n",
    "    @classmethod\n",
    "    \n",
    "    def fun(cls, arg1, arg2, ...):\n",
    "    \n",
    "       ....\n",
    "       \n",
    "       \n",
    "\n",
    " \n",
    "\n",
    "\n"
   ]
  },
  {
   "cell_type": "markdown",
   "id": "0c816b2d",
   "metadata": {},
   "source": [
    "# "
   ]
  },
  {
   "cell_type": "markdown",
   "id": "51274cff",
   "metadata": {},
   "source": [
    "       \n",
    "fun: function that needs to be converted into a class method\n",
    "\n",
    "returns: a class method for function.\n",
    "\n",
    "A class method is a method that is bound to the class and not the object of the class.\n",
    "\n",
    "They have the access to the state of the class as it takes a class parameter that points to the class and not the object instance.\n",
    "\n",
    "It can modify a class state that would apply across all the instances of the class. For example, it can modify a class variable that will be applicable to all the instances."
   ]
  },
  {
   "cell_type": "markdown",
   "id": "bec7c0ab",
   "metadata": {},
   "source": [
    "# Static Method\n",
    "\n",
    "A static method does not receive an implicit first argument. \n",
    "\n",
    "Syntax: \n",
    "\n",
    "class C(object):\n",
    "\n",
    "    @staticmethod\n",
    "    \n",
    "    def fun(arg1, arg2, ...):\n",
    "\n",
    "\n",
    "...\n",
    "\n",
    "returns: a static method for function fun.\n",
    "\n",
    "A static method is also a method that is bound to the class and not the object of the class.\n",
    "\n",
    "A static method can’t access or modify the class state.\n",
    "\n",
    "It is present in a class because it makes sense for the method to be present in class."
   ]
  },
  {
   "cell_type": "markdown",
   "id": "8d45a2c1",
   "metadata": {},
   "source": [
    "# Class method vs Static Method :\n",
    "\n",
    "\n",
    "A class method takes cls as the first parameter while a static method needs no specific parameters.\n",
    "\n",
    "A class method can access or modify the class state while a static method can’t access or modify it.\n",
    "\n",
    "In general, static methods know nothing about the class state. They are utility-type methods that take some parameters and work upon those parameters. On the other hand class methods must have class as a parameter.\n",
    "\n",
    "We use @classmethod decorator in python to create a class method and we use @staticmethod decorator to create a static method in python.\n"
   ]
  },
  {
   "cell_type": "markdown",
   "id": "d41fa9c4",
   "metadata": {},
   "source": [
    "When to use what?\n",
    "\n",
    "We generally use class method to create factory methods.\n",
    "\n",
    "Factory methods return class objects ( similar to a constructor ) for different use cases.\n",
    "\n",
    "We generally use static methods to create utility functions.\n",
    "\n",
    "How to define a class method and a static method?\n",
    "\n",
    "To define a class method in python, we use @classmethod decorator, and to define a static method we use @staticmethod decorator."
   ]
  },
  {
   "cell_type": "code",
   "execution_count": 20,
   "id": "ca0d2dd6",
   "metadata": {},
   "outputs": [
    {
     "name": "stdout",
     "output_type": "stream",
     "text": [
      "21\n",
      "26\n",
      "True\n"
     ]
    }
   ],
   "source": [
    "# Python program to demonstrate\n",
    "# use of class method and static method.\n",
    "from datetime import date\n",
    "\n",
    "class Person:\n",
    "\tdef __init__(self, name, age):\n",
    "\t\tself.name = name\n",
    "\t\tself.age = age\n",
    "\t\n",
    "\t# a class method to create a Person object by birth year.\n",
    "\t@classmethod\n",
    "\tdef fromBirthYear(cls, name, year):\n",
    "\t\treturn cls(name, date.today().year - year)\n",
    "\t\n",
    "\t# a static method to check if a Person is adult or not.\n",
    "\t@staticmethod\n",
    "\tdef isAdult(age):\n",
    "\t\treturn age > 18\n",
    "\n",
    "person1 = Person('mayank', 21)\n",
    "person2 = Person.fromBirthYear('mayank', 1996)\n",
    "\n",
    "print (person1.age)\n",
    "print (person2.age)\n",
    "\n",
    "# print the result\n",
    "print (Person.isAdult(22))\n"
   ]
  },
  {
   "cell_type": "markdown",
   "id": "e3331d29",
   "metadata": {},
   "source": [
    "# Namespaces "
   ]
  },
  {
   "cell_type": "markdown",
   "id": "84588fd2",
   "metadata": {},
   "source": [
    "Namespaces in Python. A namespace is a collection of currently defined symbolic names along with information about the object that each name references. You can think of a namespace as a dictionary in which the keys are the object names and the values are the objects themselves. in Python. "
   ]
  },
  {
   "cell_type": "markdown",
   "id": "77c27be6",
   "metadata": {},
   "source": [
    "# "
   ]
  },
  {
   "cell_type": "markdown",
   "id": "68186a08",
   "metadata": {},
   "source": [
    "Types of namespaces :\n",
    "\n",
    "Built-in namespace\n",
    "\n",
    "Global namespace\n",
    "\n",
    "local namespace.\n",
    "\n",
    "Enclosing"
   ]
  },
  {
   "cell_type": "markdown",
   "id": "ad6a36c9",
   "metadata": {},
   "source": [
    "built-in namespace : iter,len,sum,range,map,max\n",
    "\n",
    "Local Namespace:\n",
    "\n",
    "myNum1 = 10\n",
    "\n",
    "myNum2 = 10\n",
    "\n",
    "\n",
    "def add(num1, num2):\n",
    "\n",
    "    temp = num1 + num2\n",
    "    \n",
    "    return temp\n",
    "    \n",
    "Here, the variable names num1, num2 and temp are defined in the local namespace in the function add.\n",
    "\n",
    "\n",
    "\n",
    "Global Namespace :\n",
    "\n",
    "# Python program processing\n",
    "# global variable\n",
    "\n",
    "count = 5\n",
    "\n",
    "def some_method():\n",
    "\n",
    "\tglobal count\n",
    "    \n",
    "\tcount = count + 1\n",
    "    \n",
    "\tprint(count)\n",
    "    \n",
    "some_method()\n",
    "\n",
    "Scope refers to the coding region from which a particular Python object is accessible. Hence one cannot access any particular object from anywhere from the code, the accessing has to be allowed by the scope of the object."
   ]
  },
  {
   "cell_type": "markdown",
   "id": "3bf6c75a",
   "metadata": {},
   "source": [
    "# Enclosing: \n",
    "\n",
    "When a function is defined inside a function, it creates an enclosed namespace. Its lifecycle is the same as the local namespace. "
   ]
  },
  {
   "cell_type": "markdown",
   "id": "438a524b",
   "metadata": {},
   "source": [
    "# Types of vars"
   ]
  },
  {
   "cell_type": "markdown",
   "id": "d8e9fb93",
   "metadata": {},
   "source": [
    "Variables are nothing but reserved memory locations to store values. This means that when you create a variable you reserve some space in memory.\n",
    "\n",
    "Global and Local Variables in Python\n",
    "\n",
    " \n",
    "Global variables are those which are not defined inside any function and have a global scope whereas local variables are those which are defined inside a function and its scope is limited to that function only. In other words, we can say that local variables are accessible only inside the function in which it was initialized whereas the global variables are accessible throughout the program and inside every function. \n",
    "\n",
    "Local Variables\n",
    "Local variables are those which are initialized inside a function and belongs only to that particular function. It cannot be accessed anywhere outside the function. Let’s see how to create a local variable."
   ]
  },
  {
   "cell_type": "code",
   "execution_count": 21,
   "id": "73954a71",
   "metadata": {},
   "outputs": [
    {
     "name": "stdout",
     "output_type": "stream",
     "text": [
      "I love Geeksforgeeks\n"
     ]
    }
   ],
   "source": [
    "#Creating local variables\n",
    "\n",
    "\n",
    "def f():\n",
    "     \n",
    "    # local variable\n",
    "    s = \"I love Geeksforgeeks\"\n",
    "    print(s)\n",
    " \n",
    "# Driver code\n",
    "f()"
   ]
  },
  {
   "cell_type": "code",
   "execution_count": 22,
   "id": "7968ef71",
   "metadata": {},
   "outputs": [
    {
     "name": "stdout",
     "output_type": "stream",
     "text": [
      "Inside Function I love Geeksforgeeks\n",
      "Outside Function I love Geeksforgeeks\n"
     ]
    }
   ],
   "source": [
    "#Defining and accessing global variables\n",
    "\n",
    "\n",
    "# This function uses global variable s\n",
    "def f():\n",
    "    print(\"Inside Function\", s)\n",
    " \n",
    "# Global scope\n",
    "s = \"I love Geeksforgeeks\"\n",
    "f()\n",
    "print(\"Outside Function\", s)"
   ]
  },
  {
   "cell_type": "markdown",
   "id": "c96fd0c5",
   "metadata": {},
   "source": [
    "# Encapsulation in Python"
   ]
  },
  {
   "cell_type": "markdown",
   "id": "a152a3ef",
   "metadata": {},
   "source": [
    " It describes the idea of wrapping data and the methods that work on data within one unit. This puts restrictions on accessing variables and methods directly and can prevent the accidental modification of data. To prevent accidental change, an object’s variable can only be changed by an object’s method. Those types of variables are known as private variables.\n",
    "\n",
    "A class is an example of encapsulation as it encapsulates all the data that is member functions, variables, etc."
   ]
  },
  {
   "cell_type": "markdown",
   "id": "322ea294",
   "metadata": {},
   "source": [
    "# Abstraction vs Encapsulation"
   ]
  },
  {
   "cell_type": "markdown",
   "id": "0fc71bbb",
   "metadata": {},
   "source": [
    "Abstraction\t vs Encapsulation\n",
    "\n",
    "Abstraction works on the design level.\tEncapsulation works on the application level.\n",
    "\n",
    "Abstraction is implemented to hide unnecessary data and withdrawing relevant data.\tEncapsulation is the mechanism of hiding the code and the data together from the outside world or misuse.\n",
    "\n",
    "Abstraction highlights what the work of an object instead of how the object works is. \n",
    "EncapsulationIt focuses on the inner details of how the object works.Modifications can be done later to the settings.\n",
    "\n",
    "Abstraction focuses on outside viewing, for example, shifting the car.\tEncapsulation focuses on internal working or inner viewing, for example, the production of the car."
   ]
  },
  {
   "cell_type": "markdown",
   "id": "d1106703",
   "metadata": {},
   "source": [
    "# Access Modifiers in Python : Public, Private and Protected"
   ]
  },
  {
   "cell_type": "markdown",
   "id": "be2f974f",
   "metadata": {},
   "source": [
    "Python uses ‘_’ symbol to determine the access control for a specific data member or a member function of a class. \n",
    "A Class in Python has three types of access modifiers:\n",
    "\n",
    "Public Access Modifier\n",
    "\n",
    "Protected Access Modifier\n",
    "\n",
    "Private Access Modifier\n",
    " "
   ]
  },
  {
   "cell_type": "markdown",
   "id": "74fc12c1",
   "metadata": {},
   "source": [
    "# Public Access Modifier:\n",
    "The members of a class that are declared public are easily accessible from any part of the program. All data members and member functions of a class are public by default."
   ]
  },
  {
   "cell_type": "code",
   "execution_count": 6,
   "id": "9b508c65",
   "metadata": {},
   "outputs": [
    {
     "name": "stdout",
     "output_type": "stream",
     "text": [
      "Name:  R2J\n",
      "Age:  20\n"
     ]
    }
   ],
   "source": [
    "# program to illustrate public access modifier in a class\n",
    "\n",
    "class Geek:\n",
    "\t\n",
    "\t# constructor\n",
    "\tdef __init__(self, name, age):\n",
    "\t\t\n",
    "\t\t# public data members\n",
    "\t\tself.geekName = name\n",
    "\t\tself.geekAge = age\n",
    "\n",
    "\t# public member function\t\n",
    "\tdef displayAge(self):\n",
    "\t\t\n",
    "\t\t# accessing public data member\n",
    "\t\tprint(\"Age: \", self.geekAge)\n",
    "\n",
    "# creating object of the class\n",
    "obj = Geek(\"R2J\", 20)\n",
    "\n",
    "\n",
    "# accessing public data member\n",
    "print(\"Name: \", obj.geekName)\n",
    "\n",
    "# calling public member function of the class\n",
    "obj.displayAge()\n"
   ]
  },
  {
   "cell_type": "markdown",
   "id": "d0bfbd6a",
   "metadata": {},
   "source": [
    "In the above program, geekName and geekAge are public data members and displayAge() method is a public member function of the class Geek. These data members of the class Geek can be accessed from anywhere in the program."
   ]
  },
  {
   "cell_type": "markdown",
   "id": "38c4f960",
   "metadata": {},
   "source": [
    "# Protected Access Modifier:\n",
    "The members of a class that are declared protected are only accessible to a class derived from it. Data members of a class are declared protected by adding a single underscore ‘_’ symbol before the data member of that class."
   ]
  },
  {
   "cell_type": "code",
   "execution_count": 9,
   "id": "625a9fb4",
   "metadata": {},
   "outputs": [
    {
     "name": "stdout",
     "output_type": "stream",
     "text": [
      "Name of protected:  R2J\n",
      "Roll:  1706256\n",
      "Branch:  Information Technology\n"
     ]
    }
   ],
   "source": [
    "# program to illustrate protected access modifier in a class\n",
    "\n",
    "# super class\n",
    "class Student:\n",
    "\t\n",
    "\t# protected data members\n",
    "\t_name = None\n",
    "\t_roll = None\n",
    "\t_branch = None\n",
    "\t\n",
    "\t# constructor\n",
    "\tdef __init__(self, name, roll, branch):\n",
    "\t\tself._name = name\n",
    "\t\tself._roll = roll\n",
    "\t\tself._branch = branch\n",
    "\t\n",
    "\t# protected member function\n",
    "\tdef _displayRollAndBranch(self):\n",
    "\n",
    "\t\t# accessing protected data members\n",
    "\t\tprint(\"Roll: \", self._roll)\n",
    "\t\tprint(\"Branch: \", self._branch)\n",
    "\n",
    "\n",
    "# derived class\n",
    "class Geek(Student):\n",
    "\n",
    "\t# constructor\n",
    "\tdef __init__(self, name, roll, branch):\n",
    "\t\t\t\tStudent.__init__(self, name, roll, branch)\n",
    "\t\t\n",
    "\t# public member function\n",
    "\tdef displayDetails(self):\n",
    "\t\t\t\t\n",
    "\t\t\t\t# accessing protected data members of super class\n",
    "\t\t\t\tprint(\"Name of protected: \", self._name)\n",
    "\t\t\t\t\n",
    "\t\t\t\t# accessing protected member functions of super class\n",
    "\t\t\t\tself._displayRollAndBranch()\n",
    "\n",
    "# creating objects of the derived class\t\n",
    "obj = Geek(\"R2J\", 1706256, \"Information Technology\")\n",
    "\n",
    "# calling public member functions of the class\n",
    "obj.displayDetails()\n"
   ]
  },
  {
   "cell_type": "markdown",
   "id": "992fc625",
   "metadata": {},
   "source": [
    "In the above program, _name, _roll, and _branch are protected data members and _displayRollAndBranch() method is a protected method of the super class Student. The displayDetails() method is a public member function of the class Geek which is derived from the Student class, the displayDetails() method in Geek class accesses the protected data members of the Student class. \n"
   ]
  },
  {
   "cell_type": "markdown",
   "id": "dcd22bdb",
   "metadata": {},
   "source": [
    "# Private Access Modifier:\n",
    "\n",
    "The members of a class that are declared private are accessible within the class only, private access modifier is the most secure access modifier. Data members of a class are declared private by adding a double underscore ‘__’ symbol before the data member of that class. "
   ]
  },
  {
   "cell_type": "code",
   "execution_count": 26,
   "id": "07aaee5b",
   "metadata": {},
   "outputs": [
    {
     "name": "stdout",
     "output_type": "stream",
     "text": [
      "Name:  R2J\n",
      "Roll:  1706256\n",
      "Branch:  Information Technology\n"
     ]
    }
   ],
   "source": [
    "# program to illustrate private access modifier in a class\n",
    "\n",
    "class Geek:\n",
    "\t\n",
    "\t# private members\n",
    "\t__name = None\n",
    "\t__roll = None\n",
    "\t__branch = None\n",
    "\n",
    "\t# constructor\n",
    "\tdef __init__(self, name, roll, branch):\n",
    "\t\tself.__name = name\n",
    "\t\tself.__roll = roll\n",
    "\t\tself.__branch = branch\n",
    "\n",
    "\t# private member function\n",
    "\tdef __displayDetails(self):\n",
    "\t\t\n",
    "\t\t# accessing private data members\n",
    "\t\tprint(\"Name: \", self.__name)\n",
    "\t\tprint(\"Roll: \", self.__roll)\n",
    "\t\tprint(\"Branch: \", self.__branch)\n",
    "\t\n",
    "\t# public member function\n",
    "\tdef accessPrivateFunction(self):\n",
    "\t\t\t\n",
    "\t\t# accessing private member function\n",
    "\t\tself.__displayDetails()\n",
    "\n",
    "# creating object\n",
    "obj = Geek(\"R2J\", 1706256, \"Information Technology\")\n",
    "\n",
    "# calling public member function of the class\n",
    "obj.accessPrivateFunction()\n"
   ]
  },
  {
   "cell_type": "markdown",
   "id": "857b8b1c",
   "metadata": {},
   "source": [
    "In the above program, __name, __roll and __branch are private members, __displayDetails() method is a private member function (these can only be accessed within the class) and accessPrivateFunction() method is a public member function of the class Geek which can be accessed from anywhere within the program. The accessPrivateFunction() method accesses the private members of the class Geek."
   ]
  },
  {
   "cell_type": "markdown",
   "id": "046211e2",
   "metadata": {},
   "source": [
    "# Private methods"
   ]
  },
  {
   "cell_type": "markdown",
   "id": "3e7c2795",
   "metadata": {},
   "source": [
    "Private methods are those methods that should neither be accessed outside the class nor by any base class. In Python, there is no existence of Private methods that cannot be accessed except inside a class. However, to define a private method prefix the member name with double underscore “__”.\n",
    "\n",
    "Note: The __init__ method is a constructor and runs as soon as an object of a class is instantiated.\n",
    "\n",
    " __init__() is a special private method (rather than variable) called a “dunder method”."
   ]
  },
  {
   "cell_type": "markdown",
   "id": "d4b1a18f",
   "metadata": {},
   "source": [
    "# python mem management"
   ]
  },
  {
   "cell_type": "markdown",
   "id": "c0dd3976",
   "metadata": {},
   "source": [
    "Python uses the dynamic memory allocation which is managed by the Heap data structure. Memory Heap holds the objects and other data structures that will be used in the program. Python memory manager manages the allocation or de-allocation of the heap memory space through the API functions."
   ]
  },
  {
   "cell_type": "markdown",
   "id": "f25c0967",
   "metadata": {},
   "source": [
    "# Frozensets are like sets except that they cannot be changed, i.e. they are immutable"
   ]
  },
  {
   "cell_type": "markdown",
   "id": "e278dedf",
   "metadata": {},
   "source": [
    "# "
   ]
  },
  {
   "cell_type": "markdown",
   "id": "86d0e9cd",
   "metadata": {},
   "source": [
    "# Deep Copy and Shallow Copy"
   ]
  },
  {
   "cell_type": "markdown",
   "id": "9fe5c4f4",
   "metadata": {},
   "source": [
    "Copy an Object in Python :\n",
    "\n",
    "\n",
    "In Python, we use = operator to create a copy of an object. You may think that this creates a new object; it doesn't. It only creates a new variable that shares the reference of the original object."
   ]
  },
  {
   "cell_type": "markdown",
   "id": "2434f814",
   "metadata": {},
   "source": [
    "# Shallow Copy :\n",
    "\n",
    "A shallow copy creates a new object which stores the reference of the original elements.\n",
    "\n",
    "So, a shallow copy doesn't create a copy of nested objects, instead it just copies the reference of nested objects. This means, a copy process does not recurse or create copies of nested objects itself."
   ]
  },
  {
   "cell_type": "code",
   "execution_count": 28,
   "id": "610c7f33",
   "metadata": {},
   "outputs": [
    {
     "name": "stdout",
     "output_type": "stream",
     "text": [
      "Old list: [[1, 2, 3], [4, 5, 6], [7, 8, 9]]\n",
      "New list: [[1, 2, 3], [4, 5, 6], [7, 8, 9]]\n"
     ]
    }
   ],
   "source": [
    "import copy\n",
    "\n",
    "old_list = [[1, 2, 3], [4, 5, 6], [7, 8, 9]]\n",
    "new_list = copy.copy(old_list)\n",
    "\n",
    "print(\"Old list:\", old_list)\n",
    "print(\"New list:\", new_list)"
   ]
  },
  {
   "cell_type": "markdown",
   "id": "f7cc65b9",
   "metadata": {},
   "source": [
    "In above program, we created a nested list and then shallow copy it using copy() method.\n",
    "\n",
    "This means it will create new and independent object with same content. To verify this, we print the both old_list and new_list.\n",
    "\n",
    "To confirm that new_list is different from old_list, we try to add new nested object to original and check it."
   ]
  },
  {
   "cell_type": "code",
   "execution_count": 29,
   "id": "c35d621e",
   "metadata": {},
   "outputs": [
    {
     "name": "stdout",
     "output_type": "stream",
     "text": [
      "Old list: [[1, 1, 1], [2, 2, 2], [3, 3, 3], [4, 4, 4]]\n",
      "New list: [[1, 1, 1], [2, 2, 2], [3, 3, 3]]\n"
     ]
    }
   ],
   "source": [
    "import copy\n",
    "\n",
    "old_list = [[1, 1, 1], [2, 2, 2], [3, 3, 3]]\n",
    "new_list = copy.copy(old_list)\n",
    "\n",
    "old_list.append([4, 4, 4])\n",
    "\n",
    "print(\"Old list:\", old_list)\n",
    "print(\"New list:\", new_list)"
   ]
  },
  {
   "cell_type": "markdown",
   "id": "944a8ce0",
   "metadata": {},
   "source": [
    "In the above program, we created a shallow copy of old_list. The new_list contains references to original nested objects stored in old_list. Then we add the new list i.e [4, 4, 4] into old_list. This new sublist was not copied in new_list.\n",
    "\n",
    "However, when you change any nested objects in old_list, the changes appear in new_list."
   ]
  },
  {
   "cell_type": "code",
   "execution_count": 30,
   "id": "117cf888",
   "metadata": {},
   "outputs": [
    {
     "name": "stdout",
     "output_type": "stream",
     "text": [
      "Old list: [[1, 1, 1], [2, 'AA', 2], [3, 3, 3]]\n",
      "New list: [[1, 1, 1], [2, 'AA', 2], [3, 3, 3]]\n"
     ]
    }
   ],
   "source": [
    "import copy\n",
    "\n",
    "old_list = [[1, 1, 1], [2, 2, 2], [3, 3, 3]]\n",
    "new_list = copy.copy(old_list)\n",
    "\n",
    "old_list[1][1] = 'AA'\n",
    "\n",
    "print(\"Old list:\", old_list)\n",
    "print(\"New list:\", new_list)"
   ]
  },
  {
   "cell_type": "markdown",
   "id": "ab248f1f",
   "metadata": {},
   "source": [
    "In the above program, we made changes to old_list i.e old_list[1][1] = 'AA'. Both sublists of old_list and new_list at index [1][1] were modified. This is because, both lists share the reference of same nested objects."
   ]
  },
  {
   "cell_type": "markdown",
   "id": "429e949e",
   "metadata": {},
   "source": [
    "# Deep Copy :\n",
    "    \n",
    "A deep copy creates a new object and recursively adds the copies of nested objects present in the original elements."
   ]
  },
  {
   "cell_type": "code",
   "execution_count": 32,
   "id": "a7f88081",
   "metadata": {},
   "outputs": [
    {
     "name": "stdout",
     "output_type": "stream",
     "text": [
      "Old list: [[1, 1, 1], [2, 2, 2], [3, 3, 3]]\n",
      "New list: [[1, 1, 1], [2, 2, 2], [3, 3, 3]]\n"
     ]
    }
   ],
   "source": [
    "import copy\n",
    "\n",
    "old_list = [[1, 1, 1], [2, 2, 2], [3, 3, 3]]\n",
    "new_list = copy.deepcopy(old_list)\n",
    "\n",
    "print(\"Old list:\", old_list)\n",
    "print(\"New list:\", new_list)"
   ]
  },
  {
   "cell_type": "markdown",
   "id": "22498439",
   "metadata": {},
   "source": [
    "In the above program, we use deepcopy() function to create copy which looks similar.\n",
    "\n",
    "However, if you make changes to any nested objects in original object old_list, you’ll see no changes to the copy new_list."
   ]
  },
  {
   "cell_type": "code",
   "execution_count": 33,
   "id": "39dd1571",
   "metadata": {},
   "outputs": [
    {
     "name": "stdout",
     "output_type": "stream",
     "text": [
      "Old list: [[1, 1, 1], ['BB', 2, 2], [3, 3, 3]]\n",
      "New list: [[1, 1, 1], [2, 2, 2], [3, 3, 3]]\n"
     ]
    }
   ],
   "source": [
    "import copy\n",
    "\n",
    "old_list = [[1, 1, 1], [2, 2, 2], [3, 3, 3]]\n",
    "new_list = copy.deepcopy(old_list)\n",
    "\n",
    "old_list[1][0] = 'BB'\n",
    "\n",
    "print(\"Old list:\", old_list)\n",
    "print(\"New list:\", new_list)"
   ]
  },
  {
   "cell_type": "markdown",
   "id": "3330ec4e",
   "metadata": {},
   "source": [
    "In the above program, when we assign a new value to old_list, we can see only the old_list is modified. This means, both the old_list and the new_list are independent. This is because the old_list was recursively copied, which is true for all its nested objects."
   ]
  },
  {
   "cell_type": "markdown",
   "id": "5440e7ce",
   "metadata": {},
   "source": [
    "# PANDAS convert excel to df"
   ]
  },
  {
   "cell_type": "code",
   "execution_count": null,
   "id": "588c561f",
   "metadata": {},
   "outputs": [],
   "source": [
    "# import pandas lib as pd\n",
    "import pandas as pd\n",
    "\n",
    "# read by default 1st sheet of an excel file\n",
    "dataframe1 = pd.read_excel('SampleWork.xlsx')\n",
    "\n",
    "print(dataframe1)\n"
   ]
  },
  {
   "cell_type": "markdown",
   "id": "39fe7922",
   "metadata": {},
   "source": [
    "# set index pandas"
   ]
  },
  {
   "cell_type": "markdown",
   "id": "6b51ecfb",
   "metadata": {},
   "source": [
    "Pandas set_index() is a method to set a List, Series or Data frame as index of a Data Frame. Index column can be set while making a data frame too. "
   ]
  },
  {
   "cell_type": "code",
   "execution_count": null,
   "id": "8c83388b",
   "metadata": {},
   "outputs": [],
   "source": [
    "# importing pandas package\n",
    "import pandas as pd\n",
    "\n",
    "# making data frame from csv file\n",
    "data = pd.read_csv(\"employees.csv\")\n",
    "\n",
    "# setting first name as index column\n",
    "data.set_index(\"First Name\", inplace = True)\n",
    "\n",
    "# display\n",
    "data.head()\n"
   ]
  },
  {
   "cell_type": "markdown",
   "id": "4c6c6390",
   "metadata": {},
   "source": [
    "# Python is an interpreted language, which means the source code of a Python program is converted into bytecode that is then executed by the Python virtual machine."
   ]
  },
  {
   "cell_type": "markdown",
   "id": "bb06574f",
   "metadata": {},
   "source": [
    "Is anything private in python ?\n",
    "\n",
    "\n",
    "Ans: nothing is private in python , we can access private vars using some tricks but python developers have left it onto us to use to act in sensible manner"
   ]
  },
  {
   "cell_type": "markdown",
   "id": "72bc4ca3",
   "metadata": {},
   "source": [
    "# pickling and unpickling"
   ]
  },
  {
   "cell_type": "markdown",
   "id": "3844b264",
   "metadata": {},
   "source": [
    "The pickle module is used for implementing binary protocols for serializing and de-serializing a Python object structure. \n",
    " \n",
    "\n",
    "Pickling: It is a process where a Python object hierarchy is converted into a byte stream. \n",
    " \n",
    "Unpickling: It is the inverse of Pickling process where a byte stream is converted into an object hierarchy. "
   ]
  },
  {
   "cell_type": "markdown",
   "id": "40aa85b2",
   "metadata": {},
   "source": [
    "# First repeating element in unsorted array."
   ]
  },
  {
   "cell_type": "code",
   "execution_count": 12,
   "id": "b478ea1b",
   "metadata": {},
   "outputs": [
    {
     "name": "stdout",
     "output_type": "stream",
     "text": [
      "('repeating number:', 5)\n"
     ]
    }
   ],
   "source": [
    "# Python3 program to find first\n",
    "# repeating element in arr[]\n",
    "\n",
    "# This function prints the\n",
    "# first repeating element in arr[]\n",
    "def printFirstRepeating(a, n):\n",
    "\tfor i in range(len(a)):\n",
    "\t\tif a.count(a[i]) > 1:\n",
    "\t\t\treturn (\"repeating number:\", a[i])\n",
    "        \n",
    "\treturn \"there is no repetition number\"\n",
    "\n",
    "\n",
    "# Driver code\n",
    "arr = [10, 5, 3, 4, 3, 5, 6,6]\n",
    "n = len(arr)\n",
    "print(printFirstRepeating(arr, n))\n",
    "\n",
    "# This code is contributed by karthikeyakumarnallam\n"
   ]
  },
  {
   "cell_type": "markdown",
   "id": "992e5dce",
   "metadata": {},
   "source": [
    "# Balance a BST on insertion/deletion."
   ]
  },
  {
   "cell_type": "markdown",
   "id": "14c7140a",
   "metadata": {},
   "source": [
    "Self-Balancing Binary Search Trees are height-balanced binary search trees that automatically keeps height as small as possible when insertion and deletion operations are performed on tree. The height is typically maintained in order of Log n so that all operations take O(Log n) time on average. \n",
    "\n",
    "How do Self-Balancing-Tree maintain height? \n",
    "\n",
    "\n",
    "A typical operation done by trees is rotation. Following are two basic operations that can be performed to re-balance a BST without violating the BST property (keys(left) < key(root) < keys(right)). \n",
    "1) Left Rotation \n",
    "2) Right Rotation "
   ]
  },
  {
   "cell_type": "code",
   "execution_count": 37,
   "id": "43aad417",
   "metadata": {},
   "outputs": [
    {
     "name": "stdout",
     "output_type": "stream",
     "text": [
      "Preorder traversal of the constructed AVL tree is\n",
      "30 20 10 25 40 50 \n"
     ]
    }
   ],
   "source": [
    "# Python code to insert a node in AVL tree\n",
    "\n",
    "# Generic tree node class\n",
    "class TreeNode(object):\n",
    "\tdef __init__(self, val):\n",
    "\t\tself.val = val\n",
    "\t\tself.left = None\n",
    "\t\tself.right = None\n",
    "\t\tself.height = 1\n",
    "\n",
    "# AVL tree class which supports the\n",
    "# Insert operation\n",
    "class AVL_Tree(object):\n",
    "\n",
    "\t# Recursive function to insert key in\n",
    "\t# subtree rooted with node and returns\n",
    "\t# new root of subtree.\n",
    "\tdef insert(self, root, key):\n",
    "\t\n",
    "\t\t# Step 1 - Perform normal BST\n",
    "\t\tif not root:\n",
    "\t\t\treturn TreeNode(key)\n",
    "\t\telif key < root.val:\n",
    "\t\t\troot.left = self.insert(root.left, key)\n",
    "\t\telse:\n",
    "\t\t\troot.right = self.insert(root.right, key)\n",
    "\n",
    "\t\t# Step 2 - Update the height of the\n",
    "\t\t# ancestor node\n",
    "\t\troot.height = 1 + max(self.getHeight(root.left),\n",
    "\t\t\t\t\t\tself.getHeight(root.right))\n",
    "\n",
    "\t\t# Step 3 - Get the balance factor\n",
    "\t\tbalance = self.getBalance(root)\n",
    "\n",
    "\t\t# Step 4 - If the node is unbalanced,\n",
    "\t\t# then try out the 4 cases\n",
    "\t\t# Case 1 - Left Left\n",
    "\t\tif balance > 1 and key < root.left.val:\n",
    "\t\t\treturn self.rightRotate(root)\n",
    "\n",
    "\t\t# Case 2 - Right Right\n",
    "\t\tif balance < -1 and key > root.right.val:\n",
    "\t\t\treturn self.leftRotate(root)\n",
    "\n",
    "\t\t# Case 3 - Left Right\n",
    "\t\tif balance > 1 and key > root.left.val:\n",
    "\t\t\troot.left = self.leftRotate(root.left)\n",
    "\t\t\treturn self.rightRotate(root)\n",
    "\n",
    "\t\t# Case 4 - Right Left\n",
    "\t\tif balance < -1 and key < root.right.val:\n",
    "\t\t\troot.right = self.rightRotate(root.right)\n",
    "\t\t\treturn self.leftRotate(root)\n",
    "\n",
    "\t\treturn root\n",
    "\n",
    "\tdef leftRotate(self, z):\n",
    "\n",
    "\t\ty = z.right\n",
    "\t\tT2 = y.left\n",
    "\n",
    "\t\t# Perform rotation\n",
    "\t\ty.left = z\n",
    "\t\tz.right = T2\n",
    "\n",
    "\t\t# Update heights\n",
    "\t\tz.height = 1 + max(self.getHeight(z.left),\n",
    "\t\t\t\t\t\tself.getHeight(z.right))\n",
    "\t\ty.height = 1 + max(self.getHeight(y.left),\n",
    "\t\t\t\t\t\tself.getHeight(y.right))\n",
    "\n",
    "\t\t# Return the new root\n",
    "\t\treturn y\n",
    "\n",
    "\tdef rightRotate(self, z):\n",
    "\n",
    "\t\ty = z.left\n",
    "\t\tT3 = y.right\n",
    "\n",
    "\t\t# Perform rotation\n",
    "\t\ty.right = z\n",
    "\t\tz.left = T3\n",
    "\n",
    "\t\t# Update heights\n",
    "\t\tz.height = 1 + max(self.getHeight(z.left),\n",
    "\t\t\t\t\t\tself.getHeight(z.right))\n",
    "\t\ty.height = 1 + max(self.getHeight(y.left),\n",
    "\t\t\t\t\t\tself.getHeight(y.right))\n",
    "\n",
    "\t\t# Return the new root\n",
    "\t\treturn y\n",
    "\n",
    "\tdef getHeight(self, root):\n",
    "\t\tif not root:\n",
    "\t\t\treturn 0\n",
    "\n",
    "\t\treturn root.height\n",
    "\n",
    "\tdef getBalance(self, root):\n",
    "\t\tif not root:\n",
    "\t\t\treturn 0\n",
    "\n",
    "\t\treturn self.getHeight(root.left) - self.getHeight(root.right)\n",
    "\n",
    "\tdef preOrder(self, root):\n",
    "\n",
    "\t\tif not root:\n",
    "\t\t\treturn\n",
    "\n",
    "\t\tprint(\"{0} \".format(root.val), end=\"\")\n",
    "\t\tself.preOrder(root.left)\n",
    "\t\tself.preOrder(root.right)\n",
    "\n",
    "\n",
    "# Driver program to test above function\n",
    "myTree = AVL_Tree()\n",
    "root = None\n",
    "\n",
    "root = myTree.insert(root, 10)\n",
    "root = myTree.insert(root, 20)\n",
    "root = myTree.insert(root, 30)\n",
    "root = myTree.insert(root, 40)\n",
    "root = myTree.insert(root, 50)\n",
    "root = myTree.insert(root, 25)\n",
    "\n",
    "\"\"\"The constructed AVL Tree would be\n",
    "\t\t\t30\n",
    "\t\t/ \\\n",
    "\t\t20 40\n",
    "\t\t/ \\\t \\\n",
    "\t10 25 50\"\"\"\n",
    "\n",
    "# Preorder Traversal\n",
    "print(\"Preorder traversal of the\",\n",
    "\t\"constructed AVL tree is\")\n",
    "myTree.preOrder(root)\n",
    "print()\n",
    "\n",
    "# This code is contributed by Ajitesh Pathak\n"
   ]
  },
  {
   "cell_type": "markdown",
   "id": "b72db314",
   "metadata": {},
   "source": [
    "# Method overriding"
   ]
  },
  {
   "cell_type": "markdown",
   "id": "533744d3",
   "metadata": {},
   "source": [
    "Method overriding in Python is when you have two methods with the same name that each perform different tasks. This is an important feature of inheritance in Python.\n",
    "\n",
    "In method overriding, the child class can change its functions that are defined by its ancestral classes. In other words, the child class has access to the properties and functions of the parent class method while also extending additional functions of its own to the method. If a method in a superclass coincides with that of a subclass, then the subclass is said to override the superclass.\n",
    "\n",
    "There are two prerequisite conditions for Method overriding:\n",
    "\n",
    "Inheritance should be present in the code, method overriding cannot be performed in the same class, and overriding can only be executed when a child class is derived through inheritance.\n",
    "\n",
    "The child class should have the same name and the same number of parameters as the parent class."
   ]
  },
  {
   "cell_type": "code",
   "execution_count": 10,
   "id": "af8ee0b7",
   "metadata": {},
   "outputs": [
    {
     "name": "stdout",
     "output_type": "stream",
     "text": [
      "The method Walk here is overridden in the code\n",
      "Hello, I am the child class\n",
      "Hello, I am the parent class\n"
     ]
    }
   ],
   "source": [
    "class Animal:\n",
    "    def Walk(self):\n",
    "        print('Hello, I am the parent class')\n",
    "\n",
    "class Dog(Animal):\n",
    "    def Walk(self):\n",
    "        print('Hello, I am the child class')\n",
    "        \n",
    "print('The method Walk here is overridden in the code')\n",
    "\n",
    "#Invoking Child class through object r\n",
    "\n",
    "r = Dog()\n",
    "r.Walk()\n",
    "\n",
    "#Invoking Parent class through object r\n",
    "\n",
    "r = Animal()\n",
    "r.Walk()"
   ]
  },
  {
   "cell_type": "markdown",
   "id": "ca1576df",
   "metadata": {},
   "source": [
    "# Method overloading"
   ]
  },
  {
   "cell_type": "markdown",
   "id": "0912f931",
   "metadata": {},
   "source": [
    "Methods in Python can be called with zero, one, or more parameters. This process of calling the same method in different ways is called method overloading. Two methods cannot have the same name in Python; hence method overloading is a feature that allows the same operator to have different meanings."
   ]
  },
  {
   "cell_type": "code",
   "execution_count": 11,
   "id": "46a7aafc",
   "metadata": {},
   "outputs": [
    {
     "name": "stdout",
     "output_type": "stream",
     "text": [
      "Hello \n",
      "Hello Kadambini\n"
     ]
    }
   ],
   "source": [
    "#Program to illustrate method overloading\n",
    "class Method_overload:\n",
    "    def Hello(self, name=None):\n",
    "        if name is not None:\n",
    "            print('Hello ' + name)\n",
    "        else:\n",
    "            print('Hello ')\n",
    "            \n",
    "# Create an instance\n",
    "obj = Method_overload()\n",
    "    \n",
    "# Call the method\n",
    "obj.Hello()\n",
    "    \n",
    "# Call the method with a parameter\n",
    "obj.Hello('Kadambini')"
   ]
  },
  {
   "cell_type": "markdown",
   "id": "6b7ee2af",
   "metadata": {},
   "source": [
    "# Given a sorted array and number N, write a program to find the pairs of numbers whose sum is equal to N. "
   ]
  },
  {
   "cell_type": "code",
   "execution_count": 2,
   "id": "daec88b3",
   "metadata": {},
   "outputs": [
    {
     "name": "stdout",
     "output_type": "stream",
     "text": [
      "Pair with given sum 16 is (6,10) at indices (3,4)\n"
     ]
    }
   ],
   "source": [
    "# Python program to find if there are\n",
    "# two elements with given sum\n",
    "\n",
    "# function to check for the given sum\n",
    "# in the array\n",
    "def printPairs(arr, arr_size, sum):\n",
    "\t\n",
    "\t# Create an empty hash map\n",
    "\t# using an hashmap allows us to store the indices\n",
    "\thashmap = {}\n",
    "\t\n",
    "\tfor i in range(0, arr_size):\n",
    "\t\ttemp = sum-arr[i]\n",
    "\t\tif (temp in hashmap):\n",
    "            \n",
    "\t\t\tprint (f'Pair with given sum {sum} is ({temp},{arr[i]}) at indices ({hashmap[temp]},{i})')\n",
    "            \n",
    "\t\thashmap[arr[i]] = i\n",
    "\n",
    "# driver code\n",
    "A = [1, 4, 45, 6, 10, 8]\n",
    "#A= [8, 7, 2, 5, 3, 1]\n",
    "n = 16\n",
    "printPairs(A, len(A), n)\n",
    "\n",
    "# This code will also work in case the array has the same number twice\n",
    "# and target is the sum of those numbers\n",
    "# Eg: Array = [4,6,4] Target = 8\n",
    "\n",
    "# This code is contributed by __Achyut Upadhyay__\n"
   ]
  },
  {
   "cell_type": "code",
   "execution_count": 10,
   "id": "964612c5",
   "metadata": {},
   "outputs": [
    {
     "name": "stdout",
     "output_type": "stream",
     "text": [
      "Pair found (8, 2)\n",
      "Pair found (7, 3)\n"
     ]
    }
   ],
   "source": [
    "# Naive method to find a pair in a list with the given sum\n",
    "def findPair(nums, target):\n",
    " \n",
    "    # consider each element except the last\n",
    "    for i in range(len(nums) - 1):\n",
    " \n",
    "        # start from the i'th element until the last element\n",
    "        for j in range(i+1, len(nums)):\n",
    " \n",
    "            # if the desired sum is found, print it\n",
    "            if nums[i] + nums[j] == target:\n",
    "                print('Pair found', (nums[i], nums[j]))\n",
    "                #return -1\n",
    " \n",
    "    # No pair with the given sum exists in the list\n",
    "    #print('Pair not found')\n",
    " \n",
    " \n",
    "if __name__ == '__main__':\n",
    " \n",
    "    nums = [8, 7, 2, 5, 3, 1]\n",
    "    target = 10\n",
    " \n",
    "    findPair(nums, target)"
   ]
  },
  {
   "cell_type": "code",
   "execution_count": 2,
   "id": "b0d50f6e",
   "metadata": {},
   "outputs": [
    {
     "name": "stdout",
     "output_type": "stream",
     "text": [
      "[(5, 7), (3, 9)]\n"
     ]
    }
   ],
   "source": [
    "# Python3 program to find all pairs in\n",
    "# a list of integers with given sum\n",
    "\n",
    "def findPairs(lst, K):\n",
    "\tres = []\n",
    "\twhile lst:\n",
    "\t\tnum = lst.pop()\n",
    "        \n",
    "    \n",
    "        #print(\"num:\",num)\n",
    "\t\tdiff = K - num\n",
    "        #print(diff)\n",
    "\t\tif diff in lst:\n",
    "\t\t\tres.append((diff, num))\n",
    "\t\t\n",
    "\tres.reverse()\n",
    "\treturn res\n",
    "\t\n",
    "# Driver code\n",
    "lst = [1, 5, 3, 6, 2,7,9]\n",
    "K = 12\n",
    "print(findPairs(lst, K))\n"
   ]
  },
  {
   "cell_type": "markdown",
   "id": "a9c71df8",
   "metadata": {},
   "source": [
    "# Question on the immutability of tuples like suppose a tuple x = ([1,2,3], “str”, 5) is given. Can we modify the element of list on index 0 of this tuple.?\n",
    "\n",
    "I explained Yes along with the whole workaround with the concept of reference memory in python."
   ]
  },
  {
   "cell_type": "code",
   "execution_count": 47,
   "id": "b7e65d50",
   "metadata": {},
   "outputs": [
    {
     "name": "stdout",
     "output_type": "stream",
     "text": [
      "('apple', 'kiwi', 'cherry')\n"
     ]
    }
   ],
   "source": [
    "x = (\"apple\", \"banana\", \"cherry\")\n",
    "y = list(x)\n",
    "y[1] = \"kiwi\"\n",
    "x = tuple(y)\n",
    "\n",
    "print(x)"
   ]
  },
  {
   "cell_type": "markdown",
   "id": "b0334bf7",
   "metadata": {},
   "source": [
    "# print the pattern count"
   ]
  },
  {
   "cell_type": "code",
   "execution_count": 2,
   "id": "946a352b",
   "metadata": {},
   "outputs": [
    {
     "name": "stdout",
     "output_type": "stream",
     "text": [
      "a2b3a6c2da3b1\n"
     ]
    }
   ],
   "source": [
    "def solve(s):\n",
    "   res = \"\"\n",
    "   cnt = 1\n",
    "   for i in range(1, len(s)):\n",
    "      if s[i - 1] == s[i]:\n",
    "         cnt += 1\n",
    "      else:\n",
    "         res = res + s[i - 1]\n",
    "         if cnt > 1:\n",
    "            res += str(cnt)\n",
    "         cnt = 1\n",
    "    \n",
    "   res = res + s[-1]\n",
    "   if cnt >= 1:\n",
    "      res += str(cnt)\n",
    "   return res\n",
    "\n",
    "s = \"aabbbaaaaaaccdaaab\"\n",
    "print(solve(s))"
   ]
  },
  {
   "cell_type": "code",
   "execution_count": 4,
   "id": "09533b18",
   "metadata": {},
   "outputs": [
    {
     "name": "stdout",
     "output_type": "stream",
     "text": [
      "a 11b 4c 2d 1"
     ]
    }
   ],
   "source": [
    "import collections\n",
    "\n",
    "s = \"aabbbaaaaaaccdaaab\"\n",
    "\n",
    "# Create a dictionary to store the letter counts\n",
    "letter_counts = collections.Counter(s)\n",
    "\n",
    "# Print the letter counts in the format \"a2b3a6c2da3b1\"\n",
    "for letter,count in letter_counts.items():\n",
    "    print(letter,count, end=\"\")\n"
   ]
  },
  {
   "cell_type": "markdown",
   "id": "09ceff42",
   "metadata": {},
   "source": [
    "# print the pattern count of each letter"
   ]
  },
  {
   "cell_type": "code",
   "execution_count": 1,
   "id": "3e47a13f",
   "metadata": {},
   "outputs": [
    {
     "name": "stdout",
     "output_type": "stream",
     "text": [
      "pattern_count : {'a': 11, 'b': 4, 'c': 2, 'd': 1}\n",
      "a 11\n",
      "b 4\n",
      "c 2\n",
      "d 1\n"
     ]
    }
   ],
   "source": [
    "s = \"aabbbaaaaaaccdaaab\"\n",
    "\n",
    "# Create a dictionary to store the pattern count of each letter\n",
    "pattern_count = {}\n",
    "for letter in s:\n",
    "    if letter not in pattern_count:\n",
    "        pattern_count[letter] = 1\n",
    "    else:\n",
    "        pattern_count[letter] += 1\n",
    "print(\"pattern_count :\",pattern_count)\n",
    "\n",
    "# Print the pattern count of each letter\n",
    "for letter, count in pattern_count.items():\n",
    "    print(letter, count)\n"
   ]
  },
  {
   "cell_type": "code",
   "execution_count": 2,
   "id": "d0b1e4a0",
   "metadata": {},
   "outputs": [
    {
     "name": "stdout",
     "output_type": "stream",
     "text": [
      "a 11\n",
      "b 4\n",
      "c 2\n",
      "d 1\n"
     ]
    }
   ],
   "source": [
    "import collections\n",
    "\n",
    "s = \"aabbbaaaaaaccdaaab\"\n",
    "\n",
    "# Create a dictionary to store the pattern count of each letter\n",
    "pattern_count = collections.Counter(s)\n",
    "\n",
    "# Print the pattern count of each letter\n",
    "for letter, count in pattern_count.items():\n",
    "    print(letter, count)\n"
   ]
  },
  {
   "cell_type": "markdown",
   "id": "28460163",
   "metadata": {},
   "source": [
    "# Python is used for any security purpose?"
   ]
  },
  {
   "cell_type": "markdown",
   "id": "a9f6aca3",
   "metadata": {},
   "source": [
    "Python is an advantageous programming language for cybersecurity because it can perform many cybersecurity functions, including malware analysis, scanning, and penetration testing functions."
   ]
  },
  {
   "cell_type": "markdown",
   "id": "ad2b12d1",
   "metadata": {},
   "source": [
    "# Find the index of first 1 in a sorted array of 0’s and 1’s"
   ]
  },
  {
   "cell_type": "code",
   "execution_count": 17,
   "id": "76af9047",
   "metadata": {},
   "outputs": [
    {
     "name": "stdout",
     "output_type": "stream",
     "text": [
      "2\n"
     ]
    }
   ],
   "source": [
    "# Python3 implementation to find\n",
    "# the index of first '1' in a\n",
    "# sorted array of 0's and 1's\n",
    "\n",
    "# function to find the index of first '1'\n",
    "def indexOfFirstOne(arr, n):\n",
    "\n",
    "\t# traverse the array from left to right\n",
    "\tfor i in range(0, n):\n",
    "\t\t\n",
    "\t\t# if true, then return i\n",
    "\t\tif (arr[i] == 1):\n",
    "\t\t\treturn i\n",
    "\n",
    "\t# 1's are not present in the array\n",
    "\treturn -1\n",
    "\n",
    "# Driver program to test above\n",
    "arr = [ 0, 0, 0, 0, 0, 0, 1, 1, 1, 1 ]\n",
    "n = len(arr)\n",
    "ans = indexOfFirstOne(arr, n)\n",
    "print(ans)\n",
    "\n",
    "# This code is contributed by saloni1297\n"
   ]
  },
  {
   "cell_type": "markdown",
   "id": "b0b45d49",
   "metadata": {},
   "source": [
    "# Find the first repeated element from list"
   ]
  },
  {
   "cell_type": "code",
   "execution_count": 13,
   "id": "751d21b2",
   "metadata": {},
   "outputs": [
    {
     "name": "stdout",
     "output_type": "stream",
     "text": [
      "('repeating number:', 5)\n"
     ]
    }
   ],
   "source": [
    "# Python3 program to find first\n",
    "# repeating element in arr[]\n",
    "\n",
    "# This function prints the\n",
    "# first repeating element in arr[]\n",
    "def printFirstRepeating(a, n):\n",
    "\tfor i in range(len(a)):\n",
    "\t\tif a.count(a[i]) > 1:\n",
    "\t\t\treturn (\"repeating number:\", a[i])\n",
    "        \n",
    "\treturn \"there is no repetition number\"\n",
    "\n",
    "\n",
    "# Driver code\n",
    "arr = [10, 5, 3, 4, 3, 5, 6,]\n",
    "n = len(arr)\n",
    "print(printFirstRepeating(arr, n))\n",
    "\n",
    "# This code is contributed by karthikeyakumarnallam\n",
    "\n"
   ]
  },
  {
   "cell_type": "markdown",
   "id": "f6658c58",
   "metadata": {},
   "source": [
    "# Find set of chars not repeated in a list."
   ]
  },
  {
   "cell_type": "code",
   "execution_count": 11,
   "id": "8e208fec",
   "metadata": {},
   "outputs": [
    {
     "name": "stdout",
     "output_type": "stream",
     "text": [
      "1\n",
      "M\n",
      "1\n",
      "u\n",
      "None\n"
     ]
    }
   ],
   "source": [
    "def firstNonRepeatingChar(str):\n",
    "   char_order = []\n",
    "   counts = {}\n",
    "   for i in str:\n",
    "      if i in counts:\n",
    "         counts[i] += 1\n",
    "      else:\n",
    "         counts[i] = 1\n",
    "         char_order.append(i)\n",
    "        \n",
    "   for i in char_order:\n",
    "      if counts[i] == 1:\n",
    "            #print(counts[i])\n",
    "            return i\n",
    "   return None\n",
    "\n",
    "print(firstNonRepeatingChar('PythonforallPythonMustforall'))\n",
    "print(firstNonRepeatingChar('tutorialspointfordeveloper'))\n",
    "print(firstNonRepeatingChar('AABBCC'))"
   ]
  },
  {
   "cell_type": "markdown",
   "id": "6eb30c19",
   "metadata": {},
   "source": [
    "# *args and **kwargs in Python"
   ]
  },
  {
   "cell_type": "markdown",
   "id": "53de694c",
   "metadata": {},
   "source": [
    "# *args\n",
    "\n",
    "Python has *args which allow us to pass the variable number of non keyword arguments to function.\n",
    "\n",
    "In the function, we should use an asterisk * before the parameter name to pass variable length arguments.The arguments are passed as a Tuple and these passed arguments make Tuple "
   ]
  },
  {
   "cell_type": "code",
   "execution_count": 1,
   "id": "624efac3",
   "metadata": {},
   "outputs": [
    {
     "name": "stdout",
     "output_type": "stream",
     "text": [
      "Sum: 8\n",
      "Sum: 22\n",
      "Sum: 17\n"
     ]
    }
   ],
   "source": [
    "def adder(*num):\n",
    "    sum = 0\n",
    "    \n",
    "    for n in num:\n",
    "        sum = sum + n\n",
    "\n",
    "    print(\"Sum:\",sum)\n",
    "\n",
    "adder(3,5)\n",
    "adder(4,5,6,7)\n",
    "adder(1,2,3,5,6)"
   ]
  },
  {
   "cell_type": "markdown",
   "id": "d47dcc65",
   "metadata": {},
   "source": [
    "# **kwargs\n",
    "**kwargs, it allows us to pass the variable length of keyword arguments to the function.\n",
    "\n",
    "In the function, we use the double asterisk ** before the parameter name to denote this type of argument. The arguments are passed as a dictionary and these arguments make a dictionary inside function with name same as the parameter excluding double asterisk **."
   ]
  },
  {
   "cell_type": "code",
   "execution_count": 6,
   "id": "166f6ba8",
   "metadata": {},
   "outputs": [
    {
     "name": "stdout",
     "output_type": "stream",
     "text": [
      "Firstname is Sita\n",
      "Lastname is Sharma\n",
      "Age is 22\n",
      "Phone is 1234567890\n",
      "Firstname is John\n",
      "Lastname is Wood\n",
      "Email is johnwood@nomail.com\n",
      "Country is Wakanda\n",
      "Age is 25\n",
      "Phone is 9876543210\n"
     ]
    }
   ],
   "source": [
    "def intro(**data):\n",
    "    #print(\"\\nData type of argument:\",type(data))\n",
    "\n",
    "    for key, value in data.items():\n",
    "        print(\"{} is {}\".format(key,value))\n",
    "\n",
    "intro(Firstname=\"Sita\", Lastname=\"Sharma\", Age=22, Phone=1234567890)\n",
    "intro(Firstname=\"John\", Lastname=\"Wood\", Email=\"johnwood@nomail.com\", Country=\"Wakanda\", Age=25, Phone=9876543210)"
   ]
  },
  {
   "cell_type": "markdown",
   "id": "9c84aa52",
   "metadata": {},
   "source": [
    "# str() vs repr() in Python"
   ]
  },
  {
   "cell_type": "code",
   "execution_count": 3,
   "id": "ef9a284b",
   "metadata": {},
   "outputs": [
    {
     "name": "stdout",
     "output_type": "stream",
     "text": [
      "Hello, Geeks.\n",
      "0.18181818181818182\n"
     ]
    }
   ],
   "source": [
    "s = 'Hello, Geeks.'\n",
    "print (str(s))\n",
    "print (str(2.0/11.0))\n"
   ]
  },
  {
   "cell_type": "code",
   "execution_count": 4,
   "id": "f16309e3",
   "metadata": {},
   "outputs": [
    {
     "name": "stdout",
     "output_type": "stream",
     "text": [
      "'Hello, Geeks.'\n",
      "0.18181818181818182\n"
     ]
    }
   ],
   "source": [
    "s = 'Hello, Geeks.'\n",
    "print (repr(s))\n",
    "print (repr(2.0/11.0))\n"
   ]
  },
  {
   "cell_type": "markdown",
   "id": "54cee68b",
   "metadata": {},
   "source": [
    "From above output, we can see if we print string using repr() function then it prints with a pair of quotes and if we calculate a value we get more precise value than str() function.\n",
    "\n",
    "Following are differences:\n",
    "\n",
    "str() is used for creating output for end user while repr() is mainly used for debugging and development. repr’s goal is to be unambiguous and str’s is to be readable. For example, if we suspect a float has a small rounding error, repr will show us while str may not."
   ]
  },
  {
   "cell_type": "markdown",
   "id": "deb7ed99",
   "metadata": {},
   "source": [
    "# Context Manager in Python\n",
    "\n",
    "A context manager is an object that defines a runtime context executing within the with statement.\n",
    "\n",
    "The following shows how to use a context manager to process the data.txt file:\n"
   ]
  },
  {
   "cell_type": "code",
   "execution_count": null,
   "id": "43ac4842",
   "metadata": {},
   "outputs": [],
   "source": [
    "with open('data.txt') as f:\n",
    "    data = f.readlines()\n",
    "    print(int(data[0])\n",
    "    \n",
    "    \n",
    "\n"
   ]
  },
  {
   "cell_type": "markdown",
   "id": "018e97b3",
   "metadata": {},
   "source": [
    "#In this example, we use the open() function with the with statement. After the with block, Python will close automatically."
   ]
  },
  {
   "cell_type": "markdown",
   "id": "c81070db",
   "metadata": {},
   "source": [
    "# Reversing a string in Python "
   ]
  },
  {
   "cell_type": "code",
   "execution_count": 3,
   "id": "96a3147f",
   "metadata": {},
   "outputs": [
    {
     "name": "stdout",
     "output_type": "stream",
     "text": [
      "The original string is : Geeksforgeeks\n",
      "The reversed string(using loops) is : skeegrofskeeG\n"
     ]
    }
   ],
   "source": [
    "# Python code to reverse a string\n",
    "# using loop\n",
    "\n",
    "def reverse(s):\n",
    "    r = \"\"\n",
    "    for i in s:\n",
    "        r = i + r\n",
    "    return r\n",
    "\n",
    "s = \"Geeksforgeeks\"\n",
    "\n",
    "print (\"The original string is : \",end=\"\")\n",
    "print (s)\n",
    "\n",
    "print (\"The reversed string(using loops) is : \",end=\"\")\n",
    "print (reverse(s))\n"
   ]
  },
  {
   "cell_type": "code",
   "execution_count": 7,
   "id": "e3dad5d8",
   "metadata": {},
   "outputs": [
    {
     "name": "stdout",
     "output_type": "stream",
     "text": [
      "The original string is : Geeksforgeeks\n",
      "The reversed string(using reversed) is : skeegrofskeeG\n"
     ]
    }
   ],
   "source": [
    "# Python code to reverse a string\n",
    "# using reversed()\n",
    "\n",
    "# Function to reverse a string\n",
    "def reverse(string):\n",
    "\tstring = \"\".join(reversed(string))\n",
    "\treturn string\n",
    "\n",
    "s = \"Geeksforgeeks\"\n",
    "\n",
    "print (\"The original string is : \",end=\"\")\n",
    "print (s)\n",
    "\n",
    "print (\"The reversed string(using reversed) is : \",end=\"\")\n",
    "print (reverse(s))\n"
   ]
  },
  {
   "cell_type": "code",
   "execution_count": 9,
   "id": "474b0b90",
   "metadata": {},
   "outputs": [
    {
     "data": {
      "text/plain": [
       "'1 geeks my'"
      ]
     },
     "execution_count": 9,
     "metadata": {},
     "output_type": "execute_result"
    }
   ],
   "source": [
    "s=\"my geeks 1\"\n",
    "s =' '.join(reversed(s.split()))\n",
    "s"
   ]
  },
  {
   "cell_type": "markdown",
   "id": "190913d3",
   "metadata": {},
   "source": [
    "# Fibonacci series"
   ]
  },
  {
   "cell_type": "code",
   "execution_count": 20,
   "id": "1ecfcc69",
   "metadata": {},
   "outputs": [
    {
     "name": "stdout",
     "output_type": "stream",
     "text": [
      "34\n"
     ]
    }
   ],
   "source": [
    "# Function for nth Fibonacci number\n",
    "def Fibonacci(n):\n",
    "\n",
    "\t# Check if input is 0 then it will\n",
    "\t# print incorrect input\n",
    "\tif n < 0:\n",
    "\t\tprint(\"Incorrect input\")\n",
    "\n",
    "\t# Check if n is 0\n",
    "\t# then it will return 0\n",
    "\telif n == 0:\n",
    "\t\treturn 0\n",
    "\n",
    "\t# Check if n is 1,2\n",
    "\t# it will return 1\n",
    "\telif n == 1 or n == 2:\n",
    "\t\treturn 1\n",
    "\n",
    "\telse:\n",
    "\t\treturn Fibonacci(n-1) + Fibonacci(n-2)\n",
    "\n",
    "# Driver Program\n",
    "print(Fibonacci(9))\n",
    "\n",
    "# This code is contributed by Saket Modi\n",
    "# then corrected and improved by Himanshu Kanojiya\n"
   ]
  },
  {
   "cell_type": "code",
   "execution_count": 28,
   "id": "6acb412f",
   "metadata": {},
   "outputs": [
    {
     "name": "stdout",
     "output_type": "stream",
     "text": [
      "1 2 3 5 8 13 21 34 55 89 "
     ]
    }
   ],
   "source": [
    "a=0\n",
    "b=1\n",
    "n=10\n",
    "for i in range(0,n):\n",
    "    c= a +b\n",
    "    a=b\n",
    "    b=c\n",
    "    print(b,end= \" \")"
   ]
  },
  {
   "cell_type": "code",
   "execution_count": 2,
   "id": "ed4baa64",
   "metadata": {},
   "outputs": [
    {
     "name": "stdout",
     "output_type": "stream",
     "text": [
      "89 "
     ]
    }
   ],
   "source": [
    "a=0\n",
    "b=1\n",
    "n=10\n",
    "for i in range(0,n):\n",
    "    c= a +b\n",
    "    a=b\n",
    "    b=c\n",
    "print(c,end= \" \")"
   ]
  },
  {
   "cell_type": "code",
   "execution_count": 27,
   "id": "73c4cbb9",
   "metadata": {},
   "outputs": [
    {
     "name": "stdout",
     "output_type": "stream",
     "text": [
      "Fibonacci sequence:\n",
      "0 1 1 2 3 5 8 13 21 34 "
     ]
    }
   ],
   "source": [
    "# Python program to display the Fibonacci sequence\n",
    "\n",
    "def recur_fibo(n):\n",
    "   if n <= 1:\n",
    "       return n\n",
    "   else:\n",
    "       return(recur_fibo(n-1) + recur_fibo(n-2))\n",
    "\n",
    "num = 10\n",
    "\n",
    "# check if the number of terms is valid\n",
    "if num <= 0:\n",
    "   print(\"Plese enter a positive integer\")\n",
    "else:\n",
    "   print(\"Fibonacci sequence:\")\n",
    "   for i in range(num):\n",
    "       print(recur_fibo(i),end= \" \")\n"
   ]
  },
  {
   "cell_type": "markdown",
   "id": "df1da744",
   "metadata": {},
   "source": [
    "# Factorial\n"
   ]
  },
  {
   "cell_type": "code",
   "execution_count": 3,
   "id": "7fb330a3",
   "metadata": {},
   "outputs": [
    {
     "name": "stdout",
     "output_type": "stream",
     "text": [
      "Factorial of 5 is 120\n"
     ]
    }
   ],
   "source": [
    "# Python 3 program to find\n",
    "# factorial of given number\n",
    "def factorial(n):\n",
    "\t\n",
    "\t# single line to find factorial\n",
    "\treturn 1 if (n==1 or n==0) else n * factorial(n - 1);\n",
    "\n",
    "# Driver Code\n",
    "num = 5;\n",
    "print(\"Factorial of\",num,\"is\",\n",
    "factorial(num))\n",
    "\n",
    "# This code is contributed by Smitha Dinesh Semwal\n"
   ]
  },
  {
   "cell_type": "markdown",
   "id": "aef6c103",
   "metadata": {},
   "source": [
    "# Prime number"
   ]
  },
  {
   "cell_type": "code",
   "execution_count": 21,
   "id": "c0c2abe2",
   "metadata": {},
   "outputs": [
    {
     "name": "stdout",
     "output_type": "stream",
     "text": [
      "11 is a prime number\n"
     ]
    }
   ],
   "source": [
    "# Python program to check if\n",
    "# given number is prime or not\n",
    "\n",
    "num = 11\n",
    "\n",
    "# If given number is greater than 1\n",
    "if num > 1:\n",
    "\n",
    "\t# Iterate from 2 to n / 2\n",
    "\tfor i in range(2, int(num/2)+1):\n",
    "\n",
    "\t\t# If num is divisible by any number between\n",
    "\t\t# 2 and n / 2, it is not prime\n",
    "\t\tif (num % i) == 0:\n",
    "\t\t\tprint(num, \"is not a prime number\")\n",
    "\t\t\tbreak\n",
    "\telse:\n",
    "\t\tprint(num, \"is a prime number\")\n",
    "\n",
    "else:\n",
    "\tprint(num, \"is not a prime number\")\n"
   ]
  },
  {
   "cell_type": "markdown",
   "id": "f679ffec",
   "metadata": {},
   "source": [
    "# prime numbers in a range"
   ]
  },
  {
   "cell_type": "code",
   "execution_count": 4,
   "id": "b9413379",
   "metadata": {},
   "outputs": [
    {
     "name": "stdout",
     "output_type": "stream",
     "text": [
      "Prime numbers between 900 and 1000 are:\n",
      "907 911 919 929 937 941 947 953 967 971 977 983 991 997 "
     ]
    }
   ],
   "source": [
    "# Python program to display all the prime numbers within an interval\n",
    "\n",
    "lower = 900\n",
    "upper = 1000\n",
    "\n",
    "print(\"Prime numbers between\", lower, \"and\", upper, \"are:\")\n",
    "\n",
    "for num in range(lower, upper + 1):\n",
    "   # all prime numbers are greater than 1\n",
    "   if num > 1:\n",
    "       for i in range(2, num):\n",
    "           if (num % i) == 0:\n",
    "               break\n",
    "       else:\n",
    "           print(num,end=\" \")"
   ]
  },
  {
   "cell_type": "markdown",
   "id": "61ebb4d3",
   "metadata": {},
   "source": [
    "# List And Array"
   ]
  },
  {
   "cell_type": "markdown",
   "id": "136181a8",
   "metadata": {},
   "source": [
    "# List "
   ]
  },
  {
   "cell_type": "markdown",
   "id": "402d8ff4",
   "metadata": {},
   "source": [
    "Can consist of elements belonging to different data types.\n",
    "\n",
    "No need to explicitly import a module for declaration. \n",
    "\n",
    "Cannot directly handle arithmetic operations.\n",
    "\n",
    "Preferred for shorter sequence of data items.\n",
    "\n",
    "Greater flexibility allows easy modification (addition, deletion) of data.\n",
    "\n",
    "Consume larger memory for easy addition of elements."
   ]
  },
  {
   "cell_type": "markdown",
   "id": "91dd25a8",
   "metadata": {},
   "source": [
    "# Array"
   ]
  },
  {
   "cell_type": "markdown",
   "id": "f0c7ff20",
   "metadata": {},
   "source": [
    "Only consists of elements belonging to the same data type.\n",
    "\n",
    "Need to explicitly import a module for declaration.\n",
    "\n",
    "Can directly handle arithmetic operations.\n",
    "\n",
    "Must contain either all nested elements of same size.\n",
    "\n",
    "Preferred for longer sequence of data items.\n",
    "\n",
    "Less flexibility since addition, deletion has to be done element wise.\n",
    "\n",
    "Comparatively more compact in memory size."
   ]
  },
  {
   "cell_type": "markdown",
   "id": "32c8e3b7",
   "metadata": {},
   "source": [
    "# Difference between Module, Package and Library in Python"
   ]
  },
  {
   "cell_type": "markdown",
   "id": "fcb3510a",
   "metadata": {},
   "source": [
    "# "
   ]
  },
  {
   "cell_type": "markdown",
   "id": "5e3e1540",
   "metadata": {},
   "source": [
    "# Module"
   ]
  },
  {
   "cell_type": "markdown",
   "id": "b9459202",
   "metadata": {},
   "source": [
    "The module is a simple Python file that contains collections of functions and global variables and with having a .py extension file. \n",
    "\n",
    "It is an executable file and to organize all the modules we have the concept called Package in Python.\n",
    "\n",
    "Example: Save the code in file called demo_module.py"
   ]
  },
  {
   "cell_type": "code",
   "execution_count": null,
   "id": "58041713",
   "metadata": {},
   "outputs": [],
   "source": [
    "def myModule(name):\n",
    "\tprint(\"This is My Module : \"+ name)\n",
    "\n",
    "#Import module named demo_module and call myModule function inside it.\n",
    "\n",
    "import demo_module\n",
    "\n",
    "demo_module.myModule(\"Math\")\n",
    "\n",
    "#import demo_module\n",
    "\n",
    "demo_module.myModule(\"Math\")\n",
    "\n",
    "#Output:\n",
    "\n",
    "#This is My Module : Math\n",
    "\n"
   ]
  },
  {
   "cell_type": "markdown",
   "id": "9e897fbc",
   "metadata": {},
   "source": [
    "# Package: \n",
    "\n",
    "The package is a simple directory having collections of modules.\n",
    "\n",
    "This directory contains Python modules and also having  ( __ init__.py ) file by which the interpreter interprets it as a Package. \n",
    "\n",
    "The package is simply a namespace.\n",
    "\n",
    "The package also contains sub-packages inside it."
   ]
  },
  {
   "cell_type": "markdown",
   "id": "d8d3c52b",
   "metadata": {},
   "source": [
    "Example:\n",
    "\n",
    "Student(Package)\n",
    "\n",
    "\n",
    "| __ init __.py (Constructor)\n",
    "\n",
    "| details.py (Module)\n",
    "\n",
    "| marks.py (Module)\n",
    "\n",
    "| collegeDetails.py (Module)"
   ]
  },
  {
   "cell_type": "markdown",
   "id": "81418263",
   "metadata": {},
   "source": [
    "# Library: \n",
    "\n",
    "The library is having a collection of related functionality of codes that allows you to perform many tasks without writing your code. \n",
    "\n",
    "It is a reusable chunk of code that we can use by importing it in our program, we can just use it by importing that library and calling the method of that library with period( . )\n",
    "\n",
    "Example: Importing pandas library and call read_csv method using alias of pandas i.e. pd."
   ]
  },
  {
   "cell_type": "code",
   "execution_count": null,
   "id": "6b9d93d5",
   "metadata": {},
   "outputs": [],
   "source": [
    "import pandas as pd\n",
    "\n",
    "df = pd.read_csv(\"file_name.csv\")\n"
   ]
  },
  {
   "cell_type": "markdown",
   "id": "eee4e6b7",
   "metadata": {},
   "source": [
    "# How packages are being read in Python ?\n"
   ]
  },
  {
   "cell_type": "markdown",
   "id": "258e9928",
   "metadata": {},
   "source": [
    "Python imports work by searching the directories listed in sys. path . So Python will find any packages that have been installed to those locations."
   ]
  },
  {
   "cell_type": "markdown",
   "id": "57607500",
   "metadata": {},
   "source": [
    "# Garbage collection in Python:\n",
    "\n",
    "Python deletes unwanted objects (built-in types or class instances) automatically to free the memory space. The process by which Python periodically frees and reclaims blocks of memory that no longer are in use is called Garbage Collection."
   ]
  },
  {
   "cell_type": "markdown",
   "id": "82070d3c",
   "metadata": {},
   "source": [
    "# Deadlocks \n",
    "\n",
    "Deadlocks can occur when two (or more) threads are blocking each other’s progress — for example, thread_1 is waiting for the release of lock_2 held by thread_2 upon which it will release its lock — lock_1, but the same is true for thread_2 — it will release lock_2 only upon the release of lock_1 by thread_1."
   ]
  },
  {
   "cell_type": "markdown",
   "id": "4b3864ec",
   "metadata": {},
   "source": [
    "# Flattening a Nested List"
   ]
  },
  {
   "cell_type": "code",
   "execution_count": 5,
   "id": "be42ad3a",
   "metadata": {},
   "outputs": [
    {
     "name": "stdout",
     "output_type": "stream",
     "text": [
      "[1, 2, 3, 4, 5, 6, 7, 8, 9]\n"
     ]
    }
   ],
   "source": [
    "#to Flat or un nest a mested list conecpt\n",
    "def flatten_list(nested_list):\n",
    "  flat_list = []\n",
    "  for sublist in nested_list:\n",
    "    for item in sublist:\n",
    "      flat_list.append(item)\n",
    "  return flat_list\n",
    "\n",
    "nested_list = [[1, 2, 3], [4, 5, 6], [7, 8, 9]]\n",
    "flat_list = flatten_list(nested_list)\n",
    "print(flat_list)\n"
   ]
  },
  {
   "cell_type": "code",
   "execution_count": 6,
   "id": "7b8eaa7c",
   "metadata": {},
   "outputs": [
    {
     "name": "stdout",
     "output_type": "stream",
     "text": [
      "[1, 2, 3, 4, 5, 6, 7, 8, 9]\n"
     ]
    }
   ],
   "source": [
    "#alternate approach to unnest a list\n",
    "flat_list = [item for sublist in nested_list for item in sublist]\n",
    "print(flat_list)\n"
   ]
  },
  {
   "cell_type": "markdown",
   "id": "2a228076",
   "metadata": {},
   "source": [
    "# Flattening a Nested Dictionary"
   ]
  },
  {
   "cell_type": "code",
   "execution_count": 23,
   "id": "71b86e45",
   "metadata": {},
   "outputs": [
    {
     "data": {
      "text/plain": [
       "{'a': 1, 'b': {'c': 2, 'd': 3}}"
      ]
     },
     "execution_count": 23,
     "metadata": {},
     "output_type": "execute_result"
    }
   ],
   "source": [
    "nested_dict = {\n",
    "  \"a\": 1,\n",
    "  \"b\": {\n",
    "    \"c\": 2,\n",
    "    \"d\": 3\n",
    "  }\n",
    "}\n",
    "nested_dict"
   ]
  },
  {
   "cell_type": "code",
   "execution_count": 11,
   "id": "8bdbd2d1",
   "metadata": {},
   "outputs": [
    {
     "name": "stdout",
     "output_type": "stream",
     "text": [
      "{'a': 1, 'c': 2, 'd': 3}\n"
     ]
    }
   ],
   "source": [
    "def flatten_dict(nested_dict):\n",
    "  flat_dict = {}\n",
    "  for key, value in nested_dict.items():\n",
    "    if isinstance(value, dict):\n",
    "      flat_dict.update(flatten_dict(value))\n",
    "    else:\n",
    "      flat_dict[key] = value\n",
    "  return flat_dict\n",
    "\n",
    "flat_dict = flatten_dict(nested_dict)\n",
    "print(flat_dict)\n"
   ]
  },
  {
   "cell_type": "code",
   "execution_count": null,
   "id": "7f69eb36",
   "metadata": {},
   "outputs": [],
   "source": []
  }
 ],
 "metadata": {
  "kernelspec": {
   "display_name": "Python 3 (ipykernel)",
   "language": "python",
   "name": "python3"
  },
  "language_info": {
   "codemirror_mode": {
    "name": "ipython",
    "version": 3
   },
   "file_extension": ".py",
   "mimetype": "text/x-python",
   "name": "python",
   "nbconvert_exporter": "python",
   "pygments_lexer": "ipython3",
   "version": "3.9.12"
  }
 },
 "nbformat": 4,
 "nbformat_minor": 5
}

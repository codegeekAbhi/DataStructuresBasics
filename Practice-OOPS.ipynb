{
 "cells": [
  {
   "cell_type": "markdown",
   "id": "5778db37",
   "metadata": {},
   "source": [
    "Exercise 41. Rectangle class: ||  Solution.\n",
    "\n",
    "\n",
    "\n",
    "Write a Rectangle class in Python language, allowing you to build a rectangle with length and width attributes.\n",
    "Create a Perimeter() method to calculate the perimeter of the rectangle and a Area() method to calculate the area of ​​the rectangle.\n",
    "Create a method display() that display the length, width, perimeter and area of an object created using an instantiation on rectangle class.\n",
    "Create a Parallelepipede child class inheriting from the Rectangle class and with a height attribute and another Volume() method to calculate the volume of the Parallelepiped."
   ]
  },
  {
   "cell_type": "code",
   "execution_count": 2,
   "id": "b3574863",
   "metadata": {},
   "outputs": [],
   "source": [
    "class Rectangle:\n",
    "    def __init__(self, length, width):\n",
    "        self.length = length\n",
    "        self.width = width\n",
    "\n",
    "    def perimeter(self):\n",
    "        return 2 * (self.length + self.width)\n",
    "\n",
    "    def area(self):\n",
    "        return self.length * self.width\n",
    "\n",
    "    def display(self):\n",
    "        print(f\"Length: {self.length}\\nWidth: {self.width}\\nPerimeter: {self.perimeter()}\\nArea: {self.area()}\")\n",
    "\n",
    "class Parallelepipede(Rectangle):\n",
    "    def __init__(self, length, width, height):\n",
    "        super().__init__(length, width)\n",
    "        self.height = height\n",
    "\n",
    "    def volume(self):\n",
    "        return self.length * self.width * self.height\n"
   ]
  },
  {
   "cell_type": "code",
   "execution_count": 2,
   "id": "001fe57b",
   "metadata": {},
   "outputs": [
    {
     "name": "stdout",
     "output_type": "stream",
     "text": [
      "Length: 5\n",
      "Width: 3\n",
      "Perimeter: 16\n",
      "Area: 15\n"
     ]
    }
   ],
   "source": [
    "r = Rectangle(5, 3)\n",
    "r.display()\n"
   ]
  },
  {
   "cell_type": "code",
   "execution_count": 3,
   "id": "0266d889",
   "metadata": {},
   "outputs": [
    {
     "name": "stdout",
     "output_type": "stream",
     "text": [
      "30\n"
     ]
    }
   ],
   "source": [
    "p = Parallelepipede(5, 3, 2)\n",
    "print(p.volume())\n"
   ]
  },
  {
   "cell_type": "markdown",
   "id": "d5ccb8f5",
   "metadata": {},
   "source": [
    "Exercice 2: Person class and child Student class ||  Solution\n",
    "\n",
    "\n",
    "Create a Python class Person with attributes: name and age of type string.\n",
    "Create a display() method that displays the name and age of an object created via the Person class.\n",
    "Create a child class Student  which inherits from the Person class and which also has a section attribute.\n",
    "Create a method displayStudent() that displays the name, age and section of an object created via the Student class.\n",
    "Create a student object via an instantiation on the Student class and then test the displayStudent metho."
   ]
  },
  {
   "cell_type": "code",
   "execution_count": 1,
   "id": "7b7f791b",
   "metadata": {},
   "outputs": [
    {
     "name": "stdout",
     "output_type": "stream",
     "text": [
      "Name: John\n",
      "Age: 20\n",
      "Section: A\n"
     ]
    }
   ],
   "source": [
    "class Person:\n",
    "    def __init__(self, name, age):\n",
    "        self.name = name\n",
    "        self.age = age\n",
    "    \n",
    "    def display(self):\n",
    "        print(\"Name:\", self.name)\n",
    "        print(\"Age:\", self.age)\n",
    "\n",
    "\n",
    "class Student(Person):\n",
    "    def __init__(self, name, age, section):\n",
    "        super().__init__(name, age)\n",
    "        self.section = section\n",
    "    \n",
    "    def displayStudent(self):\n",
    "        self.display()\n",
    "        print(\"Section:\", self.section)\n",
    "\n",
    "\n",
    "# Create a student object and test the displayStudent method\n",
    "student = Student(\"John\", \"20\", \"A\")\n",
    "student.displayStudent()\n"
   ]
  },
  {
   "cell_type": "markdown",
   "id": "d4400246",
   "metadata": {},
   "source": [
    "This code defines two classes, Person and Student. \n",
    "\n",
    "The Person class has attributes name and age, and a display() method to display the name and age. The Student class inherits from Person and adds an additional attribute section. \n",
    "\n",
    "It also has a displayStudent() method that calls the display() method of the parent class and displays the section attribute. \n",
    "\n",
    "Finally, an object of the Student class is created and the displayStudent() method is called to test the functionality.\n",
    "\n",
    "In the code above, `super()` is used to call the constructor of the parent class (`Person`) from within the `__init__` method of the child class (`Student`). \n",
    "\n",
    "By using `super().__init__(name, age)`, we can initialize the `name` and `age` attributes of the `Person` class in the `Student` class. This allows us to reuse the code and logic defined in the `Person` class constructor without having to rewrite it in the `Student` class.\n",
    "\n",
    "Using `super()` ensures that the parent class is properly initialized before adding any additional attributes specific to the child class. It helps to maintain the inheritance hierarchy and avoid redundancy in code."
   ]
  },
  {
   "cell_type": "code",
   "execution_count": null,
   "id": "70ae5794",
   "metadata": {},
   "outputs": [],
   "source": []
  },
  {
   "cell_type": "markdown",
   "id": "eaf74c1d",
   "metadata": {},
   "source": [
    "Bank Account class: ||  Solution\n",
    "    \n",
    "Create a Python class called BankAccount which represents a bank account, having as attributes: accountNumber (numeric type), name (name of the account owner as string type), balance.\n",
    "\n",
    "Create a constructor with parameters: accountNumber, name, balance.\n",
    "\n",
    "Create a Deposit() method which manages the deposit actions.\n",
    "\n",
    "Create a Withdrawal() method  which manages withdrawals actions.\n",
    "\n",
    "Create an bankFees() method to apply the bank fees with a percentage of 5% of the balance account.\n",
    "\n",
    "Create a display() method to display account details.\n",
    "\n",
    "Give the complete code for the  BankAccount class."
   ]
  },
  {
   "cell_type": "code",
   "execution_count": 1,
   "id": "7ce7b336",
   "metadata": {},
   "outputs": [],
   "source": [
    "class BankAccount:\n",
    "\n",
    "    def __init__(self, account_number, name, balance):\n",
    "        self.account_number = account_number\n",
    "        self.name = name\n",
    "        self.balance = balance\n",
    "\n",
    "    def deposit(self, amount):\n",
    "        self.balance += amount\n",
    "\n",
    "    def withdraw(self, amount):\n",
    "        if self.balance >= amount:\n",
    "            self.balance -= amount\n",
    "        else:\n",
    "            print(\"Insufficient balance\")\n",
    "\n",
    "    def bank_fees(self):\n",
    "        self.balance -= self.balance * 0.05\n",
    "\n",
    "    def display(self):\n",
    "        print(\"Account number:\", self.account_number)\n",
    "        print(\"Name:\", self.name)\n",
    "        print(\"Balance:\", self.balance)\n",
    "\n"
   ]
  },
  {
   "cell_type": "code",
   "execution_count": 2,
   "id": "08a7a569",
   "metadata": {},
   "outputs": [
    {
     "name": "stdout",
     "output_type": "stream",
     "text": [
      "Account number: 123456789\n",
      "Name: John Smith\n",
      "Balance: 1235.0\n"
     ]
    }
   ],
   "source": [
    "# Create a new bank account\n",
    "account = BankAccount(123456789, \"John Smith\", 1000)\n",
    "\n",
    "# Deposit money into the account\n",
    "account.deposit(500)\n",
    "\n",
    "# Withdraw money from the account\n",
    "account.withdraw(200)\n",
    "\n",
    "# Apply bank fees\n",
    "account.bank_fees()\n",
    "\n",
    "# Display the account details\n",
    "account.display()\n"
   ]
  },
  {
   "cell_type": "code",
   "execution_count": null,
   "id": "582d14c2",
   "metadata": {},
   "outputs": [],
   "source": []
  },
  {
   "cell_type": "markdown",
   "id": "3d507acc",
   "metadata": {},
   "source": [
    "Exercise 44. Circle class || Solution\n",
    "\n",
    "1 - Define a Circle class allowing to create a circleC (O, r) with center O(a, b) and radius r using the constructor:\n",
    "\n",
    "    def __init__(self,a,b,r):         \n",
    "        self.a = a         \n",
    "        self.b = b         \n",
    "        self.r = r\n",
    "\n",
    "2 - Define a Area() method of the class which calculates the area of ​​the circle.\n",
    "\n",
    "3 - Define a Perimeter() method of the class which allows you to calculate the perimeter of the circle.\n",
    "\n",
    "4 - Define a testBelongs() method of the class which allows to test whether a point A(x, y) belongs to the circle C(O, r) or not"
   ]
  },
  {
   "cell_type": "code",
   "execution_count": 1,
   "id": "3fbebf85",
   "metadata": {},
   "outputs": [],
   "source": [
    "class Circle:\n",
    "\n",
    "    def __init__(self, a, b, r):\n",
    "        self.a = a\n",
    "        self.b = b\n",
    "        self.r = r\n",
    "\n",
    "    def area(self):\n",
    "        return 3.14 * self.r ** 2\n",
    "\n",
    "    def perimeter(self):\n",
    "        return 2 * 3.14 * self.r\n",
    "\n",
    "    def testBelongs(self, x, y):\n",
    "        return ((x - self.a) ** 2 + (y - self.b) ** 2) ** 0.5 <= self.r\n"
   ]
  },
  {
   "cell_type": "code",
   "execution_count": 2,
   "id": "64b3a9bb",
   "metadata": {},
   "outputs": [
    {
     "name": "stdout",
     "output_type": "stream",
     "text": [
      "78.5\n",
      "31.400000000000002\n",
      "True\n",
      "False\n"
     ]
    }
   ],
   "source": [
    "c = Circle(0, 0, 5)\n",
    "\n",
    "print(c.area())\n",
    "# Output: 78.53981633974483\n",
    "\n",
    "print(c.perimeter())\n",
    "# Output: 31.41592653589793\n",
    "\n",
    "print(c.testBelongs(3, 4))\n",
    "# Output: True\n",
    "\n",
    "print(c.testBelongs(6, 6))\n",
    "# Output: False\n"
   ]
  },
  {
   "cell_type": "code",
   "execution_count": null,
   "id": "098f37bc",
   "metadata": {},
   "outputs": [],
   "source": []
  },
  {
   "cell_type": "markdown",
   "id": "f910d92b",
   "metadata": {},
   "source": [
    "Exercise 45. Computation class || Solution\n",
    "\n",
    "1 – Create a Coputation class with a default constructor (without parameters) allowing to perform various calculations on integers numbers.\n",
    "\n",
    "2 – Create a method called Factorial() which allows to calculate the factorial of an integer. Test the method by instantiating the class.\n",
    "\n",
    "3 – Create a method called Sum() allowing to calculate the sum of the first n integers 1 + 2 + 3 + .. + n. Test this method.\n",
    "\n",
    "4 – Create a method called testPrim() in  the Calculation class to test the primality of a given integer. Test this method.\n",
    "\n",
    "4 – Create  a method called testPrims() allowing to test if two numbers are prime between them.\n",
    "\n",
    "5 – Create a tableMult() method which creates and displays the multiplication table of a given integer. Then create an allTablesMult() method to display all the integer multiplication tables 1, 2, 3, …, 9.\n",
    "\n",
    "6 – Create a static listDiv() method that gets all the divisors of a given integer on new list called  Ldiv. Create another listDivPrim() method that gets all the prime divisors of a given integer."
   ]
  },
  {
   "cell_type": "code",
   "execution_count": 1,
   "id": "0fa17514",
   "metadata": {},
   "outputs": [],
   "source": [
    "class Computation:\n",
    "\n",
    "    def __init__(self):\n",
    "        pass\n",
    "\n",
    "    def factorial(self, n):\n",
    "        \"\"\"\n",
    "        Calculates the factorial of n.\n",
    "\n",
    "        Parameters\n",
    "        ----------\n",
    "        n : int\n",
    "            The number to calculate the factorial of.\n",
    "\n",
    "        Returns\n",
    "        -------\n",
    "        int\n",
    "            The factorial of n.\n",
    "        \"\"\"\n",
    "        if n == 0:\n",
    "            return 1\n",
    "        else:\n",
    "            return n * self.factorial(n - 1)\n",
    "\n",
    "    def sum(self, n):\n",
    "        \"\"\"\n",
    "        Calculates the sum of the first n integers.\n",
    "\n",
    "        Parameters\n",
    "        ----------\n",
    "        n : int\n",
    "            The number of integers to sum.\n",
    "\n",
    "        Returns\n",
    "        -------\n",
    "        int\n",
    "            The sum of the first n integers.\n",
    "        \"\"\"\n",
    "        if n == 0:\n",
    "            return 0\n",
    "        else:\n",
    "            return n + self.sum(n - 1)\n",
    "\n",
    "    def test_prim(self, n):\n",
    "        \"\"\"\n",
    "        Checks if n is a prime number.\n",
    "\n",
    "        Parameters\n",
    "        ----------\n",
    "        n : int\n",
    "            The number to check.\n",
    "\n",
    "        Returns\n",
    "        -------\n",
    "        bool\n",
    "            True if n is a prime number, False otherwise.\n",
    "        \"\"\"\n",
    "        if n <= 1:\n",
    "            return False\n",
    "        for i in range(2, n):\n",
    "            if n % i == 0:\n",
    "                return False\n",
    "        return True\n",
    "\n",
    "    def test_prims(self, a, b):\n",
    "        \"\"\"\n",
    "        Checks if both a and b are prime numbers.\n",
    "\n",
    "        Parameters\n",
    "        ----------\n",
    "        a : int\n",
    "            The first number to check.\n",
    "        b : int\n",
    "            The second number to check.\n",
    "\n",
    "        Returns\n",
    "        -------\n",
    "        bool\n",
    "            True if both a and b are prime numbers, False otherwise.\n",
    "        \"\"\"\n",
    "        return self.test_prim(a) and self.test_prim(b)\n",
    "\n",
    "    def table_mult(self, n):\n",
    "        \"\"\"\n",
    "        Creates and displays the multiplication table of n.\n",
    "\n",
    "        Parameters\n",
    "        ----------\n",
    "        n : int\n",
    "            The number to create the multiplication table for.\n",
    "        \"\"\"\n",
    "        for i in range(1, n + 1):\n",
    "            for j in range(1, n + 1):\n",
    "                print(f\"{i} * {j} = {i * j}\", end=\"\\t\")\n",
    "            print()\n",
    "\n",
    "    def all_tables_mult(self):\n",
    "        \"\"\"\n",
    "        Displays all the integer multiplication tables 1, 2, 3, …, 9.\n",
    "        \"\"\"\n",
    "        for n in range(1, 10):\n",
    "            print(f\"Multiplication table for {n}:\")\n",
    "            self.table_mult(n)\n",
    "\n",
    "    def list_div(self, n):\n",
    "        \"\"\"\n",
    "        Gets all the divisors of n and stores them in a list.\n",
    "\n",
    "        Parameters\n",
    "        ----------\n",
    "        n : int\n",
    "            The number to get the divisors of.\n",
    "\n",
    "        Returns\n",
    "        -------\n",
    "        list\n",
    "            A list of all the divisors of n.\n",
    "        \"\"\"\n",
    "        divs = []\n",
    "        for i in range(1, n + 1):\n",
    "            if n % i == 0:\n",
    "                divs.append(i)\n",
    "        return divs\n",
    "\n",
    "    def list_div_prim(self, n):\n",
    "        \"\"\"\n",
    "        Gets all the prime divisors of n and stores them in a list.\n",
    "\n",
    "        Parameters\n",
    "        ----------\n",
    "        n : int\n",
    "            The number to get the prime divisors of.\n",
    "\n",
    "        Returns\n",
    "        -------\n",
    "        list\n",
    "            A list of all the prime divisors of n.\n",
    "        \"\"\"\n",
    "        divs = self.list_div(n)\n",
    "        prim_divs = []\n",
    "        for div in divs:\n",
    "            if self.test_prim(div):\n",
    "                prim_divs.append(div)\n",
    "        return prim_divs\n"
   ]
  },
  {
   "cell_type": "code",
   "execution_count": 3,
   "id": "6a00b3ed",
   "metadata": {},
   "outputs": [
    {
     "data": {
      "text/plain": [
       "120"
      ]
     },
     "execution_count": 3,
     "metadata": {},
     "output_type": "execute_result"
    }
   ],
   "source": [
    "computation = Computation()\n",
    "computation.factorial(5)\n"
   ]
  },
  {
   "cell_type": "code",
   "execution_count": 4,
   "id": "257d8ce8",
   "metadata": {},
   "outputs": [
    {
     "name": "stdout",
     "output_type": "stream",
     "text": [
      "1 * 1 = 1\t1 * 2 = 2\t1 * 3 = 3\t\n",
      "2 * 1 = 2\t2 * 2 = 4\t2 * 3 = 6\t\n",
      "3 * 1 = 3\t3 * 2 = 6\t3 * 3 = 9\t\n"
     ]
    }
   ],
   "source": [
    "computation = Computation()\n",
    "computation.table_mult(3)\n"
   ]
  },
  {
   "cell_type": "code",
   "execution_count": 5,
   "id": "47b739bf",
   "metadata": {},
   "outputs": [
    {
     "data": {
      "text/plain": [
       "15"
      ]
     },
     "execution_count": 5,
     "metadata": {},
     "output_type": "execute_result"
    }
   ],
   "source": [
    "computation.sum(5)"
   ]
  },
  {
   "cell_type": "code",
   "execution_count": 6,
   "id": "284fb643",
   "metadata": {},
   "outputs": [
    {
     "data": {
      "text/plain": [
       "True"
      ]
     },
     "execution_count": 6,
     "metadata": {},
     "output_type": "execute_result"
    }
   ],
   "source": [
    "computation.test_prim(2)"
   ]
  },
  {
   "cell_type": "code",
   "execution_count": 7,
   "id": "e2a6b314",
   "metadata": {},
   "outputs": [
    {
     "data": {
      "text/plain": [
       "True"
      ]
     },
     "execution_count": 7,
     "metadata": {},
     "output_type": "execute_result"
    }
   ],
   "source": [
    "computation.test_prims(2, 3)"
   ]
  },
  {
   "cell_type": "code",
   "execution_count": 8,
   "id": "b5808984",
   "metadata": {},
   "outputs": [
    {
     "name": "stdout",
     "output_type": "stream",
     "text": [
      "1 * 1 = 1\t1 * 2 = 2\t1 * 3 = 3\t\n",
      "2 * 1 = 2\t2 * 2 = 4\t2 * 3 = 6\t\n",
      "3 * 1 = 3\t3 * 2 = 6\t3 * 3 = 9\t\n"
     ]
    }
   ],
   "source": [
    "computation.table_mult(3)"
   ]
  },
  {
   "cell_type": "code",
   "execution_count": 10,
   "id": "baa4823c",
   "metadata": {},
   "outputs": [
    {
     "name": "stdout",
     "output_type": "stream",
     "text": [
      "Multiplication table for 1:\n",
      "1 * 1 = 1\t\n",
      "Multiplication table for 2:\n",
      "1 * 1 = 1\t1 * 2 = 2\t\n",
      "2 * 1 = 2\t2 * 2 = 4\t\n",
      "Multiplication table for 3:\n",
      "1 * 1 = 1\t1 * 2 = 2\t1 * 3 = 3\t\n",
      "2 * 1 = 2\t2 * 2 = 4\t2 * 3 = 6\t\n",
      "3 * 1 = 3\t3 * 2 = 6\t3 * 3 = 9\t\n",
      "Multiplication table for 4:\n",
      "1 * 1 = 1\t1 * 2 = 2\t1 * 3 = 3\t1 * 4 = 4\t\n",
      "2 * 1 = 2\t2 * 2 = 4\t2 * 3 = 6\t2 * 4 = 8\t\n",
      "3 * 1 = 3\t3 * 2 = 6\t3 * 3 = 9\t3 * 4 = 12\t\n",
      "4 * 1 = 4\t4 * 2 = 8\t4 * 3 = 12\t4 * 4 = 16\t\n",
      "Multiplication table for 5:\n",
      "1 * 1 = 1\t1 * 2 = 2\t1 * 3 = 3\t1 * 4 = 4\t1 * 5 = 5\t\n",
      "2 * 1 = 2\t2 * 2 = 4\t2 * 3 = 6\t2 * 4 = 8\t2 * 5 = 10\t\n",
      "3 * 1 = 3\t3 * 2 = 6\t3 * 3 = 9\t3 * 4 = 12\t3 * 5 = 15\t\n",
      "4 * 1 = 4\t4 * 2 = 8\t4 * 3 = 12\t4 * 4 = 16\t4 * 5 = 20\t\n",
      "5 * 1 = 5\t5 * 2 = 10\t5 * 3 = 15\t5 * 4 = 20\t5 * 5 = 25\t\n",
      "Multiplication table for 6:\n",
      "1 * 1 = 1\t1 * 2 = 2\t1 * 3 = 3\t1 * 4 = 4\t1 * 5 = 5\t1 * 6 = 6\t\n",
      "2 * 1 = 2\t2 * 2 = 4\t2 * 3 = 6\t2 * 4 = 8\t2 * 5 = 10\t2 * 6 = 12\t\n",
      "3 * 1 = 3\t3 * 2 = 6\t3 * 3 = 9\t3 * 4 = 12\t3 * 5 = 15\t3 * 6 = 18\t\n",
      "4 * 1 = 4\t4 * 2 = 8\t4 * 3 = 12\t4 * 4 = 16\t4 * 5 = 20\t4 * 6 = 24\t\n",
      "5 * 1 = 5\t5 * 2 = 10\t5 * 3 = 15\t5 * 4 = 20\t5 * 5 = 25\t5 * 6 = 30\t\n",
      "6 * 1 = 6\t6 * 2 = 12\t6 * 3 = 18\t6 * 4 = 24\t6 * 5 = 30\t6 * 6 = 36\t\n",
      "Multiplication table for 7:\n",
      "1 * 1 = 1\t1 * 2 = 2\t1 * 3 = 3\t1 * 4 = 4\t1 * 5 = 5\t1 * 6 = 6\t1 * 7 = 7\t\n",
      "2 * 1 = 2\t2 * 2 = 4\t2 * 3 = 6\t2 * 4 = 8\t2 * 5 = 10\t2 * 6 = 12\t2 * 7 = 14\t\n",
      "3 * 1 = 3\t3 * 2 = 6\t3 * 3 = 9\t3 * 4 = 12\t3 * 5 = 15\t3 * 6 = 18\t3 * 7 = 21\t\n",
      "4 * 1 = 4\t4 * 2 = 8\t4 * 3 = 12\t4 * 4 = 16\t4 * 5 = 20\t4 * 6 = 24\t4 * 7 = 28\t\n",
      "5 * 1 = 5\t5 * 2 = 10\t5 * 3 = 15\t5 * 4 = 20\t5 * 5 = 25\t5 * 6 = 30\t5 * 7 = 35\t\n",
      "6 * 1 = 6\t6 * 2 = 12\t6 * 3 = 18\t6 * 4 = 24\t6 * 5 = 30\t6 * 6 = 36\t6 * 7 = 42\t\n",
      "7 * 1 = 7\t7 * 2 = 14\t7 * 3 = 21\t7 * 4 = 28\t7 * 5 = 35\t7 * 6 = 42\t7 * 7 = 49\t\n",
      "Multiplication table for 8:\n",
      "1 * 1 = 1\t1 * 2 = 2\t1 * 3 = 3\t1 * 4 = 4\t1 * 5 = 5\t1 * 6 = 6\t1 * 7 = 7\t1 * 8 = 8\t\n",
      "2 * 1 = 2\t2 * 2 = 4\t2 * 3 = 6\t2 * 4 = 8\t2 * 5 = 10\t2 * 6 = 12\t2 * 7 = 14\t2 * 8 = 16\t\n",
      "3 * 1 = 3\t3 * 2 = 6\t3 * 3 = 9\t3 * 4 = 12\t3 * 5 = 15\t3 * 6 = 18\t3 * 7 = 21\t3 * 8 = 24\t\n",
      "4 * 1 = 4\t4 * 2 = 8\t4 * 3 = 12\t4 * 4 = 16\t4 * 5 = 20\t4 * 6 = 24\t4 * 7 = 28\t4 * 8 = 32\t\n",
      "5 * 1 = 5\t5 * 2 = 10\t5 * 3 = 15\t5 * 4 = 20\t5 * 5 = 25\t5 * 6 = 30\t5 * 7 = 35\t5 * 8 = 40\t\n",
      "6 * 1 = 6\t6 * 2 = 12\t6 * 3 = 18\t6 * 4 = 24\t6 * 5 = 30\t6 * 6 = 36\t6 * 7 = 42\t6 * 8 = 48\t\n",
      "7 * 1 = 7\t7 * 2 = 14\t7 * 3 = 21\t7 * 4 = 28\t7 * 5 = 35\t7 * 6 = 42\t7 * 7 = 49\t7 * 8 = 56\t\n",
      "8 * 1 = 8\t8 * 2 = 16\t8 * 3 = 24\t8 * 4 = 32\t8 * 5 = 40\t8 * 6 = 48\t8 * 7 = 56\t8 * 8 = 64\t\n",
      "Multiplication table for 9:\n",
      "1 * 1 = 1\t1 * 2 = 2\t1 * 3 = 3\t1 * 4 = 4\t1 * 5 = 5\t1 * 6 = 6\t1 * 7 = 7\t1 * 8 = 8\t1 * 9 = 9\t\n",
      "2 * 1 = 2\t2 * 2 = 4\t2 * 3 = 6\t2 * 4 = 8\t2 * 5 = 10\t2 * 6 = 12\t2 * 7 = 14\t2 * 8 = 16\t2 * 9 = 18\t\n",
      "3 * 1 = 3\t3 * 2 = 6\t3 * 3 = 9\t3 * 4 = 12\t3 * 5 = 15\t3 * 6 = 18\t3 * 7 = 21\t3 * 8 = 24\t3 * 9 = 27\t\n",
      "4 * 1 = 4\t4 * 2 = 8\t4 * 3 = 12\t4 * 4 = 16\t4 * 5 = 20\t4 * 6 = 24\t4 * 7 = 28\t4 * 8 = 32\t4 * 9 = 36\t\n",
      "5 * 1 = 5\t5 * 2 = 10\t5 * 3 = 15\t5 * 4 = 20\t5 * 5 = 25\t5 * 6 = 30\t5 * 7 = 35\t5 * 8 = 40\t5 * 9 = 45\t\n",
      "6 * 1 = 6\t6 * 2 = 12\t6 * 3 = 18\t6 * 4 = 24\t6 * 5 = 30\t6 * 6 = 36\t6 * 7 = 42\t6 * 8 = 48\t6 * 9 = 54\t\n",
      "7 * 1 = 7\t7 * 2 = 14\t7 * 3 = 21\t7 * 4 = 28\t7 * 5 = 35\t7 * 6 = 42\t7 * 7 = 49\t7 * 8 = 56\t7 * 9 = 63\t\n",
      "8 * 1 = 8\t8 * 2 = 16\t8 * 3 = 24\t8 * 4 = 32\t8 * 5 = 40\t8 * 6 = 48\t8 * 7 = 56\t8 * 8 = 64\t8 * 9 = 72\t\n",
      "9 * 1 = 9\t9 * 2 = 18\t9 * 3 = 27\t9 * 4 = 36\t9 * 5 = 45\t9 * 6 = 54\t9 * 7 = 63\t9 * 8 = 72\t9 * 9 = 81\t\n"
     ]
    }
   ],
   "source": [
    "computation.all_tables_mult()"
   ]
  },
  {
   "cell_type": "code",
   "execution_count": 11,
   "id": "9cafd4fb",
   "metadata": {},
   "outputs": [
    {
     "data": {
      "text/plain": [
       "[1, 2, 3, 4, 6, 12]"
      ]
     },
     "execution_count": 11,
     "metadata": {},
     "output_type": "execute_result"
    }
   ],
   "source": [
    "computation.list_div(12)"
   ]
  },
  {
   "cell_type": "code",
   "execution_count": 12,
   "id": "40b1d673",
   "metadata": {},
   "outputs": [
    {
     "data": {
      "text/plain": [
       "[2, 3]"
      ]
     },
     "execution_count": 12,
     "metadata": {},
     "output_type": "execute_result"
    }
   ],
   "source": [
    "computation.list_div_prim(12)"
   ]
  },
  {
   "cell_type": "code",
   "execution_count": null,
   "id": "1e0cab2f",
   "metadata": {},
   "outputs": [],
   "source": []
  },
  {
   "cell_type": "markdown",
   "id": "c2254352",
   "metadata": {},
   "source": [
    "Class Book || Solution\n",
    "\n",
    " Define a Book class with the following attributes: Title, Author (Full name), Price.\n",
    " \n",
    "Define a constructor used to initialize the attributes of the method with values entered by the user.\n",
    "\n",
    "Set the View() method to display information for the current book.\n",
    "\n",
    "Write a program to testing the Book class."
   ]
  },
  {
   "cell_type": "code",
   "execution_count": 1,
   "id": "34a712b1",
   "metadata": {},
   "outputs": [
    {
     "name": "stdout",
     "output_type": "stream",
     "text": [
      "Title: The Alchemist\n",
      "Author: Paulo Coelho\n",
      "Price: 19.99\n"
     ]
    }
   ],
   "source": [
    "class Book:\n",
    "\n",
    "    def __init__(self, title, author, price):\n",
    "        self.title = title\n",
    "        self.author = author\n",
    "        self.price = price\n",
    "\n",
    "    def view(self):\n",
    "        print(\"Title:\", self.title)\n",
    "        print(\"Author:\", self.author)\n",
    "        print(\"Price:\", self.price)\n",
    "\n",
    "\n",
    "# Create a new book object\n",
    "book = Book(\"The Alchemist\", \"Paulo Coelho\", 19.99)\n",
    "\n",
    "# Display the information for the book\n",
    "book.view()\n"
   ]
  },
  {
   "cell_type": "code",
   "execution_count": null,
   "id": "15697ff9",
   "metadata": {},
   "outputs": [],
   "source": []
  }
 ],
 "metadata": {
  "kernelspec": {
   "display_name": "Python 3 (ipykernel)",
   "language": "python",
   "name": "python3"
  },
  "language_info": {
   "codemirror_mode": {
    "name": "ipython",
    "version": 3
   },
   "file_extension": ".py",
   "mimetype": "text/x-python",
   "name": "python",
   "nbconvert_exporter": "python",
   "pygments_lexer": "ipython3",
   "version": "3.9.12"
  }
 },
 "nbformat": 4,
 "nbformat_minor": 5
}

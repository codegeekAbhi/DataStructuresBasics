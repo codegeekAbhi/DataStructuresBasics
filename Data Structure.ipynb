{
 "cells": [
  {
   "cell_type": "markdown",
   "id": "344e0508",
   "metadata": {},
   "source": [
    "# Linked List"
   ]
  },
  {
   "cell_type": "markdown",
   "id": "0cae9e4a",
   "metadata": {},
   "source": [
    "Given a singly linked list of integers. The task is to display the linked list."
   ]
  },
  {
   "cell_type": "code",
   "execution_count": 4,
   "id": "7cac7ee7",
   "metadata": {},
   "outputs": [
    {
     "name": "stdout",
     "output_type": "stream",
     "text": [
      "1\n",
      "2\n",
      "3\n"
     ]
    }
   ],
   "source": [
    "class Node:\n",
    "    def __init__(self, data):\n",
    "        self.data = data\n",
    "        self.next = None\n",
    "\n",
    "\n",
    "class LinkedList:\n",
    "    def __init__(self):\n",
    "        self.head = None\n",
    "\n",
    "    def append(self, data):\n",
    "        new_node = Node(data)\n",
    "        if self.head is None:\n",
    "            self.head = new_node\n",
    "        else:\n",
    "            current = self.head\n",
    "            while current.next is not None:\n",
    "                current = current.next\n",
    "            current.next = new_node\n",
    "\n",
    "    def display(self):\n",
    "        current = self.head\n",
    "        while current is not None:\n",
    "            print(current.data)\n",
    "            current = current.next\n",
    "\n",
    "\n",
    "if __name__ == \"__main__\":\n",
    "    linked_list = LinkedList()\n",
    "    linked_list.append(1)\n",
    "    linked_list.append(2)\n",
    "    linked_list.append(3)\n",
    "    linked_list.display()\n"
   ]
  },
  {
   "cell_type": "markdown",
   "id": "81369b9e",
   "metadata": {},
   "source": [
    "# "
   ]
  },
  {
   "cell_type": "markdown",
   "id": "ea336953",
   "metadata": {},
   "source": [
    "Given a singly linked list. The task is to find the length of the linked list, where length is defined as the number of nodes in the linked list."
   ]
  },
  {
   "cell_type": "code",
   "execution_count": 7,
   "id": "365a1901",
   "metadata": {},
   "outputs": [],
   "source": [
    "#User function Template for python3\n",
    "\n",
    "'''\n",
    "\n",
    "#Linked list class\n",
    "class LinkedList:\n",
    "    def __init__(self):\n",
    "        self.head=None\n",
    "        self.tail=None\n",
    "        '''\n",
    "class Solution:\n",
    "    \n",
    "    #Function to count nodes of a linked list.\n",
    "    def getCount(self, head_node):\n",
    "        count=0\n",
    "        while head_node:\n",
    "            count+=1\n",
    "            head_node= head_node.next\n",
    "        return count\n",
    "            \n",
    "        \n",
    "        #code here\n",
    "        "
   ]
  },
  {
   "cell_type": "markdown",
   "id": "10cd6db3",
   "metadata": {},
   "source": [
    "# "
   ]
  },
  {
   "cell_type": "markdown",
   "id": "e2744448",
   "metadata": {},
   "source": [
    "Given a singly linked list of size N. The task is to sum the elements of the linked list."
   ]
  },
  {
   "cell_type": "code",
   "execution_count": 10,
   "id": "747c9c36",
   "metadata": {},
   "outputs": [],
   "source": [
    "#User function Template for python3\n",
    "\n",
    "'''\n",
    "class Node:\n",
    "    def __init__(self, data):\n",
    "        self.data = data\n",
    "        self.next = None\n",
    "'''\n",
    "\n",
    "def sumOfElements(head):\n",
    "    sum =0\n",
    "    while head!= None:\n",
    "        sum= sum + head.data\n",
    "        head= head.next\n",
    "    return sum\n",
    "    #code here"
   ]
  },
  {
   "cell_type": "markdown",
   "id": "1339afab",
   "metadata": {},
   "source": [
    "# "
   ]
  },
  {
   "cell_type": "markdown",
   "id": "b872e0c2",
   "metadata": {},
   "source": [
    "You are given a singly linked list of N elements, and also an element x. You need to find if x is present in the linked list or not."
   ]
  },
  {
   "cell_type": "code",
   "execution_count": 11,
   "id": "8728a2e6",
   "metadata": {},
   "outputs": [],
   "source": [
    "#User function Template for python3\n",
    "\n",
    "'''\n",
    "class Node:\n",
    "    def __init__(self, data):\n",
    "        self.data = data\n",
    "        self.next = None\n",
    "'''\n",
    "def searchLinkedList(head,x):\n",
    "    while head !=None:\n",
    "        if head.data==x:\n",
    "            return 1\n",
    "            \n",
    "        head= head.next\n",
    "    return 0\n",
    "        \n",
    "    #code here"
   ]
  },
  {
   "cell_type": "markdown",
   "id": "8f7748e1",
   "metadata": {},
   "source": [
    "# Linked List Insertion"
   ]
  },
  {
   "cell_type": "markdown",
   "id": "dea67ab9",
   "metadata": {},
   "source": [
    "Create a link list of size N according to the given input literals. Each integer input is accompanied by an indicator which can either be 0 or 1. If it is 0, insert the integer in the beginning of the link list. If it is 1, insert the integer at the end of the link list. \n",
    "\n",
    "Hint: When inserting at the end, make sure that you handle NULL explicitly."
   ]
  },
  {
   "cell_type": "code",
   "execution_count": 13,
   "id": "9b5dc18d",
   "metadata": {},
   "outputs": [],
   "source": [
    "'''    \n",
    "class Node:\n",
    "    def __init__(self,data):\n",
    "        self.data=data\n",
    "        self.next=None\n",
    "'''\n",
    "class Solution:\n",
    "    #Function to insert a node at the beginning of the linked list.\n",
    "    def insertAtBegining(self,head,x):\n",
    "        temp= Node(x)\n",
    "        temp.next= head\n",
    "        return temp\n",
    "        # code here \n",
    "    \n",
    "    #Function to insert a node at the end of the linked list.\n",
    "    def insertAtEnd(self,head,x):\n",
    "        # code here \n",
    "        #new= Node(x)\n",
    "        if head== None:\n",
    "            return Node(x)\n",
    "        curr= head\n",
    "        while curr.next!= None:\n",
    "            curr= curr.next\n",
    "        curr.next= Node(x)\n",
    "        return head\n",
    "\n"
   ]
  },
  {
   "cell_type": "markdown",
   "id": "9115b291",
   "metadata": {},
   "source": [
    "# Linked List Insertion At Position"
   ]
  },
  {
   "cell_type": "markdown",
   "id": "fc8d4275",
   "metadata": {},
   "source": [
    "You are given a linked list of size n. You need to insert an element data just after the given position pos.\n",
    "The position of first element is 1. If the given position is greater than n, then don't insert anything as it is not possible."
   ]
  },
  {
   "cell_type": "code",
   "execution_count": 15,
   "id": "33265105",
   "metadata": {},
   "outputs": [],
   "source": [
    "#User function Template for python3\n",
    "\n",
    "'''\n",
    "class Node:\n",
    "    def __init__(self, data):\n",
    "        self.data = data\n",
    "        self.next = None\n",
    "'''\n",
    "def insertPos(head,data,pos):\n",
    "\n",
    "    temp = Node(data)\n",
    "\n",
    "    if pos ==1:\n",
    "        temp.next = head\n",
    "        return temp\n",
    "    curr = head\n",
    "\n",
    "    for i in range(pos-2):\n",
    "        curr = curr.next\n",
    "        if curr == None:\n",
    "            return head\n",
    "\n",
    "    temp.next = curr.next\n",
    "    curr.next = temp\n",
    "\n",
    "    return head"
   ]
  },
  {
   "cell_type": "markdown",
   "id": "8b3bf0e6",
   "metadata": {},
   "source": [
    "# Delete Head of Linked List"
   ]
  },
  {
   "cell_type": "markdown",
   "id": "2d902678",
   "metadata": {},
   "source": [
    "Given a linked list of size n, you have to delete the head of the linked list and return the new head.\n",
    "Note: Please also set the next of the original head to null."
   ]
  },
  {
   "cell_type": "code",
   "execution_count": 16,
   "id": "59c0cf8b",
   "metadata": {},
   "outputs": [],
   "source": [
    "#User function Template for python3\n",
    "\n",
    "'''\n",
    "class Node:\n",
    "    def __init__(self, data):\n",
    "        self.data = data\n",
    "        self.next = None\n",
    "'''\n",
    "\n",
    "def deleteHead(head):\n",
    "    if head==None:\n",
    "        return None\n",
    "    else:\n",
    "        temp= head.next\n",
    "        head.next= None\n",
    "        head = temp\n",
    "        return head\n",
    "    \n",
    "    #code here"
   ]
  },
  {
   "cell_type": "markdown",
   "id": "1696077e",
   "metadata": {},
   "source": [
    "# Delete Tail of Linked List"
   ]
  },
  {
   "cell_type": "markdown",
   "id": "94893b05",
   "metadata": {},
   "source": [
    "Given a linked list of size n, you have to delete the tail (last element) in the linked list."
   ]
  },
  {
   "cell_type": "code",
   "execution_count": 18,
   "id": "e17c35aa",
   "metadata": {},
   "outputs": [],
   "source": [
    "#User function Template for python3\n",
    "\n",
    "def deleteTail(head):\n",
    "    \n",
    "    #code here\n",
    "    if head== None:\n",
    "        return\n",
    "    #if head == None:\n",
    "        \n",
    "    temp = head\n",
    "    while 1:\n",
    "        if temp.next.next==None:\n",
    "           \n",
    "           temp.next=None\n",
    "           return head\n",
    "        temp=temp.next"
   ]
  },
  {
   "cell_type": "markdown",
   "id": "b4ede452",
   "metadata": {},
   "source": [
    "# Linked List Delete at Position"
   ]
  },
  {
   "cell_type": "markdown",
   "id": "27ddbf38",
   "metadata": {},
   "source": [
    "Given a linked list of size n, you have to delete the node at position pos of the linked list and return the new head. The position of initial node is 1."
   ]
  },
  {
   "cell_type": "code",
   "execution_count": 20,
   "id": "92e48bfd",
   "metadata": {},
   "outputs": [],
   "source": [
    "#User function Template for python3\n",
    "\n",
    "'''\n",
    "class Node:\n",
    "    def __init__(self, data):\n",
    "        self.data = data\n",
    "        self.next = None\n",
    "'''\n",
    "def deleteAtPosition(head, pos):\n",
    "    #code here\n",
    "    #code here\n",
    "   if head==None:\n",
    "       return None\n",
    "   if pos==1:\n",
    "       return head.next\n",
    "   count=1\n",
    "   \n",
    "   curr=head\n",
    "   while(curr.next!=None):\n",
    "       count+=1\n",
    "       curr=curr.next\n",
    "   if count<pos:\n",
    "       return head\n",
    "   curr=head\n",
    "   for i in range(pos-2):\n",
    "       curr=curr.next\n",
    "   \n",
    "   temp=curr.next.next\n",
    "   curr.next=temp\n",
    "   return head"
   ]
  },
  {
   "cell_type": "markdown",
   "id": "81e4281a",
   "metadata": {},
   "source": [
    "# Insert In Sorted Linked List"
   ]
  },
  {
   "cell_type": "markdown",
   "id": "cbb8318c",
   "metadata": {},
   "source": [
    "Given a sorted (non decreasing) linked list of size n, you have to insert the given data at appropriate position in the linked list."
   ]
  },
  {
   "cell_type": "code",
   "execution_count": 22,
   "id": "9e07610b",
   "metadata": {},
   "outputs": [],
   "source": [
    "#User function Template for python3\n",
    "\n",
    "'''\n",
    "class Node:\n",
    "    def __init__(self, data):\n",
    "        self.data = data\n",
    "        self.next = None\n",
    "'''\n",
    "\n",
    "def  insertInSorted(head,data):\n",
    "    temp = Node(data)\n",
    "    if head== None:\n",
    "        return head\n",
    "    elif data <head.data:\n",
    "        temp.next= head\n",
    "        return temp\n",
    "    else:\n",
    "        curr = head\n",
    "        while curr.next!= None and curr.next.data < data:\n",
    "            curr= curr.next\n",
    "        temp.next= curr.next\n",
    "        curr.next= temp\n",
    "        return head \n",
    "    \n",
    "    \n",
    "    #code here"
   ]
  },
  {
   "cell_type": "markdown",
   "id": "b0280b4e",
   "metadata": {},
   "source": [
    "# Insert in Middle of Linked List"
   ]
  },
  {
   "cell_type": "markdown",
   "id": "e827e3a0",
   "metadata": {},
   "source": [
    "Given a linked list of size N and a key. The task is to insert the key in the middle of the linked list.\n"
   ]
  },
  {
   "cell_type": "code",
   "execution_count": 24,
   "id": "18c54cfd",
   "metadata": {},
   "outputs": [],
   "source": [
    "#User function Template for python3\n",
    "\n",
    "#Function to insert a node in the middle of the linked list.\n",
    "def insertInMid(head,node):\n",
    "    slow = head\n",
    "    fast = head\n",
    "    while fast.next and fast.next.next:\n",
    "        fast = fast.next.next\n",
    "        slow = slow.next\n",
    "    node.next = slow.next\n",
    "    slow.next = node\n",
    "    return head"
   ]
  },
  {
   "cell_type": "markdown",
   "id": "32db3022",
   "metadata": {},
   "source": [
    "# Is Linked List Sorted"
   ]
  },
  {
   "cell_type": "markdown",
   "id": "429a8651",
   "metadata": {},
   "source": [
    "Given a linked list of size n, you have to find whether the given linked list is sorted or not.\n",
    "The sorting can either be non-increasing or non-decreasing."
   ]
  },
  {
   "cell_type": "code",
   "execution_count": 26,
   "id": "9eeec747",
   "metadata": {},
   "outputs": [],
   "source": [
    "#User function Template for python3\n",
    "\n",
    "'''\n",
    "class Node:\n",
    "    def __init__(self, data):\n",
    "        self.data = data\n",
    "        self.next = None\n",
    "'''\n",
    "def isSorted(head):\n",
    "    #code here\n",
    "    \n",
    "    cur = head\n",
    "    is_inc = True\n",
    "    is_dec = True\n",
    "   \n",
    "       \n",
    "    while cur is not None and cur.next is not None:\n",
    "        \n",
    "        is_inc = is_inc and cur.data <= cur.next.data\n",
    "        is_dec = is_dec and cur.data >= cur.next.data\n",
    "        cur = cur.next\n",
    "\n",
    "    res = int(is_inc or is_dec)\n",
    "    return res"
   ]
  },
  {
   "cell_type": "markdown",
   "id": "951e0aa7",
   "metadata": {},
   "source": [
    "# Nth node from end of linked list"
   ]
  },
  {
   "cell_type": "markdown",
   "id": "be17d4ee",
   "metadata": {},
   "source": [
    "Given a linked list consisting of L nodes and given a number N. The task is to find the Nth node from the end of the linked list."
   ]
  },
  {
   "cell_type": "code",
   "execution_count": 28,
   "id": "15010521",
   "metadata": {},
   "outputs": [],
   "source": [
    "#Function to find the data of nth node from the end of a linked list\n",
    "def getNthFromLast(head,n):\n",
    "    #code here\n",
    "    first_node = head\n",
    "    second_node = head \n",
    "    \n",
    "    for i in range(1,n):\n",
    "        first_node = first_node.next\n",
    "        if first_node == None:\n",
    "            return -1\n",
    "    \n",
    "    \n",
    "    while first_node.next != None:\n",
    "        first_node = first_node.next\n",
    "        second_node = second_node.next\n",
    "        \n",
    "        \n",
    "    return second_node.data"
   ]
  },
  {
   "cell_type": "markdown",
   "id": "1731ef4e",
   "metadata": {},
   "source": [
    "# Join Two Linked Lists"
   ]
  },
  {
   "cell_type": "markdown",
   "id": "ebbb6b23",
   "metadata": {},
   "source": [
    "Given two linked lists of size n1 and n2 respectively, you have to join the head of second list to the tail of first so that we can traverse both the lists using head of 1st list."
   ]
  },
  {
   "cell_type": "code",
   "execution_count": 29,
   "id": "f66d3358",
   "metadata": {},
   "outputs": [],
   "source": [
    "#User function Template for python3\n",
    "\n",
    "'''\n",
    "class Node:\n",
    "    def __init__(self, data):\n",
    "        self.data = data\n",
    "        self.next = None\n",
    "'''\n",
    "def joinTheLists(head1, head2):\n",
    "    #code here\n",
    "    curr = head1\n",
    "    while curr.next != None:\n",
    "        curr= curr.next\n",
    "    curr.next= head2\n",
    "    return head1"
   ]
  },
  {
   "cell_type": "markdown",
   "id": "a2196ce2",
   "metadata": {},
   "source": [
    "# Remove duplicate element from sorted Linked List"
   ]
  },
  {
   "cell_type": "markdown",
   "id": "93f2c182",
   "metadata": {},
   "source": [
    "Given a singly linked list consisting of N nodes. The task is to remove duplicates (nodes with duplicate values) from the given list (if exists).\n",
    "Note: Try not to use extra space. Expected time complexity is O(N). The nodes are arranged in a sorted way."
   ]
  },
  {
   "cell_type": "code",
   "execution_count": null,
   "id": "1f6b20f5",
   "metadata": {},
   "outputs": [],
   "source": [
    "#Function to remove duplicates from sorted linked list.\n",
    "def removeDuplicates(head):\n",
    "    curr = head\n",
    "    while curr!= None and curr.next!= None:\n",
    "        if curr.data == curr.next.data :\n",
    "            curr.next = curr.next.next\n",
    "        else:\n",
    "            curr= curr.next"
   ]
  },
  {
   "cell_type": "markdown",
   "id": "f9d78c59",
   "metadata": {},
   "source": [
    "# Reverse a linked list"
   ]
  },
  {
   "cell_type": "markdown",
   "id": "89f9e182",
   "metadata": {},
   "source": [
    "Given a linked list of N nodes. The task is to reverse this list."
   ]
  },
  {
   "cell_type": "code",
   "execution_count": 31,
   "id": "2f234c92",
   "metadata": {},
   "outputs": [],
   "source": [
    "def reverse_linked_list(head):\n",
    "  prev = None\n",
    "  curr = head\n",
    "  while curr is not None:\n",
    "    next_node = curr.next\n",
    "    curr.next = prev\n",
    "    prev = curr\n",
    "    curr = next_node\n",
    "\n",
    "  return prev"
   ]
  },
  {
   "cell_type": "markdown",
   "id": "af46691f",
   "metadata": {},
   "source": [
    "# Maximum And Minimum In Linked List"
   ]
  },
  {
   "cell_type": "markdown",
   "id": "67546829",
   "metadata": {},
   "source": [
    "Given a singly linked list of N elements. The task is to find the maximum and minimum element."
   ]
  },
  {
   "cell_type": "code",
   "execution_count": 32,
   "id": "dc67b63b",
   "metadata": {},
   "outputs": [],
   "source": [
    "def find_max_min(head):\n",
    "  max_val = min_val = head.data\n",
    "  curr = head.next\n",
    "  while curr is not None:\n",
    "    if curr.data > max_val:\n",
    "      max_val = curr.data\n",
    "    elif curr.data < min_val:\n",
    "      min_val = curr.data\n",
    "    curr = curr.next\n",
    "\n",
    "  return max_val, min_val\n"
   ]
  },
  {
   "cell_type": "markdown",
   "id": "4927495c",
   "metadata": {},
   "source": [
    "# Identical Linked Lists"
   ]
  },
  {
   "cell_type": "markdown",
   "id": "45287c99",
   "metadata": {},
   "source": [
    "Given two Singly Linked List of N and M nodes respectively. The task is to check whether two linked lists are identical or not. \n",
    "Two Linked Lists are identical when they have same data and with same arrangement too."
   ]
  },
  {
   "cell_type": "code",
   "execution_count": 33,
   "id": "1fbfcbb1",
   "metadata": {},
   "outputs": [],
   "source": [
    "def is_identical(head1, head2):\n",
    "  \"\"\"\n",
    "  Checks if two linked lists are identical.\n",
    "\n",
    "  Args:\n",
    "    head1: The head of the first linked list.\n",
    "    head2: The head of the second linked list.\n",
    "\n",
    "  Returns:\n",
    "    True if the two linked lists are identical, False otherwise.\n",
    "  \"\"\"\n",
    "\n",
    "  while head1 and head2:\n",
    "    if head1.data != head2.data:\n",
    "      return False\n",
    "    head1 = head1.next\n",
    "    head2 = head2.next\n",
    "\n",
    "  return head1 is None and head2 is None\n"
   ]
  },
  {
   "cell_type": "markdown",
   "id": "5eef6ff8",
   "metadata": {},
   "source": [
    "# "
   ]
  },
  {
   "cell_type": "markdown",
   "id": "30af638d",
   "metadata": {},
   "source": [
    "# "
   ]
  },
  {
   "cell_type": "markdown",
   "id": "c5694a9b",
   "metadata": {},
   "source": [
    "# Circular Linked List"
   ]
  },
  {
   "cell_type": "markdown",
   "id": "db408086",
   "metadata": {},
   "source": [
    "# Length of Circular Linked List"
   ]
  },
  {
   "cell_type": "markdown",
   "id": "8bff1e71",
   "metadata": {},
   "source": [
    "Given a circular linked list of size n, you need to find the length of the list (total number of nodes). The tail of the linked list is connected to head."
   ]
  },
  {
   "cell_type": "code",
   "execution_count": 34,
   "id": "12b90ba3",
   "metadata": {},
   "outputs": [],
   "source": [
    "def find_length(head):\n",
    "  \"\"\"Finds the length of a circular linked list.\n",
    "\n",
    "  Args:\n",
    "    head: The head of the linked list.\n",
    "\n",
    "  Returns:\n",
    "    The length of the linked list.\n",
    "  \"\"\"\n",
    "\n",
    "  count = 0\n",
    "  current = head\n",
    "  while current is not None:\n",
    "    count += 1\n",
    "    current = current.next\n",
    "    if current == head:\n",
    "      break\n",
    "\n",
    "  return count"
   ]
  },
  {
   "cell_type": "markdown",
   "id": "4f98da82",
   "metadata": {},
   "source": [
    "# Display Circular Linked List"
   ]
  },
  {
   "cell_type": "markdown",
   "id": "7aaec0f7",
   "metadata": {},
   "source": [
    "# Given a circular linked list of size n, you need to display the linked list. The tail of the linked list is connected to head."
   ]
  },
  {
   "cell_type": "code",
   "execution_count": 35,
   "id": "b97e7717",
   "metadata": {},
   "outputs": [],
   "source": [
    "def display_circular_linked_list(head):\n",
    "  \"\"\"Displays a circular linked list.\n",
    "\n",
    "  Args:\n",
    "    head: The head of the linked list.\n",
    "  \"\"\"\n",
    "\n",
    "  current = head\n",
    "  while current is not None:\n",
    "    print(current.data)\n",
    "    current = current.next\n",
    "    if current == head:\n",
    "      break\n"
   ]
  },
  {
   "cell_type": "markdown",
   "id": "3429dbcf",
   "metadata": {},
   "source": [
    "# Circular Linked List Head Insert"
   ]
  },
  {
   "cell_type": "markdown",
   "id": "926f9bb1",
   "metadata": {},
   "source": [
    "Given a circular linked list of size N, you need to insert an element data before the head and make it the new head. The tail of the linked list is connected to head"
   ]
  },
  {
   "cell_type": "code",
   "execution_count": 36,
   "id": "ceaa3b1d",
   "metadata": {},
   "outputs": [],
   "source": [
    "def insert_before_head(head, data):\n",
    "  \"\"\"Inserts an element before the head of a circular linked list.\n",
    "\n",
    "  Args:\n",
    "    head: The head of the linked list.\n",
    "    data: The data to insert.\n",
    "\n",
    "  Returns:\n",
    "    The new head of the linked list.\n",
    "  \"\"\"\n",
    "\n",
    "  # Create a new node to hold the data.\n",
    "  new_node = Node(data)\n",
    "\n",
    "  # Find the previous node to the head.\n",
    "  prev_node = head\n",
    "  while prev_node.next != head:\n",
    "    prev_node = prev_node.next\n",
    "\n",
    "  # Insert the new node before the head.\n",
    "  new_node.next = head\n",
    "  prev_node.next = new_node\n",
    "\n",
    "  # Return the new head of the linked list.\n",
    "  return new_node\n"
   ]
  },
  {
   "cell_type": "markdown",
   "id": "87827486",
   "metadata": {},
   "source": [
    "# Circular Linked List Tail Insert"
   ]
  },
  {
   "cell_type": "markdown",
   "id": "551c9b40",
   "metadata": {},
   "source": [
    "Given a circular linked list of size N, you need to insert an element data after the tail.\n",
    "The tail of the linked list is connected to head."
   ]
  },
  {
   "cell_type": "code",
   "execution_count": 37,
   "id": "fc0750ce",
   "metadata": {},
   "outputs": [],
   "source": [
    "def insert_after_tail(head, data):\n",
    "  \"\"\"Inserts an element after the tail of a circular linked list.\n",
    "\n",
    "  Args:\n",
    "    head: The head of the linked list.\n",
    "    data: The data to insert.\n",
    "\n",
    "  Returns:\n",
    "    The new tail of the linked list.\n",
    "  \"\"\"\n",
    "\n",
    "  # Create a new node to hold the data.\n",
    "  new_node = Node(data)\n",
    "\n",
    "  # Find the tail of the linked list.\n",
    "  tail = head\n",
    "  while tail.next != head:\n",
    "    tail = tail.next\n",
    "\n",
    "  # Insert the new node after the tail.\n",
    "  tail.next = new_node\n",
    "  new_node.next = head\n",
    "\n",
    "  # Return the new tail of the linked list.\n",
    "  return new_node"
   ]
  },
  {
   "cell_type": "markdown",
   "id": "26d0c826",
   "metadata": {},
   "source": [
    "# Delete Tail of Circular Linked List"
   ]
  },
  {
   "cell_type": "markdown",
   "id": "c707cde3",
   "metadata": {},
   "source": [
    "Given a circular linked list of size n, you have to delete the tail (last element) in the linked list.\n",
    "In a circular linked list, the tail is connect to the head using the next pointer."
   ]
  },
  {
   "cell_type": "code",
   "execution_count": 38,
   "id": "f644096a",
   "metadata": {},
   "outputs": [],
   "source": [
    "def delete_tail(head):\n",
    "  #Deletes the tail of a circular linked list.\n",
    "\n",
    "  if head is None:\n",
    "    return None\n",
    "\n",
    "  # Find the second-to-last node in the linked list.\n",
    "  prev_node = head\n",
    "  while prev_node.next.next is not head:\n",
    "    prev_node = prev_node.next\n",
    "\n",
    "  # Delete the tail node.\n",
    "  del prev_node.next\n",
    "\n",
    "  # Return the new head of the linked list.\n",
    "  return head\n"
   ]
  },
  {
   "cell_type": "markdown",
   "id": "f26a1099",
   "metadata": {},
   "source": [
    "# Check If Circular Linked List"
   ]
  },
  {
   "cell_type": "markdown",
   "id": "948ac662",
   "metadata": {},
   "source": [
    "Given head, the head of a singly linked list, find if the linked list is circular or not. A linked list is called circular if it not NULL terminated and all nodes are connected in the form of a cycle. An empty linked list is considered as circular.\n",
    "\n",
    "Note: The linked list does not contains any inner loop."
   ]
  },
  {
   "cell_type": "code",
   "execution_count": 39,
   "id": "3c521f84",
   "metadata": {},
   "outputs": [],
   "source": [
    "def is_circular(head):\n",
    "\n",
    "\n",
    "  if head is None:\n",
    "    return False\n",
    "\n",
    "  slow_runner = head\n",
    "  fast_runner = head\n",
    "\n",
    "  while fast_runner is not None and fast_runner.next is not None:\n",
    "    slow_runner = slow_runner.next\n",
    "    fast_runner = fast_runner.next.next\n",
    "\n",
    "    if slow_runner == fast_runner:\n",
    "      return True\n",
    "\n",
    "  return False"
   ]
  },
  {
   "cell_type": "markdown",
   "id": "bbfe5dc0",
   "metadata": {},
   "source": [
    "# Delete Head of Circular Linked List"
   ]
  },
  {
   "cell_type": "markdown",
   "id": "75d3c5e5",
   "metadata": {},
   "source": [
    "Given a circular linked list of size n, you have to delete the head of the linked list and return the new head.\n",
    "In the circular linked list the tail of the list is connected to the head using the next pointer.\n",
    "Note: Please also set the next of the original head to null."
   ]
  },
  {
   "cell_type": "code",
   "execution_count": 40,
   "id": "0ab1ffc6",
   "metadata": {},
   "outputs": [],
   "source": [
    "def delete_head(head):\n",
    "\n",
    "  if head is None:\n",
    "    return None\n",
    "\n",
    "  # Get the second node in the linked list.\n",
    "  second_node = head.next\n",
    "\n",
    "  # Set the head of the linked list to the second node.\n",
    "  head = second_node\n",
    "\n",
    "  # Set the next pointer of the original head to None.\n",
    "  head.next = None\n",
    "\n",
    "  return head\n"
   ]
  },
  {
   "cell_type": "markdown",
   "id": "a89e326e",
   "metadata": {},
   "source": [
    "# Circular Linked List Delete at Position"
   ]
  },
  {
   "cell_type": "markdown",
   "id": "6090dab1",
   "metadata": {},
   "source": [
    "Given a linked list of size n, you have to delete the node at position pos of the linked list and return the new head. The position of initial node is 1.\n",
    "The tail of the circular linked list is connected to the head using next pointer."
   ]
  },
  {
   "cell_type": "code",
   "execution_count": 41,
   "id": "f5ac8e89",
   "metadata": {},
   "outputs": [],
   "source": [
    "def delete_node(head, pos):\n",
    "\n",
    "  if head is None:\n",
    "    return None\n",
    "\n",
    "  # Find the node to delete.\n",
    "  current = head\n",
    "  for i in range(pos - 1):\n",
    "    current = current.next\n",
    "\n",
    "  # Delete the node.\n",
    "  if current.next is None:\n",
    "    head = None\n",
    "  else:\n",
    "    current.next.next = current.next\n",
    "\n",
    "  return head\n"
   ]
  },
  {
   "cell_type": "markdown",
   "id": "fbc53033",
   "metadata": {},
   "source": [
    "# Circular Linked List Insertion At Position"
   ]
  },
  {
   "cell_type": "markdown",
   "id": "ea4b7dc8",
   "metadata": {},
   "source": [
    "You are given a circular linked list of size N. You need to insert an element data just after the given position pos.\n",
    "The position of first element is 1. If the given position is greater than N, then don't insert anything as it is not possible.\n",
    "As the given linked list is circular, it means that the tail is connected to the head of the list."
   ]
  },
  {
   "cell_type": "code",
   "execution_count": 42,
   "id": "dfa5287f",
   "metadata": {},
   "outputs": [],
   "source": [
    "def insert_after(head, pos, data):\n",
    "\n",
    "  if head is None:\n",
    "    return Node(data)\n",
    "\n",
    "  # Find the node before the position to insert.\n",
    "  current = head\n",
    "  for i in range(pos - 1):\n",
    "    current = current.next\n",
    "\n",
    "  # Create the new node.\n",
    "  new_node = Node(data)\n",
    "\n",
    "  # Insert the new node.\n",
    "  new_node.next = current.next\n",
    "  current.next = new_node\n",
    "\n",
    "  return head\n"
   ]
  },
  {
   "cell_type": "markdown",
   "id": "e7f1ff8e",
   "metadata": {},
   "source": [
    "# "
   ]
  },
  {
   "cell_type": "markdown",
   "id": "abce9e25",
   "metadata": {},
   "source": [
    "# "
   ]
  },
  {
   "cell_type": "markdown",
   "id": "23bbe5ba",
   "metadata": {},
   "source": [
    "# Doubly Linked List"
   ]
  },
  {
   "cell_type": "markdown",
   "id": "330d83ab",
   "metadata": {},
   "source": [
    "# "
   ]
  },
  {
   "cell_type": "markdown",
   "id": "24a45a20",
   "metadata": {},
   "source": [
    "# Display Doubly Linked List"
   ]
  },
  {
   "cell_type": "markdown",
   "id": "bf3d430b",
   "metadata": {},
   "source": [
    "Given a doubly linked list of n elements. The task is to display the linked list."
   ]
  },
  {
   "cell_type": "code",
   "execution_count": 43,
   "id": "741bda72",
   "metadata": {},
   "outputs": [],
   "source": [
    "def display_linked_list(head):\n",
    "  \"\"\"Displays a doubly linked list of n elements.\n",
    "\n",
    "  Args:\n",
    "    head: The head of the linked list.\n",
    "\n",
    "  Returns:\n",
    "    None.\n",
    "  \"\"\"\n",
    "\n",
    "  current = head\n",
    "  while current is not None:\n",
    "    print(current.data)\n",
    "    current = current.next\n",
    "\n"
   ]
  },
  {
   "cell_type": "markdown",
   "id": "712a5087",
   "metadata": {},
   "source": [
    "# Doubly Linked List Head Insert. "
   ]
  },
  {
   "cell_type": "markdown",
   "id": "e48702b9",
   "metadata": {},
   "source": [
    "#Given a doubly linked list of size n, you need to insert an element data before the head and make it the new head."
   ]
  },
  {
   "cell_type": "code",
   "execution_count": 44,
   "id": "c850edba",
   "metadata": {},
   "outputs": [],
   "source": [
    "def insert_before_head(head, data):\n",
    "\n",
    "  # Create a new node with the given data.\n",
    "  new_node = Node(data)\n",
    "\n",
    "  # Set the new node's next pointer to the current head.\n",
    "  new_node.next = head\n",
    "\n",
    "  # If the current head is not None, set its previous pointer to the new node.\n",
    "  if head is not None:\n",
    "    head.prev = new_node\n",
    "\n",
    "  # Set the new node as the new head.\n",
    "  return new_node\n",
    "\n"
   ]
  },
  {
   "cell_type": "markdown",
   "id": "37a01c0c",
   "metadata": {},
   "source": [
    "# Display Circular Doubly Linked List"
   ]
  },
  {
   "cell_type": "markdown",
   "id": "0639d917",
   "metadata": {},
   "source": [
    " Given a circular doubly linked list consisting of N nodes, the task is to print the elements from head to tail, then from tail to head in two separate lines.\n",
    "The tail of a circular doubly linked list is connected to head via its next pointer, and the previous pointer of head is connected to the tail."
   ]
  },
  {
   "cell_type": "code",
   "execution_count": 45,
   "id": "0ed9319f",
   "metadata": {},
   "outputs": [],
   "source": [
    "def print_circular_doubly_linked_list(head):\n",
    "  \"\"\"Prints the elements of a circular doubly linked list from head to tail, then from tail to head in two separate lines.\n",
    "\n",
    "  Args:\n",
    "    head: The head of the linked list.\n",
    "\n",
    "  Returns:\n",
    "    None.\n",
    "  \"\"\"\n",
    "\n",
    "  current = head\n",
    "  while current is not None:\n",
    "    print(current.data)\n",
    "    current = current.next\n",
    "\n",
    "  # Start at the tail\n",
    "  current = head.prev\n",
    "\n",
    "  while current is not None:\n",
    "    print(current.data)\n",
    "    current = current.prev\n",
    "\n"
   ]
  },
  {
   "cell_type": "markdown",
   "id": "c1bfdc50",
   "metadata": {},
   "source": [
    "# Is The Doubly Linked List Circular"
   ]
  },
  {
   "cell_type": "markdown",
   "id": "8e7a0214",
   "metadata": {},
   "source": [
    "Given a doubly linked list, the task is to check if it is circular or not."
   ]
  },
  {
   "cell_type": "code",
   "execution_count": 46,
   "id": "a9ff99a8",
   "metadata": {},
   "outputs": [],
   "source": [
    "def is_circular_doubly_linked_list(head):\n",
    " \n",
    "  # Start at the head\n",
    "  current = head\n",
    "\n",
    "  # Loop until we reach the end of the linked list\n",
    "  while current is not None:\n",
    "    # If the current node's next pointer is the head, then the linked list is circular.\n",
    "    if current.next == head:\n",
    "      return True\n",
    "\n",
    "    # Move to the next node.\n",
    "    current = current.next\n",
    "\n",
    "  # If we reach the end of the linked list and the next pointer is not the head, then the linked list is not circular.\n",
    "  return False\n"
   ]
  },
  {
   "cell_type": "markdown",
   "id": "9b5fa83a",
   "metadata": {},
   "source": [
    "# Doubly Linked List Tail Insert"
   ]
  },
  {
   "cell_type": "markdown",
   "id": "029a2be1",
   "metadata": {},
   "source": [
    "Given a doubly linked list of size n, you need to insert an element data after the tail."
   ]
  },
  {
   "cell_type": "code",
   "execution_count": 47,
   "id": "7a308da8",
   "metadata": {},
   "outputs": [],
   "source": [
    "def insert_after_tail(head, data):\n",
    "    temp = Node(x)\n",
    "    if head== None:\n",
    "        return temp\n",
    "    \n",
    "    while current.next is not none:\n",
    "        current = current.next\n",
    "    current.next =temp\n",
    "    temp.prev=current\n",
    "    return head\n"
   ]
  },
  {
   "cell_type": "markdown",
   "id": "d7983c72",
   "metadata": {},
   "source": [
    "# Doubly linked list Insertion at given position"
   ]
  },
  {
   "cell_type": "markdown",
   "id": "717b35ca",
   "metadata": {},
   "source": [
    "Given a doubly-linked list, a position p, and an integer x. The task is to add a new node with value x at the position just after pth node in the doubly linked list."
   ]
  },
  {
   "cell_type": "code",
   "execution_count": 48,
   "id": "53313226",
   "metadata": {},
   "outputs": [],
   "source": [
    "def addNode(head, p, data):\n",
    "    # Code here\n",
    "    temp=Node(data)\n",
    "    curr=head\n",
    "    for i in range(pos):\n",
    "        curr=curr.next\n",
    "    temp.next=curr.next\n",
    "    curr.next=temp\n",
    "    temp.prev=curr\n",
    "    return head"
   ]
  },
  {
   "cell_type": "markdown",
   "id": "642cc539",
   "metadata": {},
   "source": [
    "# Delete Head of Doubly Linked List"
   ]
  },
  {
   "cell_type": "markdown",
   "id": "84507c59",
   "metadata": {},
   "source": [
    "Given a doubly linked list of size n, you have to delete the head of the linked list and return the new head.\n",
    "Note: Please set the previous of new head to null, and set the next of old head to null, and then delete the old head."
   ]
  },
  {
   "cell_type": "code",
   "execution_count": 49,
   "id": "1de99860",
   "metadata": {},
   "outputs": [],
   "source": [
    "def delete_head(head):\n",
    "    if head == None:\n",
    "        return None \n",
    "        \n",
    "    head = head.next \n",
    "    head.prev = None \n",
    "    return head\n",
    "\n"
   ]
  },
  {
   "cell_type": "markdown",
   "id": "900f1f45",
   "metadata": {},
   "source": [
    "# Find Middle of Circular Doubly Linked List"
   ]
  },
  {
   "cell_type": "markdown",
   "id": "f2bae646",
   "metadata": {},
   "source": [
    "Given a circular doubly linked list of odd size n, the task is to print the middle element.\n",
    "The tail of a circular doubly linked list is connected to head via its next pointer, and the previous pointer of head is connected to the tail."
   ]
  },
  {
   "cell_type": "code",
   "execution_count": 50,
   "id": "fd4efc94",
   "metadata": {},
   "outputs": [],
   "source": [
    "def findMiddle(self, head):\n",
    "        #code here\n",
    "        if head == None:\n",
    "            return None\n",
    "        elif head.next == head: # one ele cdll\n",
    "            return head.data\n",
    "        else:\n",
    "            # pakka odd number of ele in cdll given\n",
    "            fast = slow = head\n",
    "            while fast.next != head: # cdll\n",
    "                slow = slow.next\n",
    "                fast = fast.next.next\n",
    "            return slow.data"
   ]
  },
  {
   "cell_type": "markdown",
   "id": "8ae8ffe6",
   "metadata": {},
   "source": [
    "# Delete node in Doubly Linked List"
   ]
  },
  {
   "cell_type": "markdown",
   "id": "d60da722",
   "metadata": {},
   "source": [
    "Given a doubly linked list and a position. The task is to delete a node from given position in a doubly linked list."
   ]
  },
  {
   "cell_type": "code",
   "execution_count": 51,
   "id": "04453349",
   "metadata": {},
   "outputs": [],
   "source": [
    " def deleteNode(self,head, x):\n",
    "        if head == None:\n",
    "            return None\n",
    "        if x == 1:\n",
    "            head = head.next \n",
    "            head.prev = None \n",
    "        else:\n",
    "            cur = head\n",
    "            for i in range(pos-2):\n",
    "                cur = cur.next \n",
    "            cur.next = cur.next.next\n"
   ]
  },
  {
   "cell_type": "markdown",
   "id": "40ee2b1b",
   "metadata": {},
   "source": [
    "# Delete Tail of Doubly Linked List"
   ]
  },
  {
   "cell_type": "markdown",
   "id": "b07a95d7",
   "metadata": {},
   "source": [
    "Given a doubly linked list of size n, you have to delete the tail (last element) in the linked list."
   ]
  },
  {
   "cell_type": "code",
   "execution_count": 52,
   "id": "32493362",
   "metadata": {},
   "outputs": [],
   "source": [
    "def delete_tail(head):\n",
    "\n",
    "  # Check if the linked list is empty.\n",
    "  if head is None:\n",
    "    return None\n",
    "\n",
    "  # Find the second last node.\n",
    "  current = head\n",
    "  while current.next.next is not None:\n",
    "    current = current.next\n",
    "\n",
    "  # Delete the tail node.\n",
    "  current.next = None\n",
    "\n",
    "  # Return the new head of the linked list.\n",
    "  return head\n"
   ]
  },
  {
   "cell_type": "markdown",
   "id": "77f3c4f2",
   "metadata": {},
   "source": [
    "# Reverse a Doubly Linked List"
   ]
  },
  {
   "cell_type": "markdown",
   "id": "c7f92c4c",
   "metadata": {},
   "source": [
    "Given a doubly linked list of n elements. The task is to reverse the doubly linked list."
   ]
  },
  {
   "cell_type": "code",
   "execution_count": 53,
   "id": "65390221",
   "metadata": {},
   "outputs": [],
   "source": [
    "def reverseDLL(head):\n",
    "    if head == None:\n",
    "        return None\n",
    "    if head.next == None:\n",
    "        return head\n",
    "\n",
    "    curr = head\n",
    "    prev = None\n",
    "\n",
    "    while curr != None:\n",
    "        # prev = curr\n",
    "        curr.next, curr.prev = curr.prev, curr.next\n",
    "        prev = curr\n",
    "        curr = curr.prev\n",
    "        # prev = curr\n",
    "\n",
    "    return prev"
   ]
  },
  {
   "cell_type": "markdown",
   "id": "62e6a8c2",
   "metadata": {},
   "source": [
    "# Insert in Sorted way in a Sorted DLL"
   ]
  },
  {
   "cell_type": "markdown",
   "id": "21928176",
   "metadata": {},
   "source": [
    "Given a sorted doubly linked list and an element X, your need to insert the element X into correct position in the sorted DLL."
   ]
  },
  {
   "cell_type": "code",
   "execution_count": 54,
   "id": "cf9acb42",
   "metadata": {},
   "outputs": [],
   "source": [
    "def sortedInsert(head, x):\n",
    "    temp=Node(x)\n",
    "    if head.data>=x:\n",
    "        temp.next=head\n",
    "        head.prev=temp\n",
    "        return temp\n",
    "    if head.next==None:\n",
    "        temp.next=head.next\n",
    "        temp.prev=head\n",
    "        head.next=temp\n",
    "        return head\n",
    "    curr=head\n",
    "    while curr.next and curr.next.data<x:\n",
    "        curr=curr.next\n",
    "    temp.prev=curr\n",
    "    if curr.next!=None:\n",
    "        temp.next=curr.next\n",
    "        curr.next.prev=temp\n",
    "    curr.next=temp\n",
    "    return head"
   ]
  },
  {
   "cell_type": "markdown",
   "id": "f808ab22",
   "metadata": {},
   "source": [
    "# Compare Circular Doubly Linked Lists"
   ]
  },
  {
   "cell_type": "markdown",
   "id": "b3afa4f3",
   "metadata": {},
   "source": [
    "Given two circular doubly linked lists of sizes n1 and n2 respectively, the task is check if the corresponding elements of the lists are same or not.\n",
    "The tail of a circular doubly linked list is connected to head via its next pointer, and the previous pointer of head is connected to the tail."
   ]
  },
  {
   "cell_type": "code",
   "execution_count": 56,
   "id": "bd253c6a",
   "metadata": {},
   "outputs": [],
   "source": [
    "def are_circular_doubly_linked_lists_identical(head1, head2):\n",
    "\n",
    "\n",
    "  # Check if the linked lists are of the same size.\n",
    "  if len(head1) != len(head2):\n",
    "    return False\n",
    "\n",
    "  # Iterate over the linked lists and compare the corresponding elements.\n",
    "  current1 = head1\n",
    "  current2 = head2\n",
    "  while current1 is not None and current2 is not None:\n",
    "    if current1.data != current2.data:\n",
    "      return False\n",
    "\n",
    "    current1 = current1.next\n",
    "    current2 = current2.next\n",
    "\n",
    "  # If we reach the end of both linked lists, then they are identical.\n",
    "  return current1 is None and current2 is None\n"
   ]
  },
  {
   "cell_type": "markdown",
   "id": "4f0ff253",
   "metadata": {},
   "source": [
    "# "
   ]
  },
  {
   "cell_type": "markdown",
   "id": "5baafef8",
   "metadata": {},
   "source": [
    "# "
   ]
  },
  {
   "cell_type": "markdown",
   "id": "9a5d6fcf",
   "metadata": {},
   "source": [
    "# Stack"
   ]
  },
  {
   "cell_type": "markdown",
   "id": "e5ece454",
   "metadata": {},
   "source": [
    "# "
   ]
  },
  {
   "cell_type": "markdown",
   "id": "42dcfab9",
   "metadata": {},
   "source": [
    "# Insert In Stack"
   ]
  },
  {
   "cell_type": "markdown",
   "id": "a778c901",
   "metadata": {},
   "source": [
    "You are given an array arr[] of size N, the task is to insert the elements of the array into a stack from left to right"
   ]
  },
  {
   "cell_type": "code",
   "execution_count": null,
   "id": "12423c56",
   "metadata": {},
   "outputs": [],
   "source": [
    "def InsertInStack(self,n,arr):\n",
    "        #code here\n",
    "        stack = []\n",
    "        for i in range(n):\n",
    "            stack.append(arr[i])\n",
    "        return stack"
   ]
  },
  {
   "cell_type": "markdown",
   "id": "f1deb4c9",
   "metadata": {},
   "source": [
    "# Implement Stack Using Array\n"
   ]
  },
  {
   "cell_type": "markdown",
   "id": "3beb460f",
   "metadata": {},
   "source": [
    "Implement stack using array\n",
    "\n",
    "You are given q queries. The queries can be of 3 types:\n",
    "Query Type:               Operation\n",
    "               1 x:               Push x\n",
    "                  2:               Pop the top element\n",
    "                  3:               display stack from bottom to top in a single line.\n",
    "\n",
    "The stack here is implemented by an array stack[], and maxSize of the stack is 100000. If a push operation is performed beyond this size, you must print \"Stack Full\"(without quotes). Similarly, an unsuccessful pop operation should print \"Stack Empty\"(without quotes).  If a display operation is performed on an empty stack print -1."
   ]
  },
  {
   "cell_type": "markdown",
   "id": "9d43de71",
   "metadata": {},
   "source": [
    "Input: q[] = {(1, 4), 3, 2, 2, 3}\n",
    "\n",
    "Output: 4\n",
    "        Stack Empty\n",
    "        -1\n",
    "\n",
    "Explanation: push() --> 4\n",
    "\n",
    "display() --> 4 gets printed\n",
    "\n",
    "pop() --> Pop 4\n",
    "\n",
    "pop() --> stack is empty so print Stack \n",
    "          Empty\n",
    "display() --> stack is empty so print -1"
   ]
  },
  {
   "cell_type": "code",
   "execution_count": null,
   "id": "9083b85b",
   "metadata": {},
   "outputs": [],
   "source": [
    "#User function Template for python3\n",
    "\n",
    "##Complete these functions\n",
    "def push(data):\n",
    "    global stack\n",
    "    global top\n",
    "    global stackMax\n",
    "    if top==stackMax-1:\n",
    "        print(\"Stack Full\")\n",
    "    else:\n",
    "        top+=1\n",
    "        stack[top]=data\n",
    "\n",
    "def pop():\n",
    "    global stack\n",
    "    global top\n",
    "    if top==-1:\n",
    "        print(\"Stack Empty\")\n",
    "    else:\n",
    "        stack[top]=-1\n",
    "        top-=1\n",
    "\n",
    "def display():\n",
    "    global stack\n",
    "    global top\n",
    "    if top==-1:\n",
    "        print(-1)\n",
    "    else:\n",
    "        for i in range(0,top+1):\n",
    "            print(stack[i],end=\" \")\n",
    "        print(\"\")\n",
    " \n",
    "    "
   ]
  },
  {
   "cell_type": "markdown",
   "id": "c6e796a6",
   "metadata": {},
   "source": [
    "# Operations on Stack "
   ]
  },
  {
   "cell_type": "markdown",
   "id": "5330f7ec",
   "metadata": {},
   "source": [
    "Given a stack of integers and Q queries. The task is to perform the operation on stack according to the query.\n",
    "\n",
    "The queries can be of 4 types:\n",
    "\n",
    "i x: (adds element x in the stack).\n",
    "\n",
    "r: (removes the topmost element from the stack).\n",
    "\n",
    "h: Prints the topmost element.\n",
    "\n",
    "f y: (check if the element y is present or not in the stack). Print \"Yes\" if present, else \"No\"."
   ]
  },
  {
   "cell_type": "markdown",
   "id": "2bdf79a1",
   "metadata": {},
   "source": [
    "Input: \n",
    "Q = 6 \n",
    "\n",
    "Queries = {(i, 2), (i, 4), (i, 3),\n",
    "(i, 5), (h), (f, 8)}\n",
    "\n",
    "Output: \n",
    "5\n",
    "No\n",
    "\n",
    "Explanation: \n",
    "\n",
    "    Inserting 2, 4, 3, and 5 \n",
    "onto the stack. Returning top element \n",
    "which is 5. Finding 8 will give No, \n",
    "as 8 is not in the stack."
   ]
  },
  {
   "cell_type": "code",
   "execution_count": null,
   "id": "c49bc3c7",
   "metadata": {},
   "outputs": [],
   "source": [
    "#User function Template for python3\n",
    "\n",
    "\n",
    "#Function to push an element into the stack.\n",
    "def insert(stack,x):\n",
    "    # code here\n",
    "    stack.append(x)\n",
    "    \n",
    "\n",
    "#Function to remove top element from stack.\n",
    "def remove(stack):\n",
    "    #code here\n",
    "    stack.pop()\n",
    "    \n",
    "#Function to print the top element of stack.    \n",
    "def headOf_Stack(stack):\n",
    "    #code here\n",
    "    return stack[-1]\n",
    "    \n",
    "#Function to search an element in the stack.\n",
    "def find(stack,x):\n",
    "    #code here\n",
    "    for e in stack:\n",
    "        if e==x:\n",
    "            return True\n",
    "    return False\n",
    "    \n"
   ]
  },
  {
   "cell_type": "markdown",
   "id": "4a3a60b9",
   "metadata": {},
   "source": [
    "# Implement Stack using Linked List"
   ]
  },
  {
   "cell_type": "markdown",
   "id": "f113472a",
   "metadata": {},
   "source": [
    "Let's give it a try! You have a linked list and you have to implement the functionalities push and pop of stack using this given linked list. Your task is to use the class as shown in the comments in the code editor and complete the functions push() and pop() to implement a stack. "
   ]
  },
  {
   "cell_type": "markdown",
   "id": "a017345b",
   "metadata": {},
   "source": [
    "Example 1:\n",
    "\n",
    "Input: \n",
    "\n",
    "push(2)\n",
    "\n",
    "push(3)\n",
    "\n",
    "pop()\n",
    "\n",
    "push(4) \n",
    "\n",
    "pop()\n",
    "\n",
    "Output: 3 4\n",
    "\n",
    "Explanation: \n",
    "\n",
    "push(2)    the stack will be {2}\n",
    "\n",
    "push(3)    the stack will be {2 3}\n",
    "\n",
    "pop()      poped element will be 3,\n",
    "           the stack will be {2}\n",
    "push(4)    the stack will be {2 4}\n",
    "\n",
    "pop()      poped element will be 4"
   ]
  },
  {
   "cell_type": "code",
   "execution_count": null,
   "id": "9cb76bfa",
   "metadata": {},
   "outputs": [],
   "source": [
    "class MyStack:\n",
    "\n",
    "\n",
    "    # class StackNode:\n",
    "    def __init__(self):\n",
    "        self.head=None\n",
    "        \n",
    "    #Function to push an integer into the stack.\n",
    "    def push(self, data):\n",
    "\n",
    "        # Add code here\n",
    "        new_node = StackNode(data)\n",
    "        new_node.next = self.head\n",
    "        self.head = new_node\n",
    "        \n",
    "\n",
    "    #Function to remove an item from top of the stack.\n",
    "    def pop(self):\n",
    "\n",
    "        # Add code here\n",
    "        if self.head == None:\n",
    "            return -1\n",
    "        x = self.head.data\n",
    "        self.head = self.head.next\n",
    "        return x"
   ]
  },
  {
   "cell_type": "markdown",
   "id": "f7e31e99",
   "metadata": {},
   "source": [
    "# Infix to Postfix"
   ]
  },
  {
   "cell_type": "markdown",
   "id": "1185529d",
   "metadata": {},
   "source": [
    "Given an infix expression in the form of string str. Convert this infix expression to postfix expression.\n",
    "\n",
    "Infix expression: The expression of the form a op b. When an operator is in-between every pair of operands.\n",
    "\n",
    "Postfix expression: The expression of the form a b op. When an operator is followed for every pair of operands.\n",
    "\n",
    "Note: The order of precedence is: ^ greater than * equals to / greater than + equals to -. "
   ]
  },
  {
   "cell_type": "code",
   "execution_count": null,
   "id": "acee79ba",
   "metadata": {},
   "outputs": [],
   "source": [
    "def InfixtoPostfix(self, exp):\n",
    "        #code here\n",
    "        pri = {'+':1 ,'-':1,'*':2,'/':2,'^':3}\n",
    "        res = \"\"\n",
    "        stack = []\n",
    "        for x in exp:\n",
    "            if (x >= 'a' and x<= 'z' ) or (x>='A' and x<='Z') or (x>='0' and x<='9'):\n",
    "                res += x\n",
    "            elif x == '(':\n",
    "                stack.append(x)\n",
    "            elif x == ')':\n",
    "                while stack and stack[-1] != '(':\n",
    "                    res += stack.pop()\n",
    "                stack.pop()\n",
    "            else:\n",
    "                while stack and stack[-1] != '(' and pri[x] <= pri[stack[-1]]:\n",
    "                    res += stack.pop()\n",
    "                stack.append(x)\n",
    "        while stack:\n",
    "            res += stack.pop()\n",
    "        return res"
   ]
  },
  {
   "cell_type": "markdown",
   "id": "a36ddd22",
   "metadata": {},
   "source": [
    "explanation of above code"
   ]
  },
  {
   "cell_type": "code",
   "execution_count": 1,
   "id": "8e7f8e3e",
   "metadata": {},
   "outputs": [
    {
     "name": "stdout",
     "output_type": "stream",
     "text": [
      "Postfix Expression: abc*+de/f+g*-\n"
     ]
    }
   ],
   "source": [
    "class InfixToPostfixConverter:\n",
    "    def InfixtoPostfix(self, exp):\n",
    "        # Dictionary to store the precedence of operators\n",
    "        pri = {'+': 1, '-': 1, '*': 2, '/': 2, '^': 3}\n",
    "        # Initialize an empty string to store the resulting postfix expression\n",
    "        res = \"\"\n",
    "        # Initialize an empty stack to hold operators during conversion\n",
    "        stack = []\n",
    "        # Loop through each character in the input infix expression 'exp'\n",
    "        for x in exp:\n",
    "            # If the character is an operand (letter or digit), append it to the result\n",
    "            if (x >= 'a' and x <= 'z') or (x >= 'A' and x <= 'Z') or (x >= '0' and x <= '9'):\n",
    "                res += x\n",
    "            # If the character is an opening parenthesis '(', push it onto the stack\n",
    "            elif x == '(':\n",
    "                stack.append(x)\n",
    "            # If the character is a closing parenthesis ')'\n",
    "            elif x == ')':\n",
    "                # Pop operators from the stack and add them to the result until an opening parenthesis '(' is encountered\n",
    "                while stack and stack[-1] != '(':\n",
    "                    res += stack.pop()\n",
    "                # Pop the opening parenthesis '(' from the stack (and discard it)\n",
    "                stack.pop()\n",
    "            # If the character is an operator\n",
    "            else:\n",
    "                # While there are operators on the stack and the top of the stack is not an opening parenthesis '('\n",
    "                # and the precedence of the current operator 'x' is less than or equal to the precedence \n",
    "                # of the operator at the top of the stack\n",
    "                # pop the operator from the stack and add it to the result\n",
    "                while stack and stack[-1] != '(' and pri[x] <= pri[stack[-1]]:\n",
    "                    res += stack.pop()\n",
    "                # Push the current operator 'x' onto the stack\n",
    "                stack.append(x)\n",
    "        # After processing all characters in the input expression, pop any remaining operators from the stack and add them to the result\n",
    "        while stack:\n",
    "            res += stack.pop()\n",
    "        # Return the final postfix expression\n",
    "        return res\n",
    "\n",
    "# Example usage:\n",
    "if __name__ == \"__main__\":\n",
    "    converter = InfixToPostfixConverter()\n",
    "    infix_expression = \"a+b*c-(d/e+f)*g\"\n",
    "    postfix_expression = converter.InfixtoPostfix(infix_expression)\n",
    "    print(\"Postfix Expression:\", postfix_expression)\n"
   ]
  },
  {
   "cell_type": "markdown",
   "id": "60551cfd",
   "metadata": {},
   "source": [
    "# Prefix to Infix Conversion\n"
   ]
  },
  {
   "cell_type": "markdown",
   "id": "26ff97a5",
   "metadata": {},
   "source": [
    "You are given a string S of size N that represents the prefix form of a valid mathematical expression. Convert it to its infix form.\n",
    "\n",
    "Example 1:\n",
    "\n",
    "Input: \n",
    "*-A/BC-/AKL\n",
    "\n",
    "Output: \n",
    "((A-(B/C))*((A/K)-L))\n",
    "\n",
    "Explanation: \n",
    "The above output is its valid infix form."
   ]
  },
  {
   "cell_type": "code",
   "execution_count": null,
   "id": "f4ce4cd2",
   "metadata": {},
   "outputs": [],
   "source": [
    "def postToInfix(self, postfix):\n",
    "        # Code here\n",
    "        s=[] \n",
    "        for i in postfix:\n",
    "            if i.isalpha():\n",
    "                s.append(i)\n",
    "            else:\n",
    "                b=s.pop()\n",
    "                a=s.pop()\n",
    "                s.append(\"(\"+a+i+b+\")\")\n",
    "        return s[0]"
   ]
  },
  {
   "cell_type": "markdown",
   "id": "cec08ce5",
   "metadata": {},
   "source": [
    "# Removing consecutive duplicates"
   ]
  },
  {
   "cell_type": "markdown",
   "id": "5233cab0",
   "metadata": {},
   "source": [
    "You are given string str. You need to remove the consecutive duplicates from the given string using a Stack.\n",
    " \n",
    "\n",
    "Example 1:\n",
    "\n",
    "Input: \n",
    "aaaaaabaabccccccc\n",
    "\n",
    "Output: \n",
    "ababc\n",
    "\n",
    "Explanation: \n",
    "The order is in the following way 6->a, 1->b, 2->a, 1->b, 7->c. \n",
    "So, only one element from each group will remain and rest all are removed.\n",
    "Therefore, final string will be:- ababc."
   ]
  },
  {
   "cell_type": "code",
   "execution_count": null,
   "id": "42bab96c",
   "metadata": {},
   "outputs": [],
   "source": [
    "def removeConsecutiveDuplicates(self, s):\n",
    "        stack = []\n",
    "\n",
    "        for char in s:\n",
    "            if not stack or stack[-1] != char:\n",
    "                stack.append(char)\n",
    "\n",
    "        return ''.join(stack)"
   ]
  },
  {
   "cell_type": "markdown",
   "id": "4cdc6fdc",
   "metadata": {},
   "source": [
    "# Removing consecutive duplicates - 2\n"
   ]
  },
  {
   "cell_type": "code",
   "execution_count": null,
   "id": "bce291c0",
   "metadata": {},
   "outputs": [],
   "source": [
    "You are given string str. You need to remove the pair of duplicates.\n",
    "Note: The pair should be of adjacent elements and after removing a pair the remaining string is joined together. \n",
    "\n",
    "Example 1:\n",
    "\n",
    "Input:\n",
    "aaabbaaccd\n",
    "\n",
    "Output: \n",
    "ad\n",
    "\n",
    "Explanation: \n",
    "Remove (aa)abbaaccd =>abbaaccd\n",
    "Remove a(bb)aaccd => aaaccd\n",
    "Remove (aa)accd => accd\n",
    "Remove a(cc)d => ad"
   ]
  },
  {
   "cell_type": "code",
   "execution_count": null,
   "id": "b555d973",
   "metadata": {},
   "outputs": [],
   "source": [
    "def removePair(self, s):\n",
    "        stack = []\n",
    "\n",
    "        for char in s:\n",
    "            if stack and stack[-1] == char:\n",
    "                stack.pop()\n",
    "            else:\n",
    "                stack.append(char)\n",
    "\n",
    "        result = ''.join(stack)\n",
    "        if not result:\n",
    "            return \"Empty String\"\n",
    "        else:\n",
    "            return result"
   ]
  },
  {
   "cell_type": "markdown",
   "id": "86d6be16",
   "metadata": {},
   "source": [
    "# Parenthesis Checker"
   ]
  },
  {
   "cell_type": "code",
   "execution_count": null,
   "id": "2b5315e0",
   "metadata": {},
   "outputs": [],
   "source": [
    "Given an expression string x. Examine whether the pairs and the orders of {,},(,),[,] are correct in exp.\n",
    "For example, the function should return 'true' for exp = [()]{}{[()()]()} and 'false' for exp = [(]).\n",
    "\n",
    "Note: The drive code prints \"balanced\" if function return true, otherwise it prints \"not balanced\".\n",
    "\n",
    "Example 1:\n",
    "\n",
    "Input:\n",
    "{([])}\n",
    "Output: \n",
    "true\n",
    "Explanation: \n",
    "{ ( [ ] ) }. Same colored brackets can form \n",
    "balanced pairs, with 0 number of \n",
    "unbalanced bracket."
   ]
  },
  {
   "cell_type": "code",
   "execution_count": null,
   "id": "8edaa083",
   "metadata": {},
   "outputs": [],
   "source": [
    "def ispar(self,x):\n",
    "        stack = []\n",
    "        closetoopen = {')':'(', ']':'[', '}':'{'}\n",
    "        for c in x:\n",
    "            if c in closetoopen:\n",
    "                if stack and stack[-1] == closetoopen[c]:\n",
    "                    stack.pop()\n",
    "                else:\n",
    "                    return False\n",
    "            else:\n",
    "                stack.append(c)\n",
    "        return True if not stack else False"
   ]
  },
  {
   "cell_type": "markdown",
   "id": "b53dcf79",
   "metadata": {},
   "source": [
    "# "
   ]
  },
  {
   "cell_type": "markdown",
   "id": "feb04c41",
   "metadata": {},
   "source": [
    "# Dequeue "
   ]
  },
  {
   "cell_type": "markdown",
   "id": "f6fdb432",
   "metadata": {},
   "source": [
    "# Implement Dequeue Using Linked List"
   ]
  },
  {
   "cell_type": "markdown",
   "id": "4970f061",
   "metadata": {},
   "source": [
    "You are given a dequeue and q queries. The queries can be of 4 types:\n",
    "\n",
    "if x: Use insertRear to insert data x in dequeue.\n",
    "\n",
    "if x: Use insertFront to insert data x in dequeue.\n",
    "\n",
    "df: Use deleteFront to delete the front of dequeue. If dequeue is empty then don't do anything.\n",
    "\n",
    "dr: Use deleteRear to delete the rear of dequeue. If dequeue is empty then don't do anything.\n",
    "\n",
    "Example 1:\n",
    "\n",
    "Input: q = 4, queries[] = {(ir, 5), \n",
    "    (if, 7), (df), (if, 22)}\n",
    "\n",
    "Output: 22\n",
    "        5\n",
    "\n",
    "Explanation: Here q = 4. First we insert 5 \n",
    "at the back. Now we insert 7 in the front. \n",
    "The dequeue is now {7, 5}. Now we remove \n",
    "the front, so dequeue is now {5}. Now, we \n",
    "insert 22 in the front. The dequeue is now\n",
    "{22, 5}. So the front is 22 and the rear \n",
    "is 5.\n"
   ]
  },
  {
   "cell_type": "code",
   "execution_count": 1,
   "id": "bd1f4f67",
   "metadata": {},
   "outputs": [],
   "source": [
    "def insertFront(front,rear,data):\n",
    "    # return: (front, rear)\n",
    "    temp = Node(data)\n",
    "    if not front:\n",
    "        front = rear = temp\n",
    "    else:    \n",
    "        temp.next = front\n",
    "        front.prev = temp\n",
    "        front = temp\n",
    "    return front, rear\n",
    "    \n",
    "    #code here\n",
    "    \n",
    "    \n",
    "def insertRear(front,rear,data):\n",
    "    # return: (front,rear)\n",
    "    temp = Node(data)\n",
    "    if not front:\n",
    "        front = rear = temp\n",
    "    else:\n",
    "        rear.next = temp\n",
    "        temp.prev = rear\n",
    "        rear = temp\n",
    "    return front, rear\n",
    "    #code here\n",
    "    \n",
    "\n",
    "def delFront(front,rear):\n",
    "    # return: (front, rear)\n",
    "    #code here\n",
    "    if front == rear: # 0 or 1\n",
    "        front = rear = None\n",
    "    else:\n",
    "        new_f = front.next\n",
    "        front.next = None\n",
    "        new_f.prev = None\n",
    "        front = new_f\n",
    "    return front, rear\n",
    "    \n",
    "    \n",
    "def delRear(front,rear):\n",
    "    # return: (front, rear)\n",
    "    if front == rear:\n",
    "        front = rear = None\n",
    "    else:\n",
    "        rear = rear.prev\n",
    "        rear.next = None\n",
    "    return front, rear"
   ]
  },
  {
   "cell_type": "markdown",
   "id": "132c40c6",
   "metadata": {},
   "source": [
    "# Deque Implementations\n"
   ]
  },
  {
   "cell_type": "markdown",
   "id": "daf5add3",
   "metadata": {},
   "source": [
    "A deque is a double-ended queue that allows enqueue and dequeue operations from both the ends.\n",
    "\n",
    "Given a deque and Q queries. The task is to perform some operation on dequeue according to the queries as given below:\n",
    "\n",
    "1. pb: query to push back the element x.\n",
    "\n",
    "2. pf: query to push element x(given with query) to the front of the deque.\n",
    "\n",
    "    3. pp_b(): query to delete element from the back of the deque.\n",
    "\n",
    "        4. f: query to return a front element from the deque.\n",
    "\n",
    "Example 1:\n",
    "\n",
    "Input:\n",
    "5\n",
    "\n",
    "pf 5\n",
    "\n",
    "pf 10\n",
    "\n",
    "pb 6\n",
    "\n",
    "f\n",
    "\n",
    "pp_b\n",
    "\n",
    "Output: \n",
    "10\n",
    "\n",
    "Explanation: \n",
    "1. After push front deque will be {5}\n",
    "2. After push front deque will be {10, 5}\n",
    "3. After push back deque will be {10, 5, 6}\n",
    "4. Return front element which is 10\n",
    "5. After pop back deque will be {10, 5}"
   ]
  },
  {
   "cell_type": "code",
   "execution_count": null,
   "id": "2d193c24",
   "metadata": {},
   "outputs": [],
   "source": [
    "def push_front_pf(dq,x):\n",
    "    dq.appendleft(x)\n",
    "    \n",
    "\n",
    "#Function to push element x to the back of the deque.\n",
    "def push_back_pb(dq,x):\n",
    "    dq.append(x)\n",
    "    \n",
    "#Function to return element from front of the deque.\n",
    "def front_dq(dq):\n",
    "    if dq:\n",
    "        return dq[0]\n",
    "    else:\n",
    "        return -1\n",
    "       \n",
    "#Function to pop element from back of the deque.\n",
    "def pop_back_ppb(dq):\n",
    "    if dq:\n",
    "        dq.pop() # to check there should not be empty dque\n",
    "    "
   ]
  },
  {
   "cell_type": "markdown",
   "id": "2b7d8feb",
   "metadata": {},
   "source": [
    "# Insertion in deque"
   ]
  },
  {
   "cell_type": "markdown",
   "id": "6f1a3a06",
   "metadata": {},
   "source": [
    "Given an array arr[] of size N containing non-negative integers. You need to insert all elements of the array to deque and return it.\n",
    "\n",
    "Example 1:\n",
    "\n",
    "Input: \n",
    "5\n",
    "1 2 3 4 5\n",
    "\n",
    "Output: \n",
    "1 2 3 4 5\n",
    "\n",
    "Explanation: \n",
    "After insert in the deque \n",
    "it will look like {1, 2, 3, 4, 5}."
   ]
  },
  {
   "cell_type": "code",
   "execution_count": null,
   "id": "d0883847",
   "metadata": {},
   "outputs": [],
   "source": [
    "def deque_Init(self,arr,n):\n",
    "        dq=deque(arr)\n",
    "        return dq"
   ]
  },
  {
   "cell_type": "markdown",
   "id": "7a2a9fcb",
   "metadata": {},
   "source": [
    "# Dequeue Traversal\n"
   ]
  },
  {
   "cell_type": "markdown",
   "id": "f595f158",
   "metadata": {},
   "source": [
    "Given a Deque Deq containing N elements, the task is to traverse the Deq and print its elements of it. \n",
    "\n",
    "Example 1:\n",
    "\n",
    "Input: \n",
    "5\n",
    "1 2 3 4 5\n",
    "\n",
    "Output: \n",
    "1 2 3 4 5\n",
    "\n",
    "Explanation: \n",
    "Dqe will look like \n",
    "{1, 2, 3, 4, 5}."
   ]
  },
  {
   "cell_type": "code",
   "execution_count": 2,
   "id": "01052365",
   "metadata": {},
   "outputs": [],
   "source": [
    "def printDeque(deq):\n",
    "    if deq==None:\n",
    "        print()\n",
    "    else:\n",
    "        for i in deq:\n",
    "            print(i,end=\" \")\n",
    "    print()"
   ]
  },
  {
   "cell_type": "markdown",
   "id": "14def48e",
   "metadata": {},
   "source": [
    "# Deque deletion\n"
   ]
  },
  {
   "cell_type": "markdown",
   "id": "6192d5a5",
   "metadata": {},
   "source": [
    "Given a Deque dqe of size N containing non-negative integers.\n",
    "\n",
    "Complete below functions depending type of query as mentioned and provided to you (indexing starts from 0):\n",
    "\n",
    "1. eraseAt(X): this function should remove the element from specified position X in deque.\n",
    "\n",
    "2. eraseInRange(start, end): this function should remove the elements in range start (inclusive), end (exclusive) specified in the argument of the function.\n",
    "\n",
    "Note: If start is equal to end then simply return.\n",
    "3. eraseAll(): remove all the elements from the deque.\n",
    "\n",
    "Example 1:\n",
    "\n",
    "Input:\n",
    "5\n",
    "1 2 4 5 6\n",
    "1 2\n",
    "\n",
    "Output: \n",
    "1 2 5 6 \n",
    "\n",
    "Explanation: \n",
    "Here the query type is 1 and the position is 2. So we remove element at position 2. The element at \n",
    "position 2 is 1 2 4 5 6. So, we remove \n",
    "4 and get 1 2 5 6."
   ]
  },
  {
   "cell_type": "code",
   "execution_count": null,
   "id": "45ecd080",
   "metadata": {},
   "outputs": [],
   "source": [
    "def eraseAt(deq,x):\n",
    "    del deq[x]\n",
    "    \n",
    "#Function to erase the elements in range start (inclusive), end (exclusive).\n",
    "def eraseInRange(deq,s,e):\n",
    "    sz = e-s\n",
    "    while sz!=0:\n",
    "        del deq[s]\n",
    "        sz -=1\n",
    "\n",
    "#Function to erase all the elements in the deque.   \n",
    "def eraseAll(deq):\n",
    "    deq.clear()"
   ]
  },
  {
   "cell_type": "markdown",
   "id": "1b963f04",
   "metadata": {},
   "source": [
    "# "
   ]
  },
  {
   "cell_type": "markdown",
   "id": "bb37b443",
   "metadata": {},
   "source": [
    "# Queue "
   ]
  },
  {
   "cell_type": "markdown",
   "id": "e4566c15",
   "metadata": {},
   "source": [
    "# "
   ]
  },
  {
   "cell_type": "markdown",
   "id": "17e58021",
   "metadata": {},
   "source": [
    "# Implement Queue using array\n"
   ]
  },
  {
   "cell_type": "markdown",
   "id": "9703b5bf",
   "metadata": {},
   "source": [
    "Implement a Queue using an Array. Queries in the Queue are of the following type:\n",
    "\n",
    "(i) 1 x   (a query of this type means  pushing 'x' into the queue)\n",
    "\n",
    "(ii) 2     (a query of this type means to pop element from queue and print the poped element)\n",
    "\n",
    "Example 1:\n",
    "\n",
    "Input:\n",
    "Q = 5\n",
    "\n",
    "Queries = 1 2 1 3 2 1 4 2\n",
    "\n",
    "Output: 2 3\n",
    "Explanation:\n",
    "\n",
    "In the first test case for query \n",
    "1 2 the queue will be {2}\n",
    "\n",
    "1 3 the queue will be {2 3}\n",
    "\n",
    "2   poped element will be 2 the \n",
    "    queue will be {3}\n",
    "\n",
    "1 4 the queue will be {3 4}\n",
    "\n",
    "2   poped element will be 3 "
   ]
  },
  {
   "cell_type": "code",
   "execution_count": null,
   "id": "2d961a9a",
   "metadata": {},
   "outputs": [],
   "source": [
    "def __init__(self):\n",
    "        self.arr = []\n",
    "    \n",
    "    #Function to push an element x in a queue.\n",
    "    def push(self, x):\n",
    "        \n",
    "         self.arr.append(x)\n",
    "     \n",
    "    #Function to pop an element from queue and return that element.\n",
    "    def pop(self): \n",
    "         \n",
    "         if len(self.arr)>0:\n",
    "             return self.arr.pop(0)\n",
    "         return -1\n"
   ]
  },
  {
   "cell_type": "markdown",
   "id": "9c338e03",
   "metadata": {},
   "source": [
    "# Implement Queue using Linked List\n"
   ]
  },
  {
   "cell_type": "markdown",
   "id": "5015bef6",
   "metadata": {},
   "source": [
    "Implement a Queue using Linked List. \n",
    "A Query Q is of 2 Types\n",
    "\n",
    "(i) 1 x   (a query of this type means  pushing 'x' into the queue)\n",
    "\n",
    "(ii) 2     (a query of this type means to pop an element from the queue and print the poped element)\n",
    "\n",
    "Example 1:\n",
    "\n",
    "Input:\n",
    "Q = 5\n",
    "\n",
    "Queries = 1 2 1 3 2 1 4 2\n",
    "\n",
    "Output: 2 3\n",
    "\n",
    "Explanation: n the first testcase\n",
    "\n",
    "1 2 the queue will be {2}\n",
    "\n",
    "1 3 the queue will be {2 3}\n",
    "\n",
    "2   poped element will be 2 the\n",
    "    queue will be {3}\n",
    "\n",
    "1 4 the queue will be {3 4}\n",
    "\n",
    "2   poped element will be 3."
   ]
  },
  {
   "cell_type": "code",
   "execution_count": null,
   "id": "87c1c3e9",
   "metadata": {},
   "outputs": [],
   "source": [
    "class Node: \n",
    "      \n",
    "    def __init__(self, data): \n",
    "        self.data = data \n",
    "        self.next = None\n",
    "        \n",
    "class MyQueue:\n",
    "    \n",
    "    def __init__(self):\n",
    "        self.head=None\n",
    "        self.tail=None\n",
    "    def push(self, item): \n",
    "        node=Node(item)\n",
    "        if self.tail is None:\n",
    "            self.tail=node\n",
    "            self.head=node\n",
    "        else:\n",
    "            self.tail.next = node\n",
    "            self.tail = node\n",
    "    \n",
    "    #Function to pop front element from the queue.\n",
    "    def pop(self):\n",
    "        if self.head is None:\n",
    "            return -1\n",
    "        \n",
    "        else:\n",
    "            data=self.head.data\n",
    "            self.head=self.head.next\n",
    "            if self.head is None:\n",
    "                self.tail=None\n",
    "        \n",
    "            return data"
   ]
  },
  {
   "cell_type": "markdown",
   "id": "c5ef3b2f",
   "metadata": {},
   "source": [
    "# Operations on Queue"
   ]
  },
  {
   "cell_type": "markdown",
   "id": "d5f6726e",
   "metadata": {},
   "source": [
    "Given a queue of integers and Q queries. The task is to perform operations on queue according to the query. \n",
    "\n",
    "Queries are as:\n",
    "\n",
    "i x : (adds element x in the queue from rear).\n",
    "\n",
    "r : (Removes the front element of queue).\n",
    "\n",
    "h : (Returns the front element).\n",
    "\n",
    "f y : (check if the element y is present or not in the queue). Return \"Yes\" if present, else \"No\".\n",
    "\n",
    "Example 1:\n",
    "\n",
    "Input:\n",
    "Q = 6\n",
    "\n",
    "Queries = i 2 i 4 i 3 i 5 h f 8\n",
    "\n",
    "Output:\n",
    "2\n",
    "\n",
    "No\n",
    "\n",
    "Explanation: Inserting 2, 4, 3, and 5\n",
    "onto the queue: 2 4 3 5. h means front\n",
    "So front is 2. f is find. 8 is not in\n",
    "queue so No."
   ]
  },
  {
   "cell_type": "code",
   "execution_count": null,
   "id": "cd889d94",
   "metadata": {},
   "outputs": [],
   "source": [
    "class Solution:\n",
    "\n",
    "    #Function to push an element in queue.\n",
    "    def enqueue(self,q, x):\n",
    "        # code here\n",
    "        q.append(x)\n",
    "    \n",
    "    #Function to remove front element from queue.\n",
    "    def dequeue(self,q):\n",
    "        # code here\n",
    "        return q.pop(0)\n",
    "    \n",
    "    #Function to find the front element of queue.\n",
    "    def front(self,q):\n",
    "        # code here\n",
    "        return q[0]\n",
    "    \n",
    "    #Function to find an element in the queue.\n",
    "    def find(self,q, x):\n",
    "        # code here\n",
    "        return True if x in q else False"
   ]
  },
  {
   "cell_type": "markdown",
   "id": "35238616",
   "metadata": {},
   "source": [
    "# "
   ]
  },
  {
   "cell_type": "markdown",
   "id": "2add9716",
   "metadata": {},
   "source": [
    "# Trees"
   ]
  },
  {
   "cell_type": "markdown",
   "id": "5499a0cc",
   "metadata": {},
   "source": [
    "# "
   ]
  },
  {
   "cell_type": "markdown",
   "id": "c5ab0a83",
   "metadata": {},
   "source": [
    "# Preorder Traversal ( Root Left Right)"
   ]
  },
  {
   "cell_type": "code",
   "execution_count": null,
   "id": "6f225a34",
   "metadata": {},
   "outputs": [],
   "source": [
    "Given a binary tree, find its preorder traversal.\n",
    "\n",
    "Example 1:\n",
    "\n",
    "Input:\n",
    "        1      \n",
    "      /          \n",
    "    4    \n",
    "  /    \\   \n",
    "4       2\n",
    "Output: 1 4 4 2 "
   ]
  },
  {
   "cell_type": "code",
   "execution_count": null,
   "id": "06d7ab42",
   "metadata": {},
   "outputs": [],
   "source": [
    "def preorder(root):\n",
    "    return [root.data] + preorder(root.left) + preorder(root.right) if root else []"
   ]
  },
  {
   "cell_type": "markdown",
   "id": "31595ab6",
   "metadata": {},
   "source": [
    "# "
   ]
  },
  {
   "cell_type": "markdown",
   "id": "bda75c1d",
   "metadata": {},
   "source": [
    "# Inorder Traversal (Left Root Right)\n"
   ]
  },
  {
   "cell_type": "code",
   "execution_count": null,
   "id": "c8068812",
   "metadata": {},
   "outputs": [],
   "source": [
    "Given a Binary Tree, find the In-Order Traversal of it.\n",
    "\n",
    "Example 1:\n",
    "\n",
    "Input:\n",
    "       1\n",
    "     /  \\\n",
    "    3    2\n",
    "Output: 3 1 2"
   ]
  },
  {
   "cell_type": "code",
   "execution_count": null,
   "id": "755440c2",
   "metadata": {},
   "outputs": [],
   "source": [
    "def InOrder(self,root):\n",
    "        # code here\n",
    "        l=[]\n",
    "        self.traversal(root,l)\n",
    "        return l\n",
    "    def traversal(self,root,l):\n",
    "        if root!=None:\n",
    "            self.traversal(root.left,l)\n",
    "            l.append(root.data)\n",
    "            self.traversal(root.right,l)"
   ]
  },
  {
   "cell_type": "markdown",
   "id": "04239405",
   "metadata": {},
   "source": [
    "# "
   ]
  },
  {
   "cell_type": "markdown",
   "id": "859bb08b",
   "metadata": {},
   "source": [
    "# Postorder Traversal (Left right Root)\n"
   ]
  },
  {
   "cell_type": "code",
   "execution_count": null,
   "id": "cf6be960",
   "metadata": {},
   "outputs": [],
   "source": [
    "Given a binary tree, find the Postorder Traversal of it.\n",
    "For Example, the postorder traversal of the following tree is:\n",
    "5 10 39 1\n",
    "\n",
    "        1\n",
    "     /     \\\n",
    "   10     39\n",
    "  /\n",
    "5"
   ]
  },
  {
   "cell_type": "code",
   "execution_count": null,
   "id": "b8d09d59",
   "metadata": {},
   "outputs": [],
   "source": [
    "def postOrder(root):\n",
    "    # code here\n",
    "    l=[]\n",
    "    traversal(root,l)\n",
    "    return l\n",
    "    \n",
    "def traversal(root,l):\n",
    "    if root!=None:\n",
    "     traversal(root.left,l)\n",
    "     traversal(root.right,l)\n",
    "     l.append(root.data)"
   ]
  },
  {
   "cell_type": "markdown",
   "id": "f54edd7d",
   "metadata": {},
   "source": [
    "# "
   ]
  },
  {
   "cell_type": "markdown",
   "id": "61c1f5a9",
   "metadata": {},
   "source": [
    "# Level order traversal\n"
   ]
  },
  {
   "cell_type": "markdown",
   "id": "b7239a29",
   "metadata": {},
   "source": [
    "Given a binary tree, find its level order traversal.\n",
    "Level order traversal of a tree is breadth-first traversal for the tree."
   ]
  },
  {
   "cell_type": "markdown",
   "id": "b883fef7",
   "metadata": {},
   "source": [
    "Example 1:\n",
    "\n",
    "Input:\n",
    "    1\n",
    "  /   \\ \n",
    " 3     2\n",
    "Output:1 3 2"
   ]
  },
  {
   "cell_type": "code",
   "execution_count": null,
   "id": "55db487f",
   "metadata": {},
   "outputs": [],
   "source": [
    "def levelOrder(self,root ):\n",
    "        if root==None:\n",
    "            return []\n",
    "        q=deque()\n",
    "        l=[]\n",
    "        q.append(root)\n",
    "        while len(q)>0:\n",
    "            node=q.popleft()\n",
    "            l.append(node.data)\n",
    "            if node.left!=None:\n",
    "                q.append(node.left)\n",
    "            if node.right!=None:\n",
    "                q.append(node.right)\n",
    "        return l"
   ]
  },
  {
   "cell_type": "markdown",
   "id": "527b886b",
   "metadata": {},
   "source": [
    "# "
   ]
  },
  {
   "cell_type": "markdown",
   "id": "4fa3b649",
   "metadata": {},
   "source": [
    "# Height of Binary Tree"
   ]
  },
  {
   "cell_type": "markdown",
   "id": "a1f30c93",
   "metadata": {},
   "source": [
    "Given a binary tree, find its height."
   ]
  },
  {
   "cell_type": "code",
   "execution_count": null,
   "id": "de407f36",
   "metadata": {},
   "outputs": [],
   "source": [
    "Input:\n",
    "     1\n",
    "    /  \\\n",
    "   2    3\n",
    "Output: 2"
   ]
  },
  {
   "cell_type": "code",
   "execution_count": null,
   "id": "b32378aa",
   "metadata": {},
   "outputs": [],
   "source": [
    "def height(self, root):\n",
    "        if(root==None):\n",
    "            return 0\n",
    "        return max(self.height(root.left),self.height(root.right))+1"
   ]
  },
  {
   "cell_type": "markdown",
   "id": "a8601062",
   "metadata": {},
   "source": [
    "# "
   ]
  },
  {
   "cell_type": "markdown",
   "id": "9df7206e",
   "metadata": {},
   "source": [
    "# Check for Balanced Tree"
   ]
  },
  {
   "cell_type": "markdown",
   "id": "adad8f01",
   "metadata": {},
   "source": [
    "Given a binary tree, find if it is height balanced or not. \n",
    "A tree is height balanced if difference between heights of left and right subtrees is not more than one for all nodes of tree. \n",
    "\n"
   ]
  },
  {
   "cell_type": "code",
   "execution_count": null,
   "id": "799cdd5d",
   "metadata": {},
   "outputs": [],
   "source": [
    "A height balanced tree\n",
    "        1\n",
    "     /     \\\n",
    "   10      39\n",
    "  /\n",
    "5\n",
    "\n",
    "An unbalanced tree\n",
    "        1\n",
    "     /    \n",
    "   10   \n",
    "  /\n",
    "5"
   ]
  },
  {
   "cell_type": "code",
   "execution_count": null,
   "id": "db5bd563",
   "metadata": {},
   "outputs": [],
   "source": [
    "\n",
    "def height(root):\n",
    "    if root is None:\n",
    "        return 0\n",
    "    return max(height(root.left), height(root.right)) + 1\n",
    "\n",
    "def isHeightBalanced(root):\n",
    "    if root is None:\n",
    "        return True\n",
    "\n",
    "    left_height = height(root.left)\n",
    "    right_height = height(root.right)\n",
    "\n",
    "    if (abs(left_height - right_height) <= 1 and isHeightBalanced(root.left) and isHeightBalanced(root.right)):\n",
    "        return True\n",
    "\n",
    "    return False\n"
   ]
  },
  {
   "cell_type": "markdown",
   "id": "339dbbb7",
   "metadata": {},
   "source": [
    "# "
   ]
  },
  {
   "cell_type": "markdown",
   "id": "68f90b1e",
   "metadata": {},
   "source": [
    "# Children Sum Parent\n"
   ]
  },
  {
   "cell_type": "markdown",
   "id": "65193c12",
   "metadata": {},
   "source": [
    "Given a Binary Tree. Check whether all of its nodes have the value equal to the sum of their child nodes.\n"
   ]
  },
  {
   "cell_type": "code",
   "execution_count": null,
   "id": "3e5ded95",
   "metadata": {},
   "outputs": [],
   "source": [
    "Example 1:\n",
    "\n",
    "Input:\n",
    "     10\n",
    "    /\n",
    "  10 \n",
    "Output: 1\n",
    "Explanation: Here, every node is sum of\n",
    "its left and right child.\n",
    "Example 2:\n",
    "\n",
    "Input:\n",
    "       1\n",
    "     /   \\\n",
    "    4     3\n",
    "   /  \\\n",
    "  5    N\n",
    "Output: 0\n",
    "Explanation: Here, 1 is the root node\n",
    "and 4, 3 are its child nodes. 4 + 3 =\n",
    "7 which is not equal to the value of\n",
    "root node. Hence, this tree does not\n",
    "satisfy the given conditions."
   ]
  },
  {
   "cell_type": "code",
   "execution_count": null,
   "id": "a58de117",
   "metadata": {},
   "outputs": [],
   "source": [
    "def isSumProperty(self, root):\n",
    "        # code here\n",
    "        if not root:\n",
    "            return 1\n",
    "            \n",
    "        childSum = 0\n",
    "        \n",
    "        if root.left:\n",
    "            childSum += root.left.data\n",
    "        if root.right:\n",
    "            childSum += root.right.data\n",
    "            \n",
    "        if root.left == None and root.right == None:\n",
    "            return 1\n",
    "            \n",
    "        if root.data != childSum:\n",
    "            return 0\n",
    "        \n",
    "        return self.isSumProperty(root.left) and self.isSumProperty(root.right)"
   ]
  },
  {
   "cell_type": "markdown",
   "id": "b7747a1c",
   "metadata": {},
   "source": [
    "# "
   ]
  },
  {
   "cell_type": "markdown",
   "id": "7ee8fce7",
   "metadata": {},
   "source": [
    "# Binary Search Tree"
   ]
  },
  {
   "cell_type": "markdown",
   "id": "14af5918",
   "metadata": {},
   "source": [
    "# "
   ]
  },
  {
   "cell_type": "markdown",
   "id": "534a4159",
   "metadata": {},
   "source": [
    "# Search a node in BST\n"
   ]
  },
  {
   "cell_type": "code",
   "execution_count": null,
   "id": "9669e3da",
   "metadata": {},
   "outputs": [],
   "source": [
    "Given a Binary Search Tree and a node value X, find if the node with value X is present in the BST or not.\n",
    "\n",
    "\n",
    "Example 1:\n",
    "\n",
    "Input:         2\n",
    "                \\\n",
    "                 81 \n",
    "               /    \\ \n",
    "             42      87 \n",
    "              \\       \\ \n",
    "               66      90 \n",
    "              / \n",
    "            45\n",
    "X = 87\n",
    "Output: 1\n",
    "Explanation: As 87 is present in the\n",
    "given nodes , so the output will be\n",
    "1."
   ]
  },
  {
   "cell_type": "code",
   "execution_count": null,
   "id": "051c6082",
   "metadata": {},
   "outputs": [],
   "source": [
    "def search(self, node, x):\n",
    "        \n",
    "        if  node is None : return 0\n",
    "        if node.data == x: return 1\n",
    "        if node.data < x: return self.search(node.right,x)\n",
    "        if node.data > x : return self.search(node.left,x)"
   ]
  },
  {
   "cell_type": "markdown",
   "id": "278467d1",
   "metadata": {},
   "source": [
    "# "
   ]
  },
  {
   "cell_type": "markdown",
   "id": "d5a8e872",
   "metadata": {},
   "source": [
    "# Insert a node in a BST (Left Root Right)\n"
   ]
  },
  {
   "cell_type": "code",
   "execution_count": null,
   "id": "6ca46109",
   "metadata": {},
   "outputs": [],
   "source": [
    "Given a BST and a key K. If K is not present in the BST, Insert a new Node with a value equal to K into the BST. \n",
    "Note: If K is already present in the BST, don't modify the BST.\n",
    "\n",
    "\n",
    "Example 1:\n",
    "\n",
    "Input:\n",
    "     2\n",
    "   /   \\\n",
    "  1     3\n",
    "K = 4\n",
    "Output: 1 2 3 4\n",
    "Explanation: After inserting the node 4\n",
    "Inorder traversal will be 1 2 3 4."
   ]
  },
  {
   "cell_type": "code",
   "execution_count": null,
   "id": "9d5f8113",
   "metadata": {},
   "outputs": [],
   "source": [
    "def insert(root, Key):\n",
    "    \n",
    "    if root is None: return Node(Key)\n",
    "    if root.data == Key: return root\n",
    "    if root.data>Key:\n",
    "        root.left = insert(root.left,Key)\n",
    "    elif root.data<Key:\n",
    "        root.right = insert(root.right,Key)\n",
    "        \n",
    "    return root"
   ]
  },
  {
   "cell_type": "markdown",
   "id": "07c03da4",
   "metadata": {},
   "source": [
    "# "
   ]
  },
  {
   "cell_type": "markdown",
   "id": "6f4ccc3c",
   "metadata": {},
   "source": [
    "# Delete a node from BST\n"
   ]
  },
  {
   "cell_type": "code",
   "execution_count": null,
   "id": "591edfb2",
   "metadata": {},
   "outputs": [],
   "source": [
    "Given a Binary Search Tree and a node value X. Delete the node with the given value X from the BST. \n",
    "If no node with value x exists, then do not make any change. \n",
    "\n",
    "Example 1:\n",
    "\n",
    "Input:\n",
    "      2\n",
    "    /   \\\n",
    "   1     3\n",
    "X = 12\n",
    "Output: 1 2 3\n",
    "Explanation: In the given input there\n",
    "is no node with value 12 , so the tree\n",
    "will remain same."
   ]
  },
  {
   "cell_type": "code",
   "execution_count": null,
   "id": "2d6630cc",
   "metadata": {},
   "outputs": [],
   "source": [
    "def deleteNode(root, key):\n",
    "    # code here\n",
    "    if not root:\n",
    "        return root\n",
    "    if root.data > key:\n",
    "        root.left = deleteNode(root.left,key)\n",
    "    elif root.data<key:\n",
    "        root.right = deleteNode(root.right,key)\n",
    "    else:\n",
    "        if not root.left:\n",
    "            return root.right\n",
    "        elif not root.right:\n",
    "            return root.left\n",
    "        else:\n",
    "            curr = root.right\n",
    "            while curr.left:\n",
    "                curr = curr.left\n",
    "            root.data = curr.data\n",
    "            root.right = deleteNode(root.right,root.data)\n",
    "    return root"
   ]
  },
  {
   "cell_type": "markdown",
   "id": "f6cf80a6",
   "metadata": {},
   "source": [
    "# "
   ]
  },
  {
   "cell_type": "markdown",
   "id": "a0b1eac9",
   "metadata": {},
   "source": [
    "# Preorder in BST ( Root Left Right)"
   ]
  },
  {
   "cell_type": "code",
   "execution_count": null,
   "id": "217528ca",
   "metadata": {},
   "outputs": [],
   "source": [
    "Given a Binary Search Tree of size N, find its preorder traversal.\n",
    "\n",
    "Example 1:\n",
    "\n",
    "Input :\n",
    "N = 5\n",
    "       3\n",
    "      / \\  \n",
    "     1   4 \n",
    "      \\   \\   \n",
    "       2   5\n",
    "\n",
    "Output: 3 1 2 4 5"
   ]
  },
  {
   "cell_type": "code",
   "execution_count": null,
   "id": "da41b249",
   "metadata": {},
   "outputs": [],
   "source": [
    "def traversal(root,arr):\n",
    "    if root:\n",
    "        arr.append(root.val)\n",
    "        traversal(root.left,arr)\n",
    "        traversal(root.right,arr)\n",
    "\n",
    "def preOrder(root):\n",
    "    arr=[]\n",
    "    traversal(root,arr)\n",
    "    return arr"
   ]
  },
  {
   "cell_type": "markdown",
   "id": "28d88c97",
   "metadata": {},
   "source": [
    "# "
   ]
  },
  {
   "cell_type": "markdown",
   "id": "fb639a90",
   "metadata": {},
   "source": [
    "# Inorder in BST (Left Root Right)\n"
   ]
  },
  {
   "cell_type": "code",
   "execution_count": null,
   "id": "ba895b9e",
   "metadata": {},
   "outputs": [],
   "source": [
    "Given a Binary Search Tree of size N, find its inorder traversal.\n",
    "\n",
    "Example 1:\n",
    "\n",
    "Input :\n",
    "N = 5\n",
    "       3\n",
    "      / \\  \n",
    "     1   4 \n",
    "      \\   \\   \n",
    "       2   5\n",
    "\n",
    "Output: 1 2 3 4 5 "
   ]
  },
  {
   "cell_type": "code",
   "execution_count": null,
   "id": "7910b335",
   "metadata": {},
   "outputs": [],
   "source": [
    "def InOrder(root):\n",
    "    #code here\n",
    "    l=[]\n",
    "    traversal(root,l)\n",
    "    return l\n",
    "def traversal(root,l):\n",
    "  if root:\n",
    "    traversal(root.left,l)\n",
    "    l.append(root.val)\n",
    "    traversal(root.right,l)"
   ]
  },
  {
   "cell_type": "markdown",
   "id": "5cbffc25",
   "metadata": {},
   "source": [
    "# "
   ]
  },
  {
   "cell_type": "markdown",
   "id": "408afaac",
   "metadata": {},
   "source": [
    "# Postorder in BST (Left Right Root)\n"
   ]
  },
  {
   "cell_type": "code",
   "execution_count": null,
   "id": "d38f0f57",
   "metadata": {},
   "outputs": [],
   "source": [
    "Given a Binary Search Tree of size N, find its postorder traversal.\n",
    "\n",
    "Example 1:\n",
    "\n",
    "Input :\n",
    "N = 5\n",
    "       3\n",
    "      / \\  \n",
    "     1   4 \n",
    "      \\   \\   \n",
    "       2   5\n",
    "\n",
    "Output: 2 1 5 4 3"
   ]
  },
  {
   "cell_type": "code",
   "execution_count": null,
   "id": "9081f73b",
   "metadata": {},
   "outputs": [],
   "source": [
    "def traverse(root,arr):\n",
    "    if root:\n",
    "        traverse(root.left,arr)\n",
    "        traverse(root.right,arr)\n",
    "        arr.append(root.val)\n",
    "        \n",
    "def postOrder(root):\n",
    "    arr=[]\n",
    "    traverse(root,arr)\n",
    "    return arr"
   ]
  },
  {
   "cell_type": "markdown",
   "id": "ba1de844",
   "metadata": {},
   "source": [
    "# \n"
   ]
  },
  {
   "cell_type": "markdown",
   "id": "d7fdf95b",
   "metadata": {},
   "source": [
    "# Levelorder in BST"
   ]
  },
  {
   "cell_type": "code",
   "execution_count": null,
   "id": "93442f51",
   "metadata": {},
   "outputs": [],
   "source": [
    "Given a Binary Search Tree of size N, find its level-order traversal.\n",
    "\n",
    "Example 1:\n",
    "\n",
    "Input :\n",
    "N = 5\n",
    "       3\n",
    "      / \\  \n",
    "     1   4 \n",
    "      \\   \\   \n",
    "       2   5\n",
    "\n",
    "Output: 3 1 4 2 5"
   ]
  },
  {
   "cell_type": "code",
   "execution_count": null,
   "id": "8646a14c",
   "metadata": {},
   "outputs": [],
   "source": [
    "from collections import deque\n",
    "\n",
    "def levelOrder(root):\n",
    "    l=[]\n",
    "    q=deque()\n",
    "    q.append(root)\n",
    "    while q:\n",
    "        temp=q.popleft()\n",
    "        l.append(temp.val)\n",
    "        if temp.left:\n",
    "            q.append(temp.left)\n",
    "        if temp.right:\n",
    "            q.append(temp.right)\n",
    "    return l"
   ]
  },
  {
   "cell_type": "markdown",
   "id": "1a2116a2",
   "metadata": {},
   "source": [
    "# "
   ]
  },
  {
   "cell_type": "markdown",
   "id": "dc328be7",
   "metadata": {},
   "source": [
    "# Floor in BST"
   ]
  },
  {
   "cell_type": "code",
   "execution_count": null,
   "id": "994712e5",
   "metadata": {},
   "outputs": [],
   "source": [
    "Given a Binary search tree and a value X,  the task is to complete the function which will return the floor of x.\n",
    "\n",
    "Note: Floor(X) is an element that is either equal to X or immediately smaller to X. If no such element exits return -1.\n",
    "\n",
    "Example 1:\n",
    "\n",
    "Input:\n",
    "       8\n",
    "     /  \\\n",
    "    5    9\n",
    "   / \\    \\\n",
    "  2   6   10\n",
    "X = 3\n",
    "Output: 2"
   ]
  },
  {
   "cell_type": "code",
   "execution_count": null,
   "id": "e7e23fa1",
   "metadata": {},
   "outputs": [],
   "source": [
    "def floor(root,x):\n",
    "    res = -1\n",
    "    \n",
    "    while root:\n",
    "        if root.data == x:\n",
    "            return root.data\n",
    "        elif root.data > x:\n",
    "            root = root.left\n",
    "        else:\n",
    "            res = root.data\n",
    "            root = root.right\n",
    "    \n",
    "    return res"
   ]
  },
  {
   "cell_type": "markdown",
   "id": "e4217654",
   "metadata": {},
   "source": [
    "# "
   ]
  },
  {
   "cell_type": "markdown",
   "id": "3ddf2af1",
   "metadata": {},
   "source": [
    "# Ceil in BST\n"
   ]
  },
  {
   "cell_type": "code",
   "execution_count": null,
   "id": "350e6019",
   "metadata": {},
   "outputs": [],
   "source": [
    "Given a BST and a number X, find Ceil of X.\n",
    "Note: Ceil(X) is a number that is either equal to X or is immediately greater than X.\n",
    "\n",
    "If Ceil could not be found, return -1.\n",
    "\n",
    "Example 1:\n",
    "\n",
    "Input:\n",
    "      5\n",
    "    /   \\\n",
    "   1     7\n",
    "    \\\n",
    "     2 \n",
    "      \\\n",
    "       3\n",
    "X = 3\n",
    "Output: 3"
   ]
  },
  {
   "cell_type": "code",
   "execution_count": null,
   "id": "ad5408f2",
   "metadata": {},
   "outputs": [],
   "source": [
    "class Solution:\n",
    "    def findCeil(self,root, inp):\n",
    "        ans=-1\n",
    "        while root is not None:\n",
    "            if root.key==inp:\n",
    "                return inp\n",
    "            if root.key<inp:\n",
    "                # ans=root.key\n",
    "                root=root.right\n",
    "            else:\n",
    "                ans=root.key\n",
    "                root=root.left\n",
    "        \n",
    "        return ans"
   ]
  },
  {
   "cell_type": "markdown",
   "id": "3a680fc6",
   "metadata": {},
   "source": [
    "# "
   ]
  },
  {
   "cell_type": "markdown",
   "id": "bff88103",
   "metadata": {},
   "source": [
    "# Minimum element in BST"
   ]
  },
  {
   "cell_type": "code",
   "execution_count": null,
   "id": "d5784023",
   "metadata": {},
   "outputs": [],
   "source": [
    "Given a Binary Search Tree. The task is to find the minimum valued element in this given BST.\n",
    "\n",
    "Example 1:\n",
    "\n",
    "Input:\n",
    "           5\n",
    "         /    \\\n",
    "        4      6\n",
    "       /        \\\n",
    "      3          7\n",
    "     /\n",
    "    1\n",
    "Output: 1"
   ]
  },
  {
   "cell_type": "code",
   "execution_count": null,
   "id": "49b81b1a",
   "metadata": {},
   "outputs": [],
   "source": [
    "def minValue(root):\n",
    "    if not root:\n",
    "        return -1\n",
    "\n",
    "    current = root\n",
    "    while current.left:\n",
    "        current = current.left\n",
    "\n",
    "    return current.data"
   ]
  },
  {
   "cell_type": "markdown",
   "id": "7d72c60c",
   "metadata": {},
   "source": [
    "# "
   ]
  },
  {
   "cell_type": "markdown",
   "id": "5103ed74",
   "metadata": {},
   "source": [
    "# Heap"
   ]
  },
  {
   "cell_type": "markdown",
   "id": "3b8b4548",
   "metadata": {},
   "source": [
    "# "
   ]
  },
  {
   "cell_type": "raw",
   "id": "7f172c04",
   "metadata": {},
   "source": [
    "A Heap is a Tree-based data structure, which satisfies the below properties:\n",
    " \n",
    "\n",
    "A Heap is a complete tree (All levels are completely filled except possibly the last level and the last level has all keys as left as possible).\n",
    "\n",
    "A Heap is either Min Heap or Max Heap. In a Min-Heap, the key at root must be minimum among all keys present in the Binary \n",
    "Heap. The same property must be recursively true for all nodes in the Tree. Max Heap is similar to MinHeap.\n",
    "\n",
    "\n",
    "Binary Heap: A Binary Heap is a heap where each node can have at most two children. In other words, a Binary Heap is a complete            Binary Tree satisfying the above-mentioned properties. \n",
    "\n",
    "\n",
    "Since a Binary Heap is a complete Binary Tree, it can be easily represented using Arrays. \n",
    " \n",
    "\n",
    "The root element will be at Arr[0].\n",
    "Below table shows indexes of other nodes for the ith node, i.e., Arr[i]:\n",
    "\n",
    "Arr[(i-1)/2]\tReturns the parent node\n",
    "\n",
    "Arr[(2*i)+1]\tReturns the left child node\n",
    "\n",
    "Arr[(2*i)+2]\tReturns the right child node\n",
    "\n",
    "\n",
    "Getting Maximum Element: In a Max-Heap, the maximum element is always present at the root node which is the first element in the array used to represent the Heap. So, the maximum element from a max heap can be simply obtained by returning the root node as Arr[0] in O(1) time complexity.\n",
    "\n",
    "Getting Minimum Element: In a Min-Heap, the minimum element is always present at the root node which is the first element in the array used to represent the Heap. So, the minimum element from a minheap can be simply obtained by returning the root node as Arr[0] in O(1) time complexity.\n"
   ]
  },
  {
   "cell_type": "markdown",
   "id": "fd467444",
   "metadata": {},
   "source": [
    "# "
   ]
  },
  {
   "cell_type": "markdown",
   "id": "9eb88850",
   "metadata": {},
   "source": [
    "# # The operations that can be performed on heap data structure are : "
   ]
  },
  {
   "cell_type": "raw",
   "id": "709fb319",
   "metadata": {},
   "source": [
    "\n",
    "\n",
    "Heapify: a process of creating a heap from an array.\n",
    "\n",
    "Insertion: process to insert an element in existing heap time complexity O(log N).\n",
    "\n",
    "Deletion: deleting the top element of the heap or the highest priority element, and then organizing the heap and returning the \n",
    "element with time complexity O(log N).\n",
    "\n",
    "Peek: to check or find the most prior element in the heap, (max or min element for max and min heap).\n",
    " \n",
    "\n",
    "Below is the implementation of basic heap operations."
   ]
  },
  {
   "cell_type": "code",
   "execution_count": 5,
   "id": "f5ffb7ae",
   "metadata": {},
   "outputs": [
    {
     "name": "stdout",
     "output_type": "stream",
     "text": [
      "2\n",
      "4\n",
      "1\n"
     ]
    }
   ],
   "source": [
    "# A Python program to demonstrate common binary heap operations\n",
    "\n",
    "# Import the heap functions from python library\n",
    "from heapq import heappush, heappop\n",
    "\n",
    "# A class for Min Heap\n",
    "class MinHeap:\n",
    "\n",
    "    # Constructor to initialize a heap\n",
    "    def __init__(self):\n",
    "        self.heap = []\n",
    "\n",
    "    def parent(self, i):\n",
    "        return (i - 1) // 2  # Use integer division // instead of /\n",
    "\n",
    "    # Inserts a new key 'k'\n",
    "    def insertKey(self, k):\n",
    "        heappush(self.heap, k)\n",
    "\n",
    "    # Decrease value of key at index 'i' to new_val\n",
    "    # It is assumed that new_val is smaller than heap[i]\n",
    "    def decreaseKey(self, i, new_val):\n",
    "        self.heap[i] = new_val\n",
    "        while i != 0 and self.heap[self.parent(i)] > self.heap[i]:\n",
    "            # Swap heap[i] with heap[parent(i)]\n",
    "            self.heap[i], self.heap[self.parent(i)] = (\n",
    "                self.heap[self.parent(i)], self.heap[i])\n",
    "            i = self.parent(i)\n",
    "\n",
    "    # Method to remove minimum element from min heap\n",
    "    def extractMin(self):\n",
    "        return heappop(self.heap)\n",
    "\n",
    "    # This function deletes key at index i. It first reduces\n",
    "    # value to minus infinite and then calls extractMin()\n",
    "    def deleteKey(self, i):\n",
    "        self.decreaseKey(i, float(\"-inf\"))\n",
    "        self.extractMin()\n",
    "\n",
    "    # Get the minimum element from the heap\n",
    "    def getMin(self):\n",
    "        return self.heap[0]\n",
    "\n",
    "# Driver program to test above function\n",
    "heapObj = MinHeap()\n",
    "heapObj.insertKey(3)\n",
    "heapObj.insertKey(2)\n",
    "heapObj.deleteKey(1)\n",
    "heapObj.insertKey(15)\n",
    "heapObj.insertKey(5)\n",
    "heapObj.insertKey(4)\n",
    "heapObj.insertKey(45)\n",
    "\n",
    "print(heapObj.extractMin())\n",
    "print(heapObj.getMin())\n",
    "heapObj.decreaseKey(2, 1)\n",
    "print(heapObj.getMin())\n"
   ]
  },
  {
   "cell_type": "markdown",
   "id": "f9e3e227",
   "metadata": {},
   "source": [
    "# Insertion and Deletion in Heap"
   ]
  },
  {
   "cell_type": "markdown",
   "id": "d30ebf7c",
   "metadata": {},
   "source": [
    "# Given a Binary Heap and a new element to be added to this Heap. The task is to insert the new element to the Heap maintaining the properties of Heap."
   ]
  },
  {
   "cell_type": "markdown",
   "id": "47c32ed7",
   "metadata": {},
   "source": [
    "Process of Insertion: Elements can be inserted to the heap following a similar approach as discussed above for deletion. The idea is to:\n",
    " \n",
    "\n",
    "First increase the heap size by 1, so that it can store the new element.\n",
    "\n",
    "Insert the new element at the end of the Heap.\n",
    "\n",
    "This newly inserted element may distort the properties of Heap for its parents.\n",
    "So, in order to keep the properties of Heap, \n",
    "heapify this newly inserted element following a bottom-up approach."
   ]
  },
  {
   "cell_type": "code",
   "execution_count": null,
   "id": "111c1bb6",
   "metadata": {},
   "outputs": [],
   "source": [
    "Suppose the Heap is a Max-Heap as:\n",
    "      10\n",
    "    /    \\\n",
    "   5      3\n",
    "  / \\\n",
    " 2   4\n",
    "\n",
    "The new element to be inserted is 15.\n",
    "\n",
    "Process:\n",
    "Step 1: Insert the new element at the end.\n",
    "      10\n",
    "    /    \\\n",
    "   5      3\n",
    "  / \\    /\n",
    " 2   4  15\n",
    "\n",
    "Step 2: Heapify the new element following bottom-up \n",
    "        approach.\n",
    "-> 15 is more than its parent 3, swap them.\n",
    "       10\n",
    "    /    \\\n",
    "   5      15\n",
    "  / \\    /\n",
    " 2   4  3\n",
    "\n",
    "-> 15 is again more than its parent 10, swap them.\n",
    "       15\n",
    "    /    \\\n",
    "   5      10\n",
    "  / \\    /\n",
    " 2   4  3\n",
    "\n",
    "Therefore, the final heap after insertion is:\n",
    "       15\n",
    "    /    \\\n",
    "   5      10\n",
    "  / \\    /\n",
    " 2   4  3\n"
   ]
  },
  {
   "cell_type": "code",
   "execution_count": 7,
   "id": "1dfea82d",
   "metadata": {},
   "outputs": [
    {
     "name": "stdout",
     "output_type": "stream",
     "text": [
      "15 10 3 5 4 1 7 2 "
     ]
    }
   ],
   "source": [
    "# Function to heapify ith node in a Heap\n",
    "# of size n following a Bottom-up approach\n",
    "def heapify(arr, n, i):\n",
    "    parent = (i - 1) // 2  # Use integer division //\n",
    "    if parent >= 0:\n",
    "        if arr[i] > arr[parent]:\n",
    "            arr[i], arr[parent] = arr[parent], arr[i]\n",
    "            # Recursively heapify the parent node\n",
    "            heapify(arr, n, parent)\n",
    "\n",
    "# Function to insert a new node to the Heap\n",
    "def insertNode(arr, key):\n",
    "    global n\n",
    "    n += 1  # Increase the size of the heap\n",
    "    arr.append(key)  # Insert the element at the end of the heap\n",
    "    heapify(arr, n, n - 1)  # Heapify the new node\n",
    "\n",
    "# A utility function to print array of size n\n",
    "def printArr(arr, n):\n",
    "    for i in range(n):\n",
    "        print(arr[i], end=\" \")\n",
    "\n",
    "# Driver Code\n",
    "arr = [10, 5, 3, 2, 4, 1, 7]\n",
    "n = 7\n",
    "key = 15\n",
    "insertNode(arr, key)\n",
    "printArr(arr, n)\n"
   ]
  },
  {
   "cell_type": "markdown",
   "id": "7b7381aa",
   "metadata": {},
   "source": [
    "# "
   ]
  },
  {
   "cell_type": "markdown",
   "id": "fa9be50d",
   "metadata": {},
   "source": [
    "# Heapq or Heap queue in Python"
   ]
  },
  {
   "cell_type": "markdown",
   "id": "8f800668",
   "metadata": {},
   "source": [
    "Heap data structure is mainly used to represent a priority queue. In Python, it is available using the \"heapq\" module. \n",
    "\n",
    "The property of this data structure in Python is that each time the smallest heap element is popped(min-heap). Whenever elements are pushed or popped, heap structure is maintained. The heap[0] element also returns the smallest element each time. \n",
    "\n",
    "Let's see various Operations on the heap in Python.\n",
    "\n",
    "Creating a simple heap\n",
    "\n",
    "The heapify(iterable):- This function is used to convert the iterable into a heap data structure. i.e. in heap order."
   ]
  },
  {
   "cell_type": "code",
   "execution_count": 8,
   "id": "6a02fec7",
   "metadata": {},
   "outputs": [
    {
     "name": "stdout",
     "output_type": "stream",
     "text": [
      "The created heap is :  [1, 3, 9, 7, 5]\n"
     ]
    }
   ],
   "source": [
    "# importing \"heapq\" to implement heap queue\n",
    "import heapq\n",
    "\n",
    "# initializing list\n",
    "li = [5, 7, 9, 1, 3]\n",
    "\n",
    "# using heapify to convert list into heap\n",
    "heapq.heapify(li)\n",
    "\n",
    "# printing created heap\n",
    "print (\"The created heap is : \",(list(li)))"
   ]
  },
  {
   "cell_type": "markdown",
   "id": "514ea402",
   "metadata": {},
   "source": [
    "Appending and Popping Items Efficiently\n",
    "\n",
    "heappush(heap, ele): This function is used to insert the element mentioned in its arguments into a heap. The order is adjusted, so that heap structure is maintained.\n",
    "\n",
    "heappop(heap): This function is used to remove and return the smallest element from the heap. The order is adjusted, so that heap structure is maintained."
   ]
  },
  {
   "cell_type": "code",
   "execution_count": 9,
   "id": "e4ff3193",
   "metadata": {},
   "outputs": [
    {
     "name": "stdout",
     "output_type": "stream",
     "text": [
      "The created heap is : [1, 3, 9, 7, 5]\n",
      "The modified heap after push is : [1, 3, 4, 7, 5, 9]\n",
      "The popped and smallest element is : 1\n"
     ]
    }
   ],
   "source": [
    "# importing \"heapq\" to implement heap queue\n",
    "import heapq\n",
    "\n",
    "# initializing list\n",
    "li = [5, 7, 9, 1, 3]\n",
    "\n",
    "# using heapify to convert list into heap\n",
    "heapq.heapify(li)\n",
    "\n",
    "# printing created heap\n",
    "print(\"The created heap is : \", end=\"\")\n",
    "print(list(li))\n",
    "\n",
    "# using heappush() to push elements into heap\n",
    "# pushes 4\n",
    "heapq.heappush(li, 4)\n",
    "\n",
    "# printing modified heap\n",
    "print(\"The modified heap after push is : \", end=\"\")\n",
    "print(list(li))\n",
    "\n",
    "# using heappop() to pop smallest element\n",
    "print(\"The popped and smallest element is : \", end=\"\")\n",
    "print(heapq.heappop(li))"
   ]
  },
  {
   "cell_type": "markdown",
   "id": "11645189",
   "metadata": {},
   "source": [
    "Appending and Popping simultaneously\n",
    "\n",
    "heappushpop(heap, ele):- This function combines the functioning of both push and pop operations in one statement, increasing efficiency. Heap order is maintained after this operation.\n",
    "\n",
    "heapreplace(heap, ele):- This function also inserts and pops elements in one statement, but it is different from the above function. \n",
    "In this, the element is first popped, then the element is pushed. i.e, the value larger than the pushed value can be returned. heapreplace() returns the smallest value originally in the heap regardless of the pushed element as opposed to heappushpop()."
   ]
  },
  {
   "cell_type": "code",
   "execution_count": 10,
   "id": "79da5f8c",
   "metadata": {},
   "outputs": [
    {
     "name": "stdout",
     "output_type": "stream",
     "text": [
      "The popped item using heappushpop() is : 1\n",
      "The popped item using heapreplace() is : 3\n"
     ]
    }
   ],
   "source": [
    "# importing \"heapq\" to implement heap queue\n",
    "import heapq\n",
    "\n",
    "# initializing list 1\n",
    "li1 = [5, 1, 9, 4, 3]\n",
    "\n",
    "# initializing list 2\n",
    "li2 = [5, 7, 9, 4, 3]\n",
    "\n",
    "# using heapify() to convert list into heap\n",
    "heapq.heapify(li1)\n",
    "heapq.heapify(li2)\n",
    "\n",
    "# using heappushpop() to push and pop items simultaneously\n",
    "# pops 2\n",
    "print(\"The popped item using heappushpop() is : \", end=\"\")\n",
    "print(heapq.heappushpop(li1, 2))\n",
    "\n",
    "# using heapreplace() to push and pop items simultaneously\n",
    "# pops 3\n",
    "print(\"The popped item using heapreplace() is : \", end=\"\")\n",
    "print(heapq.heapreplace(li2, 2))"
   ]
  },
  {
   "cell_type": "markdown",
   "id": "bdb55fca",
   "metadata": {},
   "source": [
    "Find the largest and smallest elements from Heap in Python\n",
    "\n",
    "nlargest(k, iterable, key = fun): This function is used to return the k largest elements from the iterable specified and satisfy the key if mentioned.\n",
    "\n",
    "nsmallest(k, iterable, key = fun): This function is used to return the k smallest elements from the iterable specified and satisfy the key if mentioned."
   ]
  },
  {
   "cell_type": "code",
   "execution_count": 11,
   "id": "97db7e89",
   "metadata": {},
   "outputs": [
    {
     "name": "stdout",
     "output_type": "stream",
     "text": [
      "The 3 largest numbers in list are : [10, 9, 8]\n",
      "The 3 smallest numbers in list are : [1, 3, 4]\n"
     ]
    }
   ],
   "source": [
    "# Python code to demonstrate working of\n",
    "# nlargest() and nsmallest()\n",
    "\n",
    "# importing \"heapq\" to implement heap queue\n",
    "import heapq\n",
    "\n",
    "# initializing list\n",
    "li1 = [6, 7, 9, 4, 3, 5, 8, 10, 1]\n",
    "\n",
    "# using heapify() to convert list into heap\n",
    "heapq.heapify(li1)\n",
    "\n",
    "# using nlargest to print 3 largest numbers\n",
    "# prints 10, 9 and 8\n",
    "print(\"The 3 largest numbers in list are : \", end=\"\")\n",
    "print(heapq.nlargest(3, li1))\n",
    "\n",
    "# using nsmallest to print 3 smallest numbers\n",
    "# prints 1, 3 and 4\n",
    "print(\"The 3 smallest numbers in list are : \", end=\"\")\n",
    "print(heapq.nsmallest(3, li1))"
   ]
  },
  {
   "cell_type": "markdown",
   "id": "12faee51",
   "metadata": {},
   "source": [
    "# Building Heap"
   ]
  },
  {
   "cell_type": "markdown",
   "id": "92cf72bf",
   "metadata": {},
   "source": [
    "Given N elements. The task is to build a Binary Heap from the given array. The heap can be either Max Heap or Min Heap."
   ]
  },
  {
   "cell_type": "code",
   "execution_count": null,
   "id": "4d2bd1f4",
   "metadata": {},
   "outputs": [],
   "source": [
    "Array = {1, 3, 5, 4, 6, 13, 10, 9, 8, 15, 17}\n",
    "Corresponding Complete Binary Tree is:\n",
    "                 1\n",
    "              /     \\\n",
    "           3         5\n",
    "        /    \\     /  \\\n",
    "      4      6   13  10\n",
    "     / \\    / \\\n",
    "   9   8  15 17\n",
    "   \n",
    "The task to build a Max-Heap from above array.\n",
    "Total Nodes = 11.\n",
    "Last Non-leaf node index = (11/2) – 1 = 4.\n",
    "Therefore, last non-leaf node = 6.\n",
    "To build the heap, heapify only the nodes: [1, 3, 5, 4, 6] in reverse order.\n",
    "\n",
    "Heapify 6: Swap 6 and 17.\n",
    "                 1\n",
    "              /     \\\n",
    "           3         5\n",
    "        /    \\      /  \\\n",
    "     4      17   13  10\n",
    "    / \\    /  \\\n",
    "  9   8  15   6\n",
    "  \n",
    "Heapify 4: Swap 4 and 9.\n",
    "\n",
    "                 1\n",
    "              /     \\\n",
    "           3         5\n",
    "        /    \\      /  \\\n",
    "     9      17   13  10\n",
    "    / \\    /  \\\n",
    "  4   8  15   6\n",
    "  \n",
    "Heapify 5: Swap 13 and 5.\n",
    "                 1\n",
    "              /     \\\n",
    "           3         13\n",
    "        /    \\      /  \\\n",
    "     9      17   5   10\n",
    "    / \\    /  \\\n",
    " 4   8  15   6\n",
    " \n",
    "Heapify 3: First Swap 3 and 17, again swap 3 and 15.\n",
    "                1\n",
    "             /    \\\n",
    "         17        13\n",
    "       /   \\      /  \\\n",
    "    9      15     5   10\n",
    "   / \\    /  \\\n",
    " 4   8  3    6\n",
    " \n",
    "Heapify 1: First Swap 1 and 17, again swap 1 and 15, finally swap 1 and 6.\n",
    "                 17\n",
    "              /      \\\n",
    "          15         13\n",
    "         /    \\      /  \\\n",
    "       9      6    5   10\n",
    "      / \\    /  \\\n",
    "    4   8  3    1"
   ]
  },
  {
   "cell_type": "raw",
   "id": "45da6914",
   "metadata": {},
   "source": [
    "Suppose the given input elements are: 4, 10, 3, 5, 1.\n",
    "\n",
    "The corresponding complete binary tree for this array of elements [4, 10, 3, 5, 1] will be:\n",
    " \n",
    "\n",
    "Root is at index 0 in array.\n",
    "\n",
    "Left child of i-th node is at (2*i + 1)th index.\n",
    "\n",
    "Left child of i-th node is at (2*i + 2)th index.\n",
    "\n",
    "Parent of i-th node is at (i-1)/2 index.\n",
    "\n",
    "\n",
    "Suppose, we need to build a Max-Heap from the above-given array elements. It can be clearly seen that the above complete binary tree formed does not follow the Heap property. So, the idea is to heapify the complete binary tree formed from the array in reverse level order following top-down approach.\n",
    "\n",
    "That is first heapify, the last node in level order traversal of the tree, then heapify the second last node and so on. \n",
    "\n",
    "\n",
    "Time Complexity: Heapify a single node takes O(Log N) time complexity where N is the total number of Nodes. Therefore, building the entire Heap will take N heapify operations and the total time complexity will be O(N*logN).\n",
    "\n",
    "Optimized Approach: The above approach can be optimized by observing the fact that the leaf nodes need not to be heapified as they already follow the heap property. Also, the array representation of the complete binary tree contains the level order traversal of the tree.\n",
    "\n",
    "So the idea is to find the position of the last non-leaf node and perform the heapify operation of each non-leaf node in reverse level order.\n",
    " \n",
    "\n",
    "Last non-leaf node = parent of last-node.\n",
    "\n",
    "or, Last non-leaf node = parent of node at (n-1)th index.\n",
    "\n",
    "or, Last non-leaf node = Node at index ((n-1) - 1)/2.\n",
    "                       = (n - 2)/2"
   ]
  },
  {
   "cell_type": "code",
   "execution_count": 1,
   "id": "8d45bf15",
   "metadata": {},
   "outputs": [
    {
     "name": "stdout",
     "output_type": "stream",
     "text": [
      "Array representation of Heap is:\n",
      "17 15 13 9 6 5 10 4 8 3 1 \n"
     ]
    }
   ],
   "source": [
    "# Python3 program for building Heap from Array\n",
    "\n",
    "# To heapify a subtree rooted with node i\n",
    "# which is an index in arr[]. N is size of heap\n",
    "\n",
    "def heapify(arr, N, i):\n",
    "\n",
    "\tlargest = i # Initialize largest as root\n",
    "\tl = 2 * i + 1 # left = 2*i + 1\n",
    "\tr = 2 * i + 2 # right = 2*i + 2\n",
    "\n",
    "\t# If left child is larger than root\n",
    "\tif l < N and arr[l] > arr[largest]:\n",
    "\t\tlargest = l\n",
    "\n",
    "\t# If right child is larger than largest so far\n",
    "\tif r < N and arr[r] > arr[largest]:\n",
    "\t\tlargest = r\n",
    "\n",
    "\t# If largest is not root\n",
    "\tif largest != i:\n",
    "\t\tarr[i], arr[largest] = arr[largest], arr[i]\n",
    "\n",
    "\t\t# Recursively heapify the affected sub-tree\n",
    "\t\theapify(arr, N, largest)\n",
    "\n",
    "# Function to build a Max-Heap from the given array\n",
    "\n",
    "\n",
    "def buildHeap(arr, N):\n",
    "\n",
    "\t# Index of last non-leaf node\n",
    "\tstartIdx = N // 2 - 1\n",
    "\n",
    "\t# Perform reverse level order traversal\n",
    "\t# from last non-leaf node and heapify\n",
    "\t# each node\n",
    "\tfor i in range(startIdx, -1, -1):\n",
    "\t\theapify(arr, N, i)\n",
    "\n",
    "# A utility function to print the array\n",
    "# representation of Heap\n",
    "\n",
    "\n",
    "def printHeap(arr, N):\n",
    "\tprint(\"Array representation of Heap is:\")\n",
    "\n",
    "\tfor i in range(N):\n",
    "\t\tprint(arr[i], end=\" \")\n",
    "\tprint()\n",
    "\n",
    "\n",
    "# Driver Code\n",
    "if __name__ == '__main__':\n",
    "\n",
    "\t# Binary Tree Representation\n",
    "\t# of input array\n",
    "\t#\t\t\t 1\n",
    "\t#\t\t / \\\n",
    "\t#\t\t 3\t 5\n",
    "\t#\t / \\\t / \\\n",
    "\t#\t 4\t 6 13 10\n",
    "\t# / \\ / \\\n",
    "\t# 9 8 15 17\n",
    "\tarr = [1, 3, 5, 4, 6, 13,\n",
    "\t\t10, 9, 8, 15, 17]\n",
    "\n",
    "\tN = len(arr)\n",
    "\n",
    "\tbuildHeap(arr, N)\n",
    "\tprintHeap(arr, N)\n",
    "\n",
    "\t# Final Heap:\n",
    "\t#\t\t 17\n",
    "\t#\t\t / \\\n",
    "\t#\t\t15  13\n",
    "\t#\t   / \\\t/ \\\n",
    "\t#\t  9\t 6  5 10\n",
    "\t#\t/ \\ / \\\n",
    "\t#\t4 8 3 1"
   ]
  },
  {
   "cell_type": "markdown",
   "id": "d990f193",
   "metadata": {},
   "source": [
    "# "
   ]
  },
  {
   "cell_type": "markdown",
   "id": "8ebe173e",
   "metadata": {},
   "source": [
    "# Heap Sort - Ascending Order"
   ]
  },
  {
   "cell_type": "markdown",
   "id": "c6fd7d7b",
   "metadata": {},
   "source": [
    "Description - Heap sort is a comparison based sorting technique based on Binary Heap data structure. It is similar to selection sort where we first find the maximum element and place the maximum element at the end. We repeat the same process for remaining element.\n",
    "\n",
    "Solution -Heap Sort Algorithm for sorting in increasing order-\n",
    "Build a max heap from the input data.\n",
    "At this point, the largest item is stored at the root of the heap. Replace it with the last item of the heap followed by reducing the size of heap by 1. Finally, heapify the root of tree.\n",
    "Repeat above steps while size of heap is greater than 1.\n"
   ]
  },
  {
   "cell_type": "code",
   "execution_count": 13,
   "id": "25d25c7d",
   "metadata": {},
   "outputs": [
    {
     "name": "stdout",
     "output_type": "stream",
     "text": [
      "Sorted array: [5, 6, 7, 11, 12, 13]\n"
     ]
    }
   ],
   "source": [
    "def heapify(arr, n, i):\n",
    "    largest = i\n",
    "    left_child = 2 * i + 1\n",
    "    right_child = 2 * i + 2\n",
    "\n",
    "    if left_child < n and arr[left_child] > arr[largest]:\n",
    "        largest = left_child\n",
    "\n",
    "    if right_child < n and arr[right_child] > arr[largest]:\n",
    "        largest = right_child\n",
    "\n",
    "    if largest != i:\n",
    "        arr[i], arr[largest] = arr[largest], arr[i]\n",
    "        heapify(arr, n, largest)\n",
    "\n",
    "def heapSort(arr):\n",
    "    n = len(arr)\n",
    "\n",
    "    # Build a max heap.\n",
    "    for i in range(n // 2 - 1, -1, -1):\n",
    "        heapify(arr, n, i)\n",
    "\n",
    "    # Extract elements one by one from the heap\n",
    "    for i in range(n - 1, 0, -1):\n",
    "        arr[0], arr[i] = arr[i], arr[0]  # Swap current root with end of the heap\n",
    "        heapify(arr, i, 0)  # Heapify the reduced heap\n",
    "\n",
    "# Driver code\n",
    "arr = [12, 11, 13, 5, 6, 7]\n",
    "heapSort(arr)\n",
    "print(\"Sorted array:\", arr)\n"
   ]
  },
  {
   "cell_type": "markdown",
   "id": "ebc13296",
   "metadata": {},
   "source": [
    "# "
   ]
  },
  {
   "cell_type": "markdown",
   "id": "596d4dbf",
   "metadata": {},
   "source": [
    "#  K’th Smallest/Largest Element in Unsorted Array"
   ]
  },
  {
   "cell_type": "markdown",
   "id": "f8c5dd77",
   "metadata": {},
   "source": [
    "Description - Given an array and a number k where k is smaller than size of array, we need to find the k’th smallest element in the given array. It is given that all array elements are distinct.\n",
    "\n",
    "Solution - The idea is create Min Heap and extract k elements from the element, kth extracted element will be the kth smallest element in the array."
   ]
  },
  {
   "cell_type": "code",
   "execution_count": 14,
   "id": "2cc67a2a",
   "metadata": {},
   "outputs": [
    {
     "name": "stdout",
     "output_type": "stream",
     "text": [
      "The 3th smallest element is: 3\n"
     ]
    }
   ],
   "source": [
    "import heapq\n",
    "\n",
    "def kth_smallest(arr, k):\n",
    "    if k <= 0 or k > len(arr):\n",
    "        return None\n",
    "    \n",
    "    heap = []  # Create an empty Min Heap\n",
    "    \n",
    "    # Insert the first k elements into the heap\n",
    "    for i in range(k):\n",
    "        heapq.heappush(heap, arr[i])\n",
    "    \n",
    "    # For the remaining elements, if they are smaller than the current largest in the heap, replace it\n",
    "    for i in range(k, len(arr)):\n",
    "        if arr[i] < heap[0]:\n",
    "            heapq.heappop(heap)\n",
    "            heapq.heappush(heap, arr[i])\n",
    "    \n",
    "    return heap[0]  # The root of the heap contains the k'th smallest element\n",
    "\n",
    "# Example usage\n",
    "array = [7, 10, 4, 3, 20, 15]\n",
    "k = 3\n",
    "result = kth_smallest(array, k)\n",
    "print(f\"The {k}th smallest element is:\", result)\n"
   ]
  },
  {
   "cell_type": "markdown",
   "id": "3c1cdf9a",
   "metadata": {},
   "source": [
    "# "
   ]
  },
  {
   "cell_type": "markdown",
   "id": "43a6937c",
   "metadata": {},
   "source": [
    "# Median of Stream of Running Integers"
   ]
  },
  {
   "cell_type": "markdown",
   "id": "e3441f3d",
   "metadata": {},
   "source": [
    "Description - Given that integers are being read from a data stream. Find median of all the elements read so far starting from the first integer till the last integer. This is also called Median of Running Integers. The data stream can be any source of data, example: a file, an array of integers, input stream etc.\n",
    "\n",
    "What is Median?\n",
    "\n",
    "Median can be defined as the element in the data set which separates the higher half of the data sample from the lower half. In other words we can get the median element as, when the input size is odd, we take the middle element of sorted data. If the input size is even, we pick average of middle two elements in sorted stream.\n"
   ]
  },
  {
   "cell_type": "code",
   "execution_count": 15,
   "id": "4c366dd2",
   "metadata": {},
   "outputs": [
    {
     "name": "stdout",
     "output_type": "stream",
     "text": [
      "1.5\n",
      "2\n"
     ]
    }
   ],
   "source": [
    "import heapq\n",
    "\n",
    "class MedianFinder:\n",
    "    def __init__(self):\n",
    "        self.min_heap = []  # To store the larger half of numbers\n",
    "        self.max_heap = []  # To store the smaller half of numbers\n",
    "\n",
    "    def addNum(self, num):\n",
    "        if not self.max_heap or num <= -self.max_heap[0]:\n",
    "            heapq.heappush(self.max_heap, -num)\n",
    "        else:\n",
    "            heapq.heappush(self.min_heap, num)\n",
    "        \n",
    "        # Balance the heaps if necessary\n",
    "        if len(self.max_heap) > len(self.min_heap) + 1:\n",
    "            heapq.heappush(self.min_heap, -heapq.heappop(self.max_heap))\n",
    "        elif len(self.min_heap) > len(self.max_heap):\n",
    "            heapq.heappush(self.max_heap, -heapq.heappop(self.min_heap))\n",
    "\n",
    "    def findMedian(self):\n",
    "        if len(self.max_heap) == len(self.min_heap):\n",
    "            return (-self.max_heap[0] + self.min_heap[0]) / 2\n",
    "        else:\n",
    "            return -self.max_heap[0]\n",
    "\n",
    "# Example usage\n",
    "median_finder = MedianFinder()\n",
    "median_finder.addNum(1)\n",
    "median_finder.addNum(2)\n",
    "print(median_finder.findMedian())  # Output: 1.5\n",
    "median_finder.addNum(3)\n",
    "print(median_finder.findMedian())  # Output: 2.0\n"
   ]
  },
  {
   "cell_type": "markdown",
   "id": "c3666935",
   "metadata": {},
   "source": [
    "# Binary Heap Operations"
   ]
  },
  {
   "cell_type": "markdown",
   "id": "12f3ed07",
   "metadata": {},
   "source": [
    "A binary heap is a Binary Tree with the following properties:\n",
    "\n",
    "1) Its a complete tree (All levels are completely filled except possibly the last level and the last level has all keys as left as possible). This property of Binary Heap makes them suitable to be stored in an array.\n",
    "\n",
    "2) A Binary Heap is either Min Heap or Max Heap. In a Min Binary Heap, the key at the root must be minimum among all keys present in Binary Heap. The same property must be recursively true for all nodes in Binary Tree. Max Binary Heap is similar to MinHeap.\n",
    "\n",
    "You are given an empty Binary Min Heap and some queries and your task is to implement the three methods insertKey,  deleteKey,  and extractMin on the Binary Min Heap and call them as per the query given below:\n",
    "\n",
    "1) 1  x  (a query of this type means to insert an element in the min-heap with value x )\n",
    "\n",
    "2) 2  x  (a query of this type means to remove an element at position x from the min-heap)\n",
    "\n",
    "3) 3  (a query like this removes the min element from the min-heap and prints it )."
   ]
  },
  {
   "cell_type": "code",
   "execution_count": 17,
   "id": "442e45c2",
   "metadata": {},
   "outputs": [
    {
     "name": "stdout",
     "output_type": "stream",
     "text": [
      "-inf\n",
      "2\n",
      "4\n"
     ]
    }
   ],
   "source": [
    "# Global variables to maintain heap properties\n",
    "heap = []  # The heap as a list\n",
    "curr_size = 0  # Current size of the heap\n",
    "\n",
    "# Function to adjust the heap by moving the element down to its correct position\n",
    "def heapify(i):\n",
    "    global curr_size, heap\n",
    "    \n",
    "    smallest = i\n",
    "    left_child = 2 * i + 1\n",
    "    right_child = 2 * i + 2\n",
    "    \n",
    "    # Compare with left child\n",
    "    if left_child < curr_size and heap[smallest] > heap[left_child]:\n",
    "        smallest = left_child\n",
    "    \n",
    "    # Compare with right child\n",
    "    if right_child < curr_size and heap[smallest] > heap[right_child]:\n",
    "        smallest = right_child\n",
    "    \n",
    "    # Swap if needed and continue heapifying\n",
    "    if smallest != i:\n",
    "        heap[smallest], heap[i] = heap[i], heap[smallest]\n",
    "        heapify(smallest)\n",
    "        \n",
    "# Function to adjust the heap by moving the element up to its correct position\n",
    "def heapify_up(i):\n",
    "    global heap\n",
    "    \n",
    "    parent = (i - 1) // 2\n",
    "\n",
    "    while parent >= 0 and heap[parent] > heap[i]:\n",
    "        heap[parent], heap[i] = heap[i], heap[parent]\n",
    "        i, parent = parent, (parent - 1) // 2\n",
    "\n",
    "# Function to insert a value into the heap\n",
    "def insertKey(x):\n",
    "    global curr_size, heap\n",
    "    heap.append(x)  # Append the value to the end\n",
    "    curr_size += 1\n",
    "    heapify_up(curr_size - 1)  # Move the value to its correct position\n",
    "    \n",
    "# Function to delete a key at the given index\n",
    "def deleteKey(i):\n",
    "    global heap, curr_size\n",
    "    if i >= curr_size:\n",
    "        return -1  # Invalid index\n",
    "    \n",
    "    heap[i] = float('-inf')  # Set the element at index i to negative infinity\n",
    "    heapify_up(i)  # Move the element to its correct position\n",
    "    extractMin()  # Remove the minimum element\n",
    "    \n",
    "# Function to extract the minimum value from the heap\n",
    "def extractMin():\n",
    "    global heap, curr_size\n",
    "    if curr_size == 0:\n",
    "        return -1  # Heap is empty\n",
    "    \n",
    "    heap[0], heap[curr_size - 1] = heap[curr_size - 1], heap[0]  # Swap root with last element\n",
    "    r = heap[curr_size - 1]  # Extract the minimum value\n",
    "    curr_size -= 1\n",
    "    heapify(0)  # Heapify the root\n",
    "    return r  # Return the extracted minimum value\n",
    "\n",
    "# Example usage\n",
    "insertKey(3)\n",
    "insertKey(2)\n",
    "deleteKey(1)\n",
    "insertKey(15)\n",
    "insertKey(5)\n",
    "insertKey(4)\n",
    "insertKey(45)\n",
    "\n",
    "print(extractMin())  # Output: 2\n",
    "print(extractMin())  # Output: 3\n",
    "print(extractMin())  # Output: 4\n"
   ]
  },
  {
   "cell_type": "code",
   "execution_count": null,
   "id": "b25f0e7b",
   "metadata": {},
   "outputs": [],
   "source": []
  }
 ],
 "metadata": {
  "kernelspec": {
   "display_name": "Python 3 (ipykernel)",
   "language": "python",
   "name": "python3"
  },
  "language_info": {
   "codemirror_mode": {
    "name": "ipython",
    "version": 3
   },
   "file_extension": ".py",
   "mimetype": "text/x-python",
   "name": "python",
   "nbconvert_exporter": "python",
   "pygments_lexer": "ipython3",
   "version": "3.9.12"
  }
 },
 "nbformat": 4,
 "nbformat_minor": 5
}
